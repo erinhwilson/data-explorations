{
 "cells": [
  {
   "cell_type": "markdown",
   "id": "ff5dfdc1",
   "metadata": {},
   "source": [
    "# Visualizing my job search process in 2023\n",
    "1. Sankey flow of job applications to results\n",
    "2. Tracking flow of applications, informational chats, and formal interviews"
   ]
  },
  {
   "cell_type": "code",
   "execution_count": 1,
   "id": "6632bcb6",
   "metadata": {},
   "outputs": [],
   "source": [
    "import altair as alt\n",
    "import matplotlib.pyplot as plt\n",
    "import numpy as np\n",
    "import pandas as pd\n",
    "import seaborn as sns"
   ]
  },
  {
   "cell_type": "markdown",
   "id": "c466e542",
   "metadata": {},
   "source": [
    "## 1. Job application results"
   ]
  },
  {
   "cell_type": "code",
   "execution_count": 2,
   "id": "30c13078",
   "metadata": {},
   "outputs": [
    {
     "data": {
      "text/html": [
       "<div>\n",
       "<style scoped>\n",
       "    .dataframe tbody tr th:only-of-type {\n",
       "        vertical-align: middle;\n",
       "    }\n",
       "\n",
       "    .dataframe tbody tr th {\n",
       "        vertical-align: top;\n",
       "    }\n",
       "\n",
       "    .dataframe thead th {\n",
       "        text-align: right;\n",
       "    }\n",
       "</style>\n",
       "<table border=\"1\" class=\"dataframe\">\n",
       "  <thead>\n",
       "    <tr style=\"text-align: right;\">\n",
       "      <th></th>\n",
       "      <th>id</th>\n",
       "      <th>company</th>\n",
       "      <th>title</th>\n",
       "      <th>app_response</th>\n",
       "      <th>interview</th>\n",
       "      <th>offer</th>\n",
       "      <th>personal_contact</th>\n",
       "    </tr>\n",
       "  </thead>\n",
       "  <tbody>\n",
       "    <tr>\n",
       "      <th>0</th>\n",
       "      <td>1</td>\n",
       "      <td>X</td>\n",
       "      <td>PhD Residency</td>\n",
       "      <td>Lost to the Abyss</td>\n",
       "      <td>NaN</td>\n",
       "      <td>No</td>\n",
       "      <td>Yes</td>\n",
       "    </tr>\n",
       "    <tr>\n",
       "      <th>1</th>\n",
       "      <td>2</td>\n",
       "      <td>Adaptive</td>\n",
       "      <td>Computational Biologist II</td>\n",
       "      <td>Automated Reject</td>\n",
       "      <td>NaN</td>\n",
       "      <td>No</td>\n",
       "      <td>Yes</td>\n",
       "    </tr>\n",
       "    <tr>\n",
       "      <th>2</th>\n",
       "      <td>3</td>\n",
       "      <td>MSR AI4Science</td>\n",
       "      <td>Intern</td>\n",
       "      <td>Lost to the Abyss</td>\n",
       "      <td>NaN</td>\n",
       "      <td>No</td>\n",
       "      <td>Yes</td>\n",
       "    </tr>\n",
       "    <tr>\n",
       "      <th>3</th>\n",
       "      <td>4</td>\n",
       "      <td>Google Research</td>\n",
       "      <td>Data Science Intern</td>\n",
       "      <td>Lost to the Abyss</td>\n",
       "      <td>NaN</td>\n",
       "      <td>No</td>\n",
       "      <td>Yes</td>\n",
       "    </tr>\n",
       "    <tr>\n",
       "      <th>4</th>\n",
       "      <td>5</td>\n",
       "      <td>X</td>\n",
       "      <td>PhD Residency - Planetary Health</td>\n",
       "      <td>Lost to the Abyss</td>\n",
       "      <td>NaN</td>\n",
       "      <td>No</td>\n",
       "      <td>Yes</td>\n",
       "    </tr>\n",
       "    <tr>\n",
       "      <th>...</th>\n",
       "      <td>...</td>\n",
       "      <td>...</td>\n",
       "      <td>...</td>\n",
       "      <td>...</td>\n",
       "      <td>...</td>\n",
       "      <td>...</td>\n",
       "      <td>...</td>\n",
       "    </tr>\n",
       "    <tr>\n",
       "      <th>75</th>\n",
       "      <td>76</td>\n",
       "      <td>Ginkgo</td>\n",
       "      <td>ML/AI Engineer - RNA/DNA Design</td>\n",
       "      <td>Interview Request</td>\n",
       "      <td>Job Talk</td>\n",
       "      <td>Yes</td>\n",
       "      <td>Yes</td>\n",
       "    </tr>\n",
       "    <tr>\n",
       "      <th>76</th>\n",
       "      <td>77</td>\n",
       "      <td>Amazon</td>\n",
       "      <td>Research Scientist - Sustainability</td>\n",
       "      <td>Lost to the Abyss</td>\n",
       "      <td>NaN</td>\n",
       "      <td>No</td>\n",
       "      <td>No</td>\n",
       "    </tr>\n",
       "    <tr>\n",
       "      <th>77</th>\n",
       "      <td>78</td>\n",
       "      <td>Funga</td>\n",
       "      <td>Bioinformatician</td>\n",
       "      <td>Interview Request</td>\n",
       "      <td>Terminated</td>\n",
       "      <td>Unknown</td>\n",
       "      <td>Yes</td>\n",
       "    </tr>\n",
       "    <tr>\n",
       "      <th>78</th>\n",
       "      <td>79</td>\n",
       "      <td>Allonnia</td>\n",
       "      <td>Data Scientist</td>\n",
       "      <td>Interview Request</td>\n",
       "      <td>NaN</td>\n",
       "      <td>Unknown</td>\n",
       "      <td>No</td>\n",
       "    </tr>\n",
       "    <tr>\n",
       "      <th>79</th>\n",
       "      <td>80</td>\n",
       "      <td>NOAA</td>\n",
       "      <td>Data Scientist</td>\n",
       "      <td>Automated Reject</td>\n",
       "      <td>NaN</td>\n",
       "      <td>No</td>\n",
       "      <td>Yes</td>\n",
       "    </tr>\n",
       "  </tbody>\n",
       "</table>\n",
       "<p>80 rows × 7 columns</p>\n",
       "</div>"
      ],
      "text/plain": [
       "    id          company                                title  \\\n",
       "0    1                X                        PhD Residency   \n",
       "1    2         Adaptive           Computational Biologist II   \n",
       "2    3   MSR AI4Science                               Intern   \n",
       "3    4  Google Research                  Data Science Intern   \n",
       "4    5                X     PhD Residency - Planetary Health   \n",
       "..  ..              ...                                  ...   \n",
       "75  76           Ginkgo      ML/AI Engineer - RNA/DNA Design   \n",
       "76  77           Amazon  Research Scientist - Sustainability   \n",
       "77  78            Funga                     Bioinformatician   \n",
       "78  79         Allonnia                       Data Scientist   \n",
       "79  80             NOAA                       Data Scientist   \n",
       "\n",
       "         app_response   interview    offer personal_contact  \n",
       "0   Lost to the Abyss         NaN       No              Yes  \n",
       "1    Automated Reject         NaN       No              Yes  \n",
       "2   Lost to the Abyss         NaN       No              Yes  \n",
       "3   Lost to the Abyss         NaN       No              Yes  \n",
       "4   Lost to the Abyss         NaN       No              Yes  \n",
       "..                ...         ...      ...              ...  \n",
       "75  Interview Request    Job Talk      Yes              Yes  \n",
       "76  Lost to the Abyss         NaN       No               No  \n",
       "77  Interview Request  Terminated  Unknown              Yes  \n",
       "78  Interview Request         NaN  Unknown               No  \n",
       "79   Automated Reject         NaN       No              Yes  \n",
       "\n",
       "[80 rows x 7 columns]"
      ]
     },
     "execution_count": 2,
     "metadata": {},
     "output_type": "execute_result"
    }
   ],
   "source": [
    "df = pd.read_csv('data/job_apps_2023.txt',sep='\\t')\n",
    "df"
   ]
  },
  {
   "cell_type": "code",
   "execution_count": 15,
   "id": "71e29fbb",
   "metadata": {},
   "outputs": [],
   "source": [
    "# Counts on application paths\n",
    "counts = {}"
   ]
  },
  {
   "cell_type": "code",
   "execution_count": 16,
   "id": "3f6849ba",
   "metadata": {},
   "outputs": [
    {
     "data": {
      "text/plain": [
       "{('Job Applications', 'Personal Contact'): 42,\n",
       " ('Job Applications', 'Cold Applied'): 38}"
      ]
     },
     "execution_count": 16,
     "metadata": {},
     "output_type": "execute_result"
    }
   ],
   "source": [
    "# Job App with Personal Contact counts\n",
    "pc = df[df['personal_contact']=='Yes']\n",
    "counts[(\"Job Applications\",\"Personal Contact\")] = pc.shape[0]\n",
    "\n",
    "# Job App with Cold Applied counts\n",
    "cold = df[df['personal_contact']!='Yes']\n",
    "counts[(\"Job Applications\",\"Cold Applied\")] = cold.shape[0]\n",
    "\n",
    "counts"
   ]
  },
  {
   "cell_type": "code",
   "execution_count": 17,
   "id": "cf1355a8",
   "metadata": {},
   "outputs": [
    {
     "data": {
      "text/plain": [
       "{('Job Applications', 'Personal Contact'): 42,\n",
       " ('Job Applications', 'Cold Applied'): 38,\n",
       " ('Personal Contact', 'Lost to the Abyss'): 22,\n",
       " ('Personal Contact', 'Interview Request'): 11,\n",
       " ('Personal Contact', 'Automated Reject'): 6,\n",
       " ('Personal Contact', 'Human Reject'): 3,\n",
       " ('Cold Applied', 'Lost to the Abyss'): 19,\n",
       " ('Cold Applied', 'Automated Reject'): 15,\n",
       " ('Cold Applied', 'Interview Request'): 4}"
      ]
     },
     "execution_count": 17,
     "metadata": {},
     "output_type": "execute_result"
    }
   ],
   "source": [
    "# Personal contact value counts\n",
    "pc_vc = pc['app_response'].value_counts()\n",
    "# Cold applied value counts\n",
    "cold_vc = cold['app_response'].value_counts()\n",
    "\n",
    "# response counts for personal contact\n",
    "for key in pc_vc.keys():\n",
    "    counts[(\"Personal Contact\",key)] = pc_vc[key]\n",
    "\n",
    "# response counts for cold applies\n",
    "for key in cold_vc.keys():\n",
    "    counts[(\"Cold Applied\",key)] = cold_vc[key]\n",
    "    \n",
    "counts"
   ]
  },
  {
   "cell_type": "code",
   "execution_count": 18,
   "id": "f92ba056",
   "metadata": {},
   "outputs": [
    {
     "data": {
      "text/plain": [
       "{'Initial Screen': 12, 'Meet Team': 6, 'Job Talk': 3, 'Terminated': 1}"
      ]
     },
     "execution_count": 18,
     "metadata": {},
     "output_type": "execute_result"
    }
   ],
   "source": [
    "# interview request counts\n",
    "int_vc = df['interview'].value_counts()\n",
    "\n",
    "# define the flow of which interview types fed into counts of the others\n",
    "# aka Job Talks were always preceeded by an initial screen and meeting more team members\n",
    "int_flow = {\n",
    "    'Initial Screen':['Initial Screen','Meet Team','Job Talk','Terminated'],\n",
    "    'Meet Team':['Meet Team','Job Talk'],\n",
    "    'Job Talk':['Job Talk'],\n",
    "    'Terminated':['Terminated']\n",
    "}\n",
    "\n",
    "# sum the counts of interview types that are subsets of others\n",
    "int_counts = {}\n",
    "for y in int_flow:\n",
    "    int_counts[y] = sum([int_vc[x] for x in int_flow[y]])\n",
    "\n",
    "int_counts"
   ]
  },
  {
   "cell_type": "code",
   "execution_count": 19,
   "id": "a7bf2d0e",
   "metadata": {},
   "outputs": [
    {
     "name": "stdout",
     "output_type": "stream",
     "text": [
      "Automated Reject No 21\n",
      "Human Reject No 3\n",
      "Lost to the Abyss No 41\n",
      "INT NO SCREEN\n",
      " Unknown 3\n",
      "Initial Screen No 5\n",
      "Job Talk No 1\n",
      "Job Talk Yes 2\n",
      "Meet Team No 3\n",
      "Terminated Unknown 1\n"
     ]
    },
    {
     "data": {
      "text/plain": [
       "{('Job Applications', 'Personal Contact'): 42,\n",
       " ('Job Applications', 'Cold Applied'): 38,\n",
       " ('Personal Contact', 'Lost to the Abyss'): 22,\n",
       " ('Personal Contact', 'Interview Request'): 11,\n",
       " ('Personal Contact', 'Automated Reject'): 6,\n",
       " ('Personal Contact', 'Human Reject'): 3,\n",
       " ('Cold Applied', 'Lost to the Abyss'): 19,\n",
       " ('Cold Applied', 'Automated Reject'): 15,\n",
       " ('Cold Applied', 'Interview Request'): 4,\n",
       " ('Automated Reject', 'No'): 21,\n",
       " ('Human Reject', 'No'): 3,\n",
       " ('Lost to the Abyss', 'No'): 41,\n",
       " ('Interview Request', 'Unknown'): 3,\n",
       " ('Initial Screen', 'No'): 5,\n",
       " ('Job Talk', 'No'): 1,\n",
       " ('Job Talk', 'Yes'): 2,\n",
       " ('Meet Team', 'No'): 3,\n",
       " ('Terminated', 'Unknown'): 1}"
      ]
     },
     "execution_count": 19,
     "metadata": {},
     "output_type": "execute_result"
    }
   ],
   "source": [
    "# group by application reponse and final offer result \n",
    "dfg = df.groupby([\"app_response\",\"offer\"])\n",
    "\n",
    "# group interview types by final offer result\n",
    "intg = df.fillna('')[df['app_response']=='Interview Request'].groupby(['interview',\"offer\"])\n",
    "\n",
    "# Count number of rejections to final offer results\n",
    "for response, result in dfg.groups:\n",
    "    if response != \"Interview Request\":\n",
    "        c = dfg.get_group((response,result)).shape[0]\n",
    "        counts[(response,result)] = c\n",
    "        print(response, result, c)\n",
    "\n",
    "# Count number of interview types to final offer results\n",
    "for interview,result in intg.groups:\n",
    "    c = intg.get_group((interview,result)).shape[0]\n",
    "    #print(\"INT RES\", interview, result)\n",
    "    if interview == '':\n",
    "        print(\"INT NO SCREEN\")\n",
    "        counts[(\"Interview Request\",result)] = c\n",
    "    else:\n",
    "        counts[(interview,result)] = c\n",
    "    print(interview, result,c)\n",
    "\n",
    "counts"
   ]
  },
  {
   "cell_type": "code",
   "execution_count": 20,
   "id": "2b29768b",
   "metadata": {},
   "outputs": [
    {
     "data": {
      "text/plain": [
       "{('Job Applications', 'Personal Contact'): 42,\n",
       " ('Job Applications', 'Cold Applied'): 38,\n",
       " ('Personal Contact', 'Lost to the Abyss'): 22,\n",
       " ('Personal Contact', 'Interview Request'): 11,\n",
       " ('Personal Contact', 'Automated Reject'): 6,\n",
       " ('Personal Contact', 'Human Reject'): 3,\n",
       " ('Cold Applied', 'Lost to the Abyss'): 19,\n",
       " ('Cold Applied', 'Automated Reject'): 15,\n",
       " ('Cold Applied', 'Interview Request'): 4,\n",
       " ('Automated Reject', 'No'): 21,\n",
       " ('Human Reject', 'No'): 3,\n",
       " ('Lost to the Abyss', 'No'): 41,\n",
       " ('Interview Request', 'Unknown'): 3,\n",
       " ('Initial Screen', 'No'): 5,\n",
       " ('Job Talk', 'No'): 1,\n",
       " ('Job Talk', 'Yes'): 2,\n",
       " ('Meet Team', 'No'): 3,\n",
       " ('Terminated', 'Unknown'): 1,\n",
       " ('Interview Request', 'Initial Screen'): 12,\n",
       " ('Initial Screen', 'Meet Team'): 6,\n",
       " ('Meet Team', 'Job Talk'): 3,\n",
       " ('Initial Screen', 'Terminated'): 1}"
      ]
     },
     "execution_count": 20,
     "metadata": {},
     "output_type": "execute_result"
    }
   ],
   "source": [
    "# manually set these counts based on the tree structure I have in my head\n",
    "counts[(\"Interview Request\",\"Initial Screen\")] = int_counts['Initial Screen']\n",
    "counts[(\"Initial Screen\",\"Meet Team\")] = int_counts['Meet Team']\n",
    "counts[(\"Meet Team\",\"Job Talk\")] = int_counts['Job Talk']\n",
    "counts[(\"Initial Screen\",\"Terminated\")] = int_counts['Terminated']\n",
    "counts"
   ]
  },
  {
   "cell_type": "code",
   "execution_count": 21,
   "id": "8ac07d3c",
   "metadata": {},
   "outputs": [
    {
     "data": {
      "text/html": [
       "<div>\n",
       "<style scoped>\n",
       "    .dataframe tbody tr th:only-of-type {\n",
       "        vertical-align: middle;\n",
       "    }\n",
       "\n",
       "    .dataframe tbody tr th {\n",
       "        vertical-align: top;\n",
       "    }\n",
       "\n",
       "    .dataframe thead th {\n",
       "        text-align: right;\n",
       "    }\n",
       "</style>\n",
       "<table border=\"1\" class=\"dataframe\">\n",
       "  <thead>\n",
       "    <tr style=\"text-align: right;\">\n",
       "      <th></th>\n",
       "      <th>source</th>\n",
       "      <th>target</th>\n",
       "      <th>count</th>\n",
       "      <th>node_sort1</th>\n",
       "      <th>node_sort2</th>\n",
       "    </tr>\n",
       "  </thead>\n",
       "  <tbody>\n",
       "    <tr>\n",
       "      <th>0</th>\n",
       "      <td>Job Applications</td>\n",
       "      <td>Personal Contact</td>\n",
       "      <td>42</td>\n",
       "      <td>Job Applications</td>\n",
       "      <td>Personal Contact</td>\n",
       "    </tr>\n",
       "    <tr>\n",
       "      <th>1</th>\n",
       "      <td>Job Applications</td>\n",
       "      <td>Cold Applied</td>\n",
       "      <td>38</td>\n",
       "      <td>Job Applications</td>\n",
       "      <td>Cold Applied</td>\n",
       "    </tr>\n",
       "    <tr>\n",
       "      <th>2</th>\n",
       "      <td>Personal Contact</td>\n",
       "      <td>Lost to the Abyss</td>\n",
       "      <td>22</td>\n",
       "      <td>Personal Contact</td>\n",
       "      <td>Lost to the Abyss</td>\n",
       "    </tr>\n",
       "    <tr>\n",
       "      <th>4</th>\n",
       "      <td>Personal Contact</td>\n",
       "      <td>Automated Reject</td>\n",
       "      <td>6</td>\n",
       "      <td>Personal Contact</td>\n",
       "      <td>Automated Reject</td>\n",
       "    </tr>\n",
       "    <tr>\n",
       "      <th>5</th>\n",
       "      <td>Personal Contact</td>\n",
       "      <td>Human Reject</td>\n",
       "      <td>3</td>\n",
       "      <td>Personal Contact</td>\n",
       "      <td>Human Reject</td>\n",
       "    </tr>\n",
       "    <tr>\n",
       "      <th>3</th>\n",
       "      <td>Personal Contact</td>\n",
       "      <td>Interview Request</td>\n",
       "      <td>11</td>\n",
       "      <td>Personal Contact</td>\n",
       "      <td>Interview Request</td>\n",
       "    </tr>\n",
       "    <tr>\n",
       "      <th>6</th>\n",
       "      <td>Cold Applied</td>\n",
       "      <td>Lost to the Abyss</td>\n",
       "      <td>19</td>\n",
       "      <td>Cold Applied</td>\n",
       "      <td>Lost to the Abyss</td>\n",
       "    </tr>\n",
       "    <tr>\n",
       "      <th>7</th>\n",
       "      <td>Cold Applied</td>\n",
       "      <td>Automated Reject</td>\n",
       "      <td>15</td>\n",
       "      <td>Cold Applied</td>\n",
       "      <td>Automated Reject</td>\n",
       "    </tr>\n",
       "    <tr>\n",
       "      <th>8</th>\n",
       "      <td>Cold Applied</td>\n",
       "      <td>Interview Request</td>\n",
       "      <td>4</td>\n",
       "      <td>Cold Applied</td>\n",
       "      <td>Interview Request</td>\n",
       "    </tr>\n",
       "    <tr>\n",
       "      <th>11</th>\n",
       "      <td>Lost to the Abyss</td>\n",
       "      <td>No</td>\n",
       "      <td>41</td>\n",
       "      <td>Lost to the Abyss</td>\n",
       "      <td>No</td>\n",
       "    </tr>\n",
       "    <tr>\n",
       "      <th>9</th>\n",
       "      <td>Automated Reject</td>\n",
       "      <td>No</td>\n",
       "      <td>21</td>\n",
       "      <td>Automated Reject</td>\n",
       "      <td>No</td>\n",
       "    </tr>\n",
       "    <tr>\n",
       "      <th>10</th>\n",
       "      <td>Human Reject</td>\n",
       "      <td>No</td>\n",
       "      <td>3</td>\n",
       "      <td>Human Reject</td>\n",
       "      <td>No</td>\n",
       "    </tr>\n",
       "    <tr>\n",
       "      <th>18</th>\n",
       "      <td>Interview Request</td>\n",
       "      <td>Initial Screen</td>\n",
       "      <td>12</td>\n",
       "      <td>Interview Request</td>\n",
       "      <td>Initial Screen</td>\n",
       "    </tr>\n",
       "    <tr>\n",
       "      <th>12</th>\n",
       "      <td>Interview Request</td>\n",
       "      <td>Unknown</td>\n",
       "      <td>3</td>\n",
       "      <td>Interview Request</td>\n",
       "      <td>Unknown</td>\n",
       "    </tr>\n",
       "    <tr>\n",
       "      <th>19</th>\n",
       "      <td>Initial Screen</td>\n",
       "      <td>Meet Team</td>\n",
       "      <td>6</td>\n",
       "      <td>Initial Screen</td>\n",
       "      <td>Meet Team</td>\n",
       "    </tr>\n",
       "    <tr>\n",
       "      <th>21</th>\n",
       "      <td>Initial Screen</td>\n",
       "      <td>Terminated</td>\n",
       "      <td>1</td>\n",
       "      <td>Initial Screen</td>\n",
       "      <td>Terminated</td>\n",
       "    </tr>\n",
       "    <tr>\n",
       "      <th>13</th>\n",
       "      <td>Initial Screen</td>\n",
       "      <td>No</td>\n",
       "      <td>5</td>\n",
       "      <td>Initial Screen</td>\n",
       "      <td>No</td>\n",
       "    </tr>\n",
       "    <tr>\n",
       "      <th>20</th>\n",
       "      <td>Meet Team</td>\n",
       "      <td>Job Talk</td>\n",
       "      <td>3</td>\n",
       "      <td>Meet Team</td>\n",
       "      <td>Job Talk</td>\n",
       "    </tr>\n",
       "    <tr>\n",
       "      <th>16</th>\n",
       "      <td>Meet Team</td>\n",
       "      <td>No</td>\n",
       "      <td>3</td>\n",
       "      <td>Meet Team</td>\n",
       "      <td>No</td>\n",
       "    </tr>\n",
       "    <tr>\n",
       "      <th>14</th>\n",
       "      <td>Job Talk</td>\n",
       "      <td>No</td>\n",
       "      <td>1</td>\n",
       "      <td>Job Talk</td>\n",
       "      <td>No</td>\n",
       "    </tr>\n",
       "    <tr>\n",
       "      <th>15</th>\n",
       "      <td>Job Talk</td>\n",
       "      <td>Yes</td>\n",
       "      <td>2</td>\n",
       "      <td>Job Talk</td>\n",
       "      <td>Yes</td>\n",
       "    </tr>\n",
       "    <tr>\n",
       "      <th>17</th>\n",
       "      <td>Terminated</td>\n",
       "      <td>Unknown</td>\n",
       "      <td>1</td>\n",
       "      <td>Terminated</td>\n",
       "      <td>Unknown</td>\n",
       "    </tr>\n",
       "  </tbody>\n",
       "</table>\n",
       "</div>"
      ],
      "text/plain": [
       "               source             target  count         node_sort1  \\\n",
       "0    Job Applications   Personal Contact     42   Job Applications   \n",
       "1    Job Applications       Cold Applied     38   Job Applications   \n",
       "2    Personal Contact  Lost to the Abyss     22   Personal Contact   \n",
       "4    Personal Contact   Automated Reject      6   Personal Contact   \n",
       "5    Personal Contact       Human Reject      3   Personal Contact   \n",
       "3    Personal Contact  Interview Request     11   Personal Contact   \n",
       "6        Cold Applied  Lost to the Abyss     19       Cold Applied   \n",
       "7        Cold Applied   Automated Reject     15       Cold Applied   \n",
       "8        Cold Applied  Interview Request      4       Cold Applied   \n",
       "11  Lost to the Abyss                 No     41  Lost to the Abyss   \n",
       "9    Automated Reject                 No     21   Automated Reject   \n",
       "10       Human Reject                 No      3       Human Reject   \n",
       "18  Interview Request     Initial Screen     12  Interview Request   \n",
       "12  Interview Request            Unknown      3  Interview Request   \n",
       "19     Initial Screen          Meet Team      6     Initial Screen   \n",
       "21     Initial Screen         Terminated      1     Initial Screen   \n",
       "13     Initial Screen                 No      5     Initial Screen   \n",
       "20          Meet Team           Job Talk      3          Meet Team   \n",
       "16          Meet Team                 No      3          Meet Team   \n",
       "14           Job Talk                 No      1           Job Talk   \n",
       "15           Job Talk                Yes      2           Job Talk   \n",
       "17         Terminated            Unknown      1         Terminated   \n",
       "\n",
       "           node_sort2  \n",
       "0    Personal Contact  \n",
       "1        Cold Applied  \n",
       "2   Lost to the Abyss  \n",
       "4    Automated Reject  \n",
       "5        Human Reject  \n",
       "3   Interview Request  \n",
       "6   Lost to the Abyss  \n",
       "7    Automated Reject  \n",
       "8   Interview Request  \n",
       "11                 No  \n",
       "9                  No  \n",
       "10                 No  \n",
       "18     Initial Screen  \n",
       "12            Unknown  \n",
       "19          Meet Team  \n",
       "21         Terminated  \n",
       "13                 No  \n",
       "20           Job Talk  \n",
       "16                 No  \n",
       "14                 No  \n",
       "15                Yes  \n",
       "17            Unknown  "
      ]
     },
     "execution_count": 21,
     "metadata": {},
     "output_type": "execute_result"
    }
   ],
   "source": [
    "# convert to pandas dataframe\n",
    "sank_data2 = []\n",
    "for (s,t) in counts:\n",
    "    sank_data2.append([s,t,counts[(s,t)]])\n",
    "    \n",
    "node_sort = ['Job Applications','Personal Contact','Cold Applied',\n",
    "             'Lost to the Abyss','Automated Reject','Human Reject','Interview Request',\n",
    "             'Initial Screen','Meet Team','Job Talk','Terminated',\n",
    "             'No','Yes','Unknown']\n",
    "\n",
    "sdf = pd.DataFrame(sank_data2,columns = ['source','target','count'])\n",
    "sdf['node_sort1'] = pd.Categorical(sdf['source'], node_sort,ordered=True)\n",
    "sdf['node_sort2'] = pd.Categorical(sdf['target'], node_sort)\n",
    "sdf.sort_values(['node_sort1','node_sort2'],inplace=True)\n",
    "sdf"
   ]
  },
  {
   "cell_type": "code",
   "execution_count": 22,
   "id": "55165557",
   "metadata": {},
   "outputs": [],
   "source": [
    "sdf[['source','target','count']].to_csv('data/sankey_data.csv')"
   ]
  },
  {
   "cell_type": "markdown",
   "id": "271ca4a4",
   "metadata": {},
   "source": [
    "## Create Sankey viz in Plotly"
   ]
  },
  {
   "cell_type": "code",
   "execution_count": 23,
   "id": "685868a2",
   "metadata": {},
   "outputs": [],
   "source": [
    "# plotly version\n",
    "import plotly.graph_objects as go\n"
   ]
  },
  {
   "cell_type": "code",
   "execution_count": 24,
   "id": "968e8826",
   "metadata": {
    "scrolled": false
   },
   "outputs": [
    {
     "data": {
      "application/vnd.plotly.v1+json": {
       "config": {
        "plotlyServerURL": "https://plotly.com"
       },
       "data": [
        {
         "arrangement": "snap",
         "link": {
          "source": [
           0,
           0,
           1,
           2,
           5,
           4,
           3,
           5
          ],
          "target": [
           5,
           3,
           4,
           3,
           0,
           2,
           2,
           3
          ],
          "value": [
           1,
           2,
           1,
           1,
           1,
           1,
           1,
           2
          ]
         },
         "node": {
          "label": [
           "A",
           "B",
           "C",
           "D",
           "E",
           "F"
          ],
          "pad": 10,
          "x": [
           0.2,
           0.1,
           0.5,
           0.7,
           0.3,
           0.5
          ],
          "y": [
           0.7,
           0.5,
           0.2,
           0.4,
           0.2,
           0.3
          ]
         },
         "type": "sankey"
        }
       ],
       "layout": {
        "template": {
         "data": {
          "bar": [
           {
            "error_x": {
             "color": "#2a3f5f"
            },
            "error_y": {
             "color": "#2a3f5f"
            },
            "marker": {
             "line": {
              "color": "#E5ECF6",
              "width": 0.5
             },
             "pattern": {
              "fillmode": "overlay",
              "size": 10,
              "solidity": 0.2
             }
            },
            "type": "bar"
           }
          ],
          "barpolar": [
           {
            "marker": {
             "line": {
              "color": "#E5ECF6",
              "width": 0.5
             },
             "pattern": {
              "fillmode": "overlay",
              "size": 10,
              "solidity": 0.2
             }
            },
            "type": "barpolar"
           }
          ],
          "carpet": [
           {
            "aaxis": {
             "endlinecolor": "#2a3f5f",
             "gridcolor": "white",
             "linecolor": "white",
             "minorgridcolor": "white",
             "startlinecolor": "#2a3f5f"
            },
            "baxis": {
             "endlinecolor": "#2a3f5f",
             "gridcolor": "white",
             "linecolor": "white",
             "minorgridcolor": "white",
             "startlinecolor": "#2a3f5f"
            },
            "type": "carpet"
           }
          ],
          "choropleth": [
           {
            "colorbar": {
             "outlinewidth": 0,
             "ticks": ""
            },
            "type": "choropleth"
           }
          ],
          "contour": [
           {
            "colorbar": {
             "outlinewidth": 0,
             "ticks": ""
            },
            "colorscale": [
             [
              0,
              "#0d0887"
             ],
             [
              0.1111111111111111,
              "#46039f"
             ],
             [
              0.2222222222222222,
              "#7201a8"
             ],
             [
              0.3333333333333333,
              "#9c179e"
             ],
             [
              0.4444444444444444,
              "#bd3786"
             ],
             [
              0.5555555555555556,
              "#d8576b"
             ],
             [
              0.6666666666666666,
              "#ed7953"
             ],
             [
              0.7777777777777778,
              "#fb9f3a"
             ],
             [
              0.8888888888888888,
              "#fdca26"
             ],
             [
              1,
              "#f0f921"
             ]
            ],
            "type": "contour"
           }
          ],
          "contourcarpet": [
           {
            "colorbar": {
             "outlinewidth": 0,
             "ticks": ""
            },
            "type": "contourcarpet"
           }
          ],
          "heatmap": [
           {
            "colorbar": {
             "outlinewidth": 0,
             "ticks": ""
            },
            "colorscale": [
             [
              0,
              "#0d0887"
             ],
             [
              0.1111111111111111,
              "#46039f"
             ],
             [
              0.2222222222222222,
              "#7201a8"
             ],
             [
              0.3333333333333333,
              "#9c179e"
             ],
             [
              0.4444444444444444,
              "#bd3786"
             ],
             [
              0.5555555555555556,
              "#d8576b"
             ],
             [
              0.6666666666666666,
              "#ed7953"
             ],
             [
              0.7777777777777778,
              "#fb9f3a"
             ],
             [
              0.8888888888888888,
              "#fdca26"
             ],
             [
              1,
              "#f0f921"
             ]
            ],
            "type": "heatmap"
           }
          ],
          "heatmapgl": [
           {
            "colorbar": {
             "outlinewidth": 0,
             "ticks": ""
            },
            "colorscale": [
             [
              0,
              "#0d0887"
             ],
             [
              0.1111111111111111,
              "#46039f"
             ],
             [
              0.2222222222222222,
              "#7201a8"
             ],
             [
              0.3333333333333333,
              "#9c179e"
             ],
             [
              0.4444444444444444,
              "#bd3786"
             ],
             [
              0.5555555555555556,
              "#d8576b"
             ],
             [
              0.6666666666666666,
              "#ed7953"
             ],
             [
              0.7777777777777778,
              "#fb9f3a"
             ],
             [
              0.8888888888888888,
              "#fdca26"
             ],
             [
              1,
              "#f0f921"
             ]
            ],
            "type": "heatmapgl"
           }
          ],
          "histogram": [
           {
            "marker": {
             "pattern": {
              "fillmode": "overlay",
              "size": 10,
              "solidity": 0.2
             }
            },
            "type": "histogram"
           }
          ],
          "histogram2d": [
           {
            "colorbar": {
             "outlinewidth": 0,
             "ticks": ""
            },
            "colorscale": [
             [
              0,
              "#0d0887"
             ],
             [
              0.1111111111111111,
              "#46039f"
             ],
             [
              0.2222222222222222,
              "#7201a8"
             ],
             [
              0.3333333333333333,
              "#9c179e"
             ],
             [
              0.4444444444444444,
              "#bd3786"
             ],
             [
              0.5555555555555556,
              "#d8576b"
             ],
             [
              0.6666666666666666,
              "#ed7953"
             ],
             [
              0.7777777777777778,
              "#fb9f3a"
             ],
             [
              0.8888888888888888,
              "#fdca26"
             ],
             [
              1,
              "#f0f921"
             ]
            ],
            "type": "histogram2d"
           }
          ],
          "histogram2dcontour": [
           {
            "colorbar": {
             "outlinewidth": 0,
             "ticks": ""
            },
            "colorscale": [
             [
              0,
              "#0d0887"
             ],
             [
              0.1111111111111111,
              "#46039f"
             ],
             [
              0.2222222222222222,
              "#7201a8"
             ],
             [
              0.3333333333333333,
              "#9c179e"
             ],
             [
              0.4444444444444444,
              "#bd3786"
             ],
             [
              0.5555555555555556,
              "#d8576b"
             ],
             [
              0.6666666666666666,
              "#ed7953"
             ],
             [
              0.7777777777777778,
              "#fb9f3a"
             ],
             [
              0.8888888888888888,
              "#fdca26"
             ],
             [
              1,
              "#f0f921"
             ]
            ],
            "type": "histogram2dcontour"
           }
          ],
          "mesh3d": [
           {
            "colorbar": {
             "outlinewidth": 0,
             "ticks": ""
            },
            "type": "mesh3d"
           }
          ],
          "parcoords": [
           {
            "line": {
             "colorbar": {
              "outlinewidth": 0,
              "ticks": ""
             }
            },
            "type": "parcoords"
           }
          ],
          "pie": [
           {
            "automargin": true,
            "type": "pie"
           }
          ],
          "scatter": [
           {
            "fillpattern": {
             "fillmode": "overlay",
             "size": 10,
             "solidity": 0.2
            },
            "type": "scatter"
           }
          ],
          "scatter3d": [
           {
            "line": {
             "colorbar": {
              "outlinewidth": 0,
              "ticks": ""
             }
            },
            "marker": {
             "colorbar": {
              "outlinewidth": 0,
              "ticks": ""
             }
            },
            "type": "scatter3d"
           }
          ],
          "scattercarpet": [
           {
            "marker": {
             "colorbar": {
              "outlinewidth": 0,
              "ticks": ""
             }
            },
            "type": "scattercarpet"
           }
          ],
          "scattergeo": [
           {
            "marker": {
             "colorbar": {
              "outlinewidth": 0,
              "ticks": ""
             }
            },
            "type": "scattergeo"
           }
          ],
          "scattergl": [
           {
            "marker": {
             "colorbar": {
              "outlinewidth": 0,
              "ticks": ""
             }
            },
            "type": "scattergl"
           }
          ],
          "scattermapbox": [
           {
            "marker": {
             "colorbar": {
              "outlinewidth": 0,
              "ticks": ""
             }
            },
            "type": "scattermapbox"
           }
          ],
          "scatterpolar": [
           {
            "marker": {
             "colorbar": {
              "outlinewidth": 0,
              "ticks": ""
             }
            },
            "type": "scatterpolar"
           }
          ],
          "scatterpolargl": [
           {
            "marker": {
             "colorbar": {
              "outlinewidth": 0,
              "ticks": ""
             }
            },
            "type": "scatterpolargl"
           }
          ],
          "scatterternary": [
           {
            "marker": {
             "colorbar": {
              "outlinewidth": 0,
              "ticks": ""
             }
            },
            "type": "scatterternary"
           }
          ],
          "surface": [
           {
            "colorbar": {
             "outlinewidth": 0,
             "ticks": ""
            },
            "colorscale": [
             [
              0,
              "#0d0887"
             ],
             [
              0.1111111111111111,
              "#46039f"
             ],
             [
              0.2222222222222222,
              "#7201a8"
             ],
             [
              0.3333333333333333,
              "#9c179e"
             ],
             [
              0.4444444444444444,
              "#bd3786"
             ],
             [
              0.5555555555555556,
              "#d8576b"
             ],
             [
              0.6666666666666666,
              "#ed7953"
             ],
             [
              0.7777777777777778,
              "#fb9f3a"
             ],
             [
              0.8888888888888888,
              "#fdca26"
             ],
             [
              1,
              "#f0f921"
             ]
            ],
            "type": "surface"
           }
          ],
          "table": [
           {
            "cells": {
             "fill": {
              "color": "#EBF0F8"
             },
             "line": {
              "color": "white"
             }
            },
            "header": {
             "fill": {
              "color": "#C8D4E3"
             },
             "line": {
              "color": "white"
             }
            },
            "type": "table"
           }
          ]
         },
         "layout": {
          "annotationdefaults": {
           "arrowcolor": "#2a3f5f",
           "arrowhead": 0,
           "arrowwidth": 1
          },
          "autotypenumbers": "strict",
          "coloraxis": {
           "colorbar": {
            "outlinewidth": 0,
            "ticks": ""
           }
          },
          "colorscale": {
           "diverging": [
            [
             0,
             "#8e0152"
            ],
            [
             0.1,
             "#c51b7d"
            ],
            [
             0.2,
             "#de77ae"
            ],
            [
             0.3,
             "#f1b6da"
            ],
            [
             0.4,
             "#fde0ef"
            ],
            [
             0.5,
             "#f7f7f7"
            ],
            [
             0.6,
             "#e6f5d0"
            ],
            [
             0.7,
             "#b8e186"
            ],
            [
             0.8,
             "#7fbc41"
            ],
            [
             0.9,
             "#4d9221"
            ],
            [
             1,
             "#276419"
            ]
           ],
           "sequential": [
            [
             0,
             "#0d0887"
            ],
            [
             0.1111111111111111,
             "#46039f"
            ],
            [
             0.2222222222222222,
             "#7201a8"
            ],
            [
             0.3333333333333333,
             "#9c179e"
            ],
            [
             0.4444444444444444,
             "#bd3786"
            ],
            [
             0.5555555555555556,
             "#d8576b"
            ],
            [
             0.6666666666666666,
             "#ed7953"
            ],
            [
             0.7777777777777778,
             "#fb9f3a"
            ],
            [
             0.8888888888888888,
             "#fdca26"
            ],
            [
             1,
             "#f0f921"
            ]
           ],
           "sequentialminus": [
            [
             0,
             "#0d0887"
            ],
            [
             0.1111111111111111,
             "#46039f"
            ],
            [
             0.2222222222222222,
             "#7201a8"
            ],
            [
             0.3333333333333333,
             "#9c179e"
            ],
            [
             0.4444444444444444,
             "#bd3786"
            ],
            [
             0.5555555555555556,
             "#d8576b"
            ],
            [
             0.6666666666666666,
             "#ed7953"
            ],
            [
             0.7777777777777778,
             "#fb9f3a"
            ],
            [
             0.8888888888888888,
             "#fdca26"
            ],
            [
             1,
             "#f0f921"
            ]
           ]
          },
          "colorway": [
           "#636efa",
           "#EF553B",
           "#00cc96",
           "#ab63fa",
           "#FFA15A",
           "#19d3f3",
           "#FF6692",
           "#B6E880",
           "#FF97FF",
           "#FECB52"
          ],
          "font": {
           "color": "#2a3f5f"
          },
          "geo": {
           "bgcolor": "white",
           "lakecolor": "white",
           "landcolor": "#E5ECF6",
           "showlakes": true,
           "showland": true,
           "subunitcolor": "white"
          },
          "hoverlabel": {
           "align": "left"
          },
          "hovermode": "closest",
          "mapbox": {
           "style": "light"
          },
          "paper_bgcolor": "white",
          "plot_bgcolor": "#E5ECF6",
          "polar": {
           "angularaxis": {
            "gridcolor": "white",
            "linecolor": "white",
            "ticks": ""
           },
           "bgcolor": "#E5ECF6",
           "radialaxis": {
            "gridcolor": "white",
            "linecolor": "white",
            "ticks": ""
           }
          },
          "scene": {
           "xaxis": {
            "backgroundcolor": "#E5ECF6",
            "gridcolor": "white",
            "gridwidth": 2,
            "linecolor": "white",
            "showbackground": true,
            "ticks": "",
            "zerolinecolor": "white"
           },
           "yaxis": {
            "backgroundcolor": "#E5ECF6",
            "gridcolor": "white",
            "gridwidth": 2,
            "linecolor": "white",
            "showbackground": true,
            "ticks": "",
            "zerolinecolor": "white"
           },
           "zaxis": {
            "backgroundcolor": "#E5ECF6",
            "gridcolor": "white",
            "gridwidth": 2,
            "linecolor": "white",
            "showbackground": true,
            "ticks": "",
            "zerolinecolor": "white"
           }
          },
          "shapedefaults": {
           "line": {
            "color": "#2a3f5f"
           }
          },
          "ternary": {
           "aaxis": {
            "gridcolor": "white",
            "linecolor": "white",
            "ticks": ""
           },
           "baxis": {
            "gridcolor": "white",
            "linecolor": "white",
            "ticks": ""
           },
           "bgcolor": "#E5ECF6",
           "caxis": {
            "gridcolor": "white",
            "linecolor": "white",
            "ticks": ""
           }
          },
          "title": {
           "x": 0.05
          },
          "xaxis": {
           "automargin": true,
           "gridcolor": "white",
           "linecolor": "white",
           "ticks": "",
           "title": {
            "standoff": 15
           },
           "zerolinecolor": "white",
           "zerolinewidth": 2
          },
          "yaxis": {
           "automargin": true,
           "gridcolor": "white",
           "linecolor": "white",
           "ticks": "",
           "title": {
            "standoff": 15
           },
           "zerolinecolor": "white",
           "zerolinewidth": 2
          }
         }
        }
       }
      },
      "text/html": [
       "<div>                            <div id=\"3068ea84-df8e-4a70-85dc-a7689bebd72a\" class=\"plotly-graph-div\" style=\"height:525px; width:100%;\"></div>            <script type=\"text/javascript\">                require([\"plotly\"], function(Plotly) {                    window.PLOTLYENV=window.PLOTLYENV || {};                                    if (document.getElementById(\"3068ea84-df8e-4a70-85dc-a7689bebd72a\")) {                    Plotly.newPlot(                        \"3068ea84-df8e-4a70-85dc-a7689bebd72a\",                        [{\"arrangement\":\"snap\",\"link\":{\"source\":[0,0,1,2,5,4,3,5],\"target\":[5,3,4,3,0,2,2,3],\"value\":[1,2,1,1,1,1,1,2]},\"node\":{\"label\":[\"A\",\"B\",\"C\",\"D\",\"E\",\"F\"],\"pad\":10,\"x\":[0.2,0.1,0.5,0.7,0.3,0.5],\"y\":[0.7,0.5,0.2,0.4,0.2,0.3]},\"type\":\"sankey\"}],                        {\"template\":{\"data\":{\"histogram2dcontour\":[{\"type\":\"histogram2dcontour\",\"colorbar\":{\"outlinewidth\":0,\"ticks\":\"\"},\"colorscale\":[[0.0,\"#0d0887\"],[0.1111111111111111,\"#46039f\"],[0.2222222222222222,\"#7201a8\"],[0.3333333333333333,\"#9c179e\"],[0.4444444444444444,\"#bd3786\"],[0.5555555555555556,\"#d8576b\"],[0.6666666666666666,\"#ed7953\"],[0.7777777777777778,\"#fb9f3a\"],[0.8888888888888888,\"#fdca26\"],[1.0,\"#f0f921\"]]}],\"choropleth\":[{\"type\":\"choropleth\",\"colorbar\":{\"outlinewidth\":0,\"ticks\":\"\"}}],\"histogram2d\":[{\"type\":\"histogram2d\",\"colorbar\":{\"outlinewidth\":0,\"ticks\":\"\"},\"colorscale\":[[0.0,\"#0d0887\"],[0.1111111111111111,\"#46039f\"],[0.2222222222222222,\"#7201a8\"],[0.3333333333333333,\"#9c179e\"],[0.4444444444444444,\"#bd3786\"],[0.5555555555555556,\"#d8576b\"],[0.6666666666666666,\"#ed7953\"],[0.7777777777777778,\"#fb9f3a\"],[0.8888888888888888,\"#fdca26\"],[1.0,\"#f0f921\"]]}],\"heatmap\":[{\"type\":\"heatmap\",\"colorbar\":{\"outlinewidth\":0,\"ticks\":\"\"},\"colorscale\":[[0.0,\"#0d0887\"],[0.1111111111111111,\"#46039f\"],[0.2222222222222222,\"#7201a8\"],[0.3333333333333333,\"#9c179e\"],[0.4444444444444444,\"#bd3786\"],[0.5555555555555556,\"#d8576b\"],[0.6666666666666666,\"#ed7953\"],[0.7777777777777778,\"#fb9f3a\"],[0.8888888888888888,\"#fdca26\"],[1.0,\"#f0f921\"]]}],\"heatmapgl\":[{\"type\":\"heatmapgl\",\"colorbar\":{\"outlinewidth\":0,\"ticks\":\"\"},\"colorscale\":[[0.0,\"#0d0887\"],[0.1111111111111111,\"#46039f\"],[0.2222222222222222,\"#7201a8\"],[0.3333333333333333,\"#9c179e\"],[0.4444444444444444,\"#bd3786\"],[0.5555555555555556,\"#d8576b\"],[0.6666666666666666,\"#ed7953\"],[0.7777777777777778,\"#fb9f3a\"],[0.8888888888888888,\"#fdca26\"],[1.0,\"#f0f921\"]]}],\"contourcarpet\":[{\"type\":\"contourcarpet\",\"colorbar\":{\"outlinewidth\":0,\"ticks\":\"\"}}],\"contour\":[{\"type\":\"contour\",\"colorbar\":{\"outlinewidth\":0,\"ticks\":\"\"},\"colorscale\":[[0.0,\"#0d0887\"],[0.1111111111111111,\"#46039f\"],[0.2222222222222222,\"#7201a8\"],[0.3333333333333333,\"#9c179e\"],[0.4444444444444444,\"#bd3786\"],[0.5555555555555556,\"#d8576b\"],[0.6666666666666666,\"#ed7953\"],[0.7777777777777778,\"#fb9f3a\"],[0.8888888888888888,\"#fdca26\"],[1.0,\"#f0f921\"]]}],\"surface\":[{\"type\":\"surface\",\"colorbar\":{\"outlinewidth\":0,\"ticks\":\"\"},\"colorscale\":[[0.0,\"#0d0887\"],[0.1111111111111111,\"#46039f\"],[0.2222222222222222,\"#7201a8\"],[0.3333333333333333,\"#9c179e\"],[0.4444444444444444,\"#bd3786\"],[0.5555555555555556,\"#d8576b\"],[0.6666666666666666,\"#ed7953\"],[0.7777777777777778,\"#fb9f3a\"],[0.8888888888888888,\"#fdca26\"],[1.0,\"#f0f921\"]]}],\"mesh3d\":[{\"type\":\"mesh3d\",\"colorbar\":{\"outlinewidth\":0,\"ticks\":\"\"}}],\"scatter\":[{\"fillpattern\":{\"fillmode\":\"overlay\",\"size\":10,\"solidity\":0.2},\"type\":\"scatter\"}],\"parcoords\":[{\"type\":\"parcoords\",\"line\":{\"colorbar\":{\"outlinewidth\":0,\"ticks\":\"\"}}}],\"scatterpolargl\":[{\"type\":\"scatterpolargl\",\"marker\":{\"colorbar\":{\"outlinewidth\":0,\"ticks\":\"\"}}}],\"bar\":[{\"error_x\":{\"color\":\"#2a3f5f\"},\"error_y\":{\"color\":\"#2a3f5f\"},\"marker\":{\"line\":{\"color\":\"#E5ECF6\",\"width\":0.5},\"pattern\":{\"fillmode\":\"overlay\",\"size\":10,\"solidity\":0.2}},\"type\":\"bar\"}],\"scattergeo\":[{\"type\":\"scattergeo\",\"marker\":{\"colorbar\":{\"outlinewidth\":0,\"ticks\":\"\"}}}],\"scatterpolar\":[{\"type\":\"scatterpolar\",\"marker\":{\"colorbar\":{\"outlinewidth\":0,\"ticks\":\"\"}}}],\"histogram\":[{\"marker\":{\"pattern\":{\"fillmode\":\"overlay\",\"size\":10,\"solidity\":0.2}},\"type\":\"histogram\"}],\"scattergl\":[{\"type\":\"scattergl\",\"marker\":{\"colorbar\":{\"outlinewidth\":0,\"ticks\":\"\"}}}],\"scatter3d\":[{\"type\":\"scatter3d\",\"line\":{\"colorbar\":{\"outlinewidth\":0,\"ticks\":\"\"}},\"marker\":{\"colorbar\":{\"outlinewidth\":0,\"ticks\":\"\"}}}],\"scattermapbox\":[{\"type\":\"scattermapbox\",\"marker\":{\"colorbar\":{\"outlinewidth\":0,\"ticks\":\"\"}}}],\"scatterternary\":[{\"type\":\"scatterternary\",\"marker\":{\"colorbar\":{\"outlinewidth\":0,\"ticks\":\"\"}}}],\"scattercarpet\":[{\"type\":\"scattercarpet\",\"marker\":{\"colorbar\":{\"outlinewidth\":0,\"ticks\":\"\"}}}],\"carpet\":[{\"aaxis\":{\"endlinecolor\":\"#2a3f5f\",\"gridcolor\":\"white\",\"linecolor\":\"white\",\"minorgridcolor\":\"white\",\"startlinecolor\":\"#2a3f5f\"},\"baxis\":{\"endlinecolor\":\"#2a3f5f\",\"gridcolor\":\"white\",\"linecolor\":\"white\",\"minorgridcolor\":\"white\",\"startlinecolor\":\"#2a3f5f\"},\"type\":\"carpet\"}],\"table\":[{\"cells\":{\"fill\":{\"color\":\"#EBF0F8\"},\"line\":{\"color\":\"white\"}},\"header\":{\"fill\":{\"color\":\"#C8D4E3\"},\"line\":{\"color\":\"white\"}},\"type\":\"table\"}],\"barpolar\":[{\"marker\":{\"line\":{\"color\":\"#E5ECF6\",\"width\":0.5},\"pattern\":{\"fillmode\":\"overlay\",\"size\":10,\"solidity\":0.2}},\"type\":\"barpolar\"}],\"pie\":[{\"automargin\":true,\"type\":\"pie\"}]},\"layout\":{\"autotypenumbers\":\"strict\",\"colorway\":[\"#636efa\",\"#EF553B\",\"#00cc96\",\"#ab63fa\",\"#FFA15A\",\"#19d3f3\",\"#FF6692\",\"#B6E880\",\"#FF97FF\",\"#FECB52\"],\"font\":{\"color\":\"#2a3f5f\"},\"hovermode\":\"closest\",\"hoverlabel\":{\"align\":\"left\"},\"paper_bgcolor\":\"white\",\"plot_bgcolor\":\"#E5ECF6\",\"polar\":{\"bgcolor\":\"#E5ECF6\",\"angularaxis\":{\"gridcolor\":\"white\",\"linecolor\":\"white\",\"ticks\":\"\"},\"radialaxis\":{\"gridcolor\":\"white\",\"linecolor\":\"white\",\"ticks\":\"\"}},\"ternary\":{\"bgcolor\":\"#E5ECF6\",\"aaxis\":{\"gridcolor\":\"white\",\"linecolor\":\"white\",\"ticks\":\"\"},\"baxis\":{\"gridcolor\":\"white\",\"linecolor\":\"white\",\"ticks\":\"\"},\"caxis\":{\"gridcolor\":\"white\",\"linecolor\":\"white\",\"ticks\":\"\"}},\"coloraxis\":{\"colorbar\":{\"outlinewidth\":0,\"ticks\":\"\"}},\"colorscale\":{\"sequential\":[[0.0,\"#0d0887\"],[0.1111111111111111,\"#46039f\"],[0.2222222222222222,\"#7201a8\"],[0.3333333333333333,\"#9c179e\"],[0.4444444444444444,\"#bd3786\"],[0.5555555555555556,\"#d8576b\"],[0.6666666666666666,\"#ed7953\"],[0.7777777777777778,\"#fb9f3a\"],[0.8888888888888888,\"#fdca26\"],[1.0,\"#f0f921\"]],\"sequentialminus\":[[0.0,\"#0d0887\"],[0.1111111111111111,\"#46039f\"],[0.2222222222222222,\"#7201a8\"],[0.3333333333333333,\"#9c179e\"],[0.4444444444444444,\"#bd3786\"],[0.5555555555555556,\"#d8576b\"],[0.6666666666666666,\"#ed7953\"],[0.7777777777777778,\"#fb9f3a\"],[0.8888888888888888,\"#fdca26\"],[1.0,\"#f0f921\"]],\"diverging\":[[0,\"#8e0152\"],[0.1,\"#c51b7d\"],[0.2,\"#de77ae\"],[0.3,\"#f1b6da\"],[0.4,\"#fde0ef\"],[0.5,\"#f7f7f7\"],[0.6,\"#e6f5d0\"],[0.7,\"#b8e186\"],[0.8,\"#7fbc41\"],[0.9,\"#4d9221\"],[1,\"#276419\"]]},\"xaxis\":{\"gridcolor\":\"white\",\"linecolor\":\"white\",\"ticks\":\"\",\"title\":{\"standoff\":15},\"zerolinecolor\":\"white\",\"automargin\":true,\"zerolinewidth\":2},\"yaxis\":{\"gridcolor\":\"white\",\"linecolor\":\"white\",\"ticks\":\"\",\"title\":{\"standoff\":15},\"zerolinecolor\":\"white\",\"automargin\":true,\"zerolinewidth\":2},\"scene\":{\"xaxis\":{\"backgroundcolor\":\"#E5ECF6\",\"gridcolor\":\"white\",\"linecolor\":\"white\",\"showbackground\":true,\"ticks\":\"\",\"zerolinecolor\":\"white\",\"gridwidth\":2},\"yaxis\":{\"backgroundcolor\":\"#E5ECF6\",\"gridcolor\":\"white\",\"linecolor\":\"white\",\"showbackground\":true,\"ticks\":\"\",\"zerolinecolor\":\"white\",\"gridwidth\":2},\"zaxis\":{\"backgroundcolor\":\"#E5ECF6\",\"gridcolor\":\"white\",\"linecolor\":\"white\",\"showbackground\":true,\"ticks\":\"\",\"zerolinecolor\":\"white\",\"gridwidth\":2}},\"shapedefaults\":{\"line\":{\"color\":\"#2a3f5f\"}},\"annotationdefaults\":{\"arrowcolor\":\"#2a3f5f\",\"arrowhead\":0,\"arrowwidth\":1},\"geo\":{\"bgcolor\":\"white\",\"landcolor\":\"#E5ECF6\",\"subunitcolor\":\"white\",\"showland\":true,\"showlakes\":true,\"lakecolor\":\"white\"},\"title\":{\"x\":0.05},\"mapbox\":{\"style\":\"light\"}}}},                        {\"responsive\": true}                    ).then(function(){\n",
       "                            \n",
       "var gd = document.getElementById('3068ea84-df8e-4a70-85dc-a7689bebd72a');\n",
       "var x = new MutationObserver(function (mutations, observer) {{\n",
       "        var display = window.getComputedStyle(gd).display;\n",
       "        if (!display || display === 'none') {{\n",
       "            console.log([gd, 'removed!']);\n",
       "            Plotly.purge(gd);\n",
       "            observer.disconnect();\n",
       "        }}\n",
       "}});\n",
       "\n",
       "// Listen for the removal of the full notebook cells\n",
       "var notebookContainer = gd.closest('#notebook-container');\n",
       "if (notebookContainer) {{\n",
       "    x.observe(notebookContainer, {childList: true});\n",
       "}}\n",
       "\n",
       "// Listen for the clearing of the current output cell\n",
       "var outputEl = gd.closest('.output');\n",
       "if (outputEl) {{\n",
       "    x.observe(outputEl, {childList: true});\n",
       "}}\n",
       "\n",
       "                        })                };                });            </script>        </div>"
      ]
     },
     "metadata": {},
     "output_type": "display_data"
    }
   ],
   "source": [
    "# test plot\n",
    "fig = go.Figure(go.Sankey(\n",
    "    arrangement = \"snap\",\n",
    "    node = {\n",
    "        \"label\": [\"A\", \"B\", \"C\", \"D\", \"E\", \"F\"],\n",
    "        \"x\": [0.2, 0.1, 0.5, 0.7, 0.3, 0.5],\n",
    "        \"y\": [0.7, 0.5, 0.2, 0.4, 0.2, 0.3],\n",
    "        'pad':10},  # 10 Pixels\n",
    "    link = {\n",
    "        \"source\": [0, 0, 1, 2, 5, 4, 3, 5],\n",
    "        \"target\": [5, 3, 4, 3, 0, 2, 2, 3],\n",
    "        \"value\": [1, 2, 1, 1, 1, 1, 1, 2]}))\n",
    "\n",
    "fig.show()"
   ]
  },
  {
   "cell_type": "code",
   "execution_count": 25,
   "id": "51e32311",
   "metadata": {},
   "outputs": [
    {
     "data": {
      "text/plain": [
       "{'Job Applications': 0,\n",
       " 'Personal Contact': 1,\n",
       " 'Cold Applied': 2,\n",
       " 'Lost to the Abyss': 3,\n",
       " 'Automated Reject': 4,\n",
       " 'Human Reject': 5,\n",
       " 'Interview Request': 6,\n",
       " 'Initial Screen': 7,\n",
       " 'Meet Team': 8,\n",
       " 'Job Talk': 9,\n",
       " 'Terminated': 10,\n",
       " 'No': 11,\n",
       " 'Yes': 12,\n",
       " 'Unknown': 13}"
      ]
     },
     "execution_count": 25,
     "metadata": {},
     "output_type": "execute_result"
    }
   ],
   "source": [
    "# create mapping of node to index\n",
    "node_idx = enumerate(node_sort)\n",
    "node_map = dict([(y,x) for (x,y) in node_idx])\n",
    "node_map"
   ]
  },
  {
   "cell_type": "code",
   "execution_count": 26,
   "id": "ff27d3a4",
   "metadata": {},
   "outputs": [
    {
     "data": {
      "text/html": [
       "<div>\n",
       "<style scoped>\n",
       "    .dataframe tbody tr th:only-of-type {\n",
       "        vertical-align: middle;\n",
       "    }\n",
       "\n",
       "    .dataframe tbody tr th {\n",
       "        vertical-align: top;\n",
       "    }\n",
       "\n",
       "    .dataframe thead th {\n",
       "        text-align: right;\n",
       "    }\n",
       "</style>\n",
       "<table border=\"1\" class=\"dataframe\">\n",
       "  <thead>\n",
       "    <tr style=\"text-align: right;\">\n",
       "      <th></th>\n",
       "      <th>source</th>\n",
       "      <th>target</th>\n",
       "      <th>count</th>\n",
       "      <th>node_sort1</th>\n",
       "      <th>node_sort2</th>\n",
       "      <th>source_idx</th>\n",
       "      <th>target_idx</th>\n",
       "    </tr>\n",
       "  </thead>\n",
       "  <tbody>\n",
       "    <tr>\n",
       "      <th>0</th>\n",
       "      <td>Job Applications</td>\n",
       "      <td>Personal Contact</td>\n",
       "      <td>42</td>\n",
       "      <td>Job Applications</td>\n",
       "      <td>Personal Contact</td>\n",
       "      <td>0</td>\n",
       "      <td>1</td>\n",
       "    </tr>\n",
       "    <tr>\n",
       "      <th>1</th>\n",
       "      <td>Job Applications</td>\n",
       "      <td>Cold Applied</td>\n",
       "      <td>38</td>\n",
       "      <td>Job Applications</td>\n",
       "      <td>Cold Applied</td>\n",
       "      <td>0</td>\n",
       "      <td>2</td>\n",
       "    </tr>\n",
       "    <tr>\n",
       "      <th>2</th>\n",
       "      <td>Personal Contact</td>\n",
       "      <td>Lost to the Abyss</td>\n",
       "      <td>22</td>\n",
       "      <td>Personal Contact</td>\n",
       "      <td>Lost to the Abyss</td>\n",
       "      <td>1</td>\n",
       "      <td>3</td>\n",
       "    </tr>\n",
       "    <tr>\n",
       "      <th>4</th>\n",
       "      <td>Personal Contact</td>\n",
       "      <td>Automated Reject</td>\n",
       "      <td>6</td>\n",
       "      <td>Personal Contact</td>\n",
       "      <td>Automated Reject</td>\n",
       "      <td>1</td>\n",
       "      <td>4</td>\n",
       "    </tr>\n",
       "    <tr>\n",
       "      <th>5</th>\n",
       "      <td>Personal Contact</td>\n",
       "      <td>Human Reject</td>\n",
       "      <td>3</td>\n",
       "      <td>Personal Contact</td>\n",
       "      <td>Human Reject</td>\n",
       "      <td>1</td>\n",
       "      <td>5</td>\n",
       "    </tr>\n",
       "    <tr>\n",
       "      <th>3</th>\n",
       "      <td>Personal Contact</td>\n",
       "      <td>Interview Request</td>\n",
       "      <td>11</td>\n",
       "      <td>Personal Contact</td>\n",
       "      <td>Interview Request</td>\n",
       "      <td>1</td>\n",
       "      <td>6</td>\n",
       "    </tr>\n",
       "    <tr>\n",
       "      <th>6</th>\n",
       "      <td>Cold Applied</td>\n",
       "      <td>Lost to the Abyss</td>\n",
       "      <td>19</td>\n",
       "      <td>Cold Applied</td>\n",
       "      <td>Lost to the Abyss</td>\n",
       "      <td>2</td>\n",
       "      <td>3</td>\n",
       "    </tr>\n",
       "    <tr>\n",
       "      <th>7</th>\n",
       "      <td>Cold Applied</td>\n",
       "      <td>Automated Reject</td>\n",
       "      <td>15</td>\n",
       "      <td>Cold Applied</td>\n",
       "      <td>Automated Reject</td>\n",
       "      <td>2</td>\n",
       "      <td>4</td>\n",
       "    </tr>\n",
       "    <tr>\n",
       "      <th>8</th>\n",
       "      <td>Cold Applied</td>\n",
       "      <td>Interview Request</td>\n",
       "      <td>4</td>\n",
       "      <td>Cold Applied</td>\n",
       "      <td>Interview Request</td>\n",
       "      <td>2</td>\n",
       "      <td>6</td>\n",
       "    </tr>\n",
       "    <tr>\n",
       "      <th>11</th>\n",
       "      <td>Lost to the Abyss</td>\n",
       "      <td>No</td>\n",
       "      <td>41</td>\n",
       "      <td>Lost to the Abyss</td>\n",
       "      <td>No</td>\n",
       "      <td>3</td>\n",
       "      <td>11</td>\n",
       "    </tr>\n",
       "    <tr>\n",
       "      <th>9</th>\n",
       "      <td>Automated Reject</td>\n",
       "      <td>No</td>\n",
       "      <td>21</td>\n",
       "      <td>Automated Reject</td>\n",
       "      <td>No</td>\n",
       "      <td>4</td>\n",
       "      <td>11</td>\n",
       "    </tr>\n",
       "    <tr>\n",
       "      <th>10</th>\n",
       "      <td>Human Reject</td>\n",
       "      <td>No</td>\n",
       "      <td>3</td>\n",
       "      <td>Human Reject</td>\n",
       "      <td>No</td>\n",
       "      <td>5</td>\n",
       "      <td>11</td>\n",
       "    </tr>\n",
       "    <tr>\n",
       "      <th>18</th>\n",
       "      <td>Interview Request</td>\n",
       "      <td>Initial Screen</td>\n",
       "      <td>12</td>\n",
       "      <td>Interview Request</td>\n",
       "      <td>Initial Screen</td>\n",
       "      <td>6</td>\n",
       "      <td>7</td>\n",
       "    </tr>\n",
       "    <tr>\n",
       "      <th>12</th>\n",
       "      <td>Interview Request</td>\n",
       "      <td>Unknown</td>\n",
       "      <td>3</td>\n",
       "      <td>Interview Request</td>\n",
       "      <td>Unknown</td>\n",
       "      <td>6</td>\n",
       "      <td>13</td>\n",
       "    </tr>\n",
       "    <tr>\n",
       "      <th>19</th>\n",
       "      <td>Initial Screen</td>\n",
       "      <td>Meet Team</td>\n",
       "      <td>6</td>\n",
       "      <td>Initial Screen</td>\n",
       "      <td>Meet Team</td>\n",
       "      <td>7</td>\n",
       "      <td>8</td>\n",
       "    </tr>\n",
       "    <tr>\n",
       "      <th>21</th>\n",
       "      <td>Initial Screen</td>\n",
       "      <td>Terminated</td>\n",
       "      <td>1</td>\n",
       "      <td>Initial Screen</td>\n",
       "      <td>Terminated</td>\n",
       "      <td>7</td>\n",
       "      <td>10</td>\n",
       "    </tr>\n",
       "    <tr>\n",
       "      <th>13</th>\n",
       "      <td>Initial Screen</td>\n",
       "      <td>No</td>\n",
       "      <td>5</td>\n",
       "      <td>Initial Screen</td>\n",
       "      <td>No</td>\n",
       "      <td>7</td>\n",
       "      <td>11</td>\n",
       "    </tr>\n",
       "    <tr>\n",
       "      <th>20</th>\n",
       "      <td>Meet Team</td>\n",
       "      <td>Job Talk</td>\n",
       "      <td>3</td>\n",
       "      <td>Meet Team</td>\n",
       "      <td>Job Talk</td>\n",
       "      <td>8</td>\n",
       "      <td>9</td>\n",
       "    </tr>\n",
       "    <tr>\n",
       "      <th>16</th>\n",
       "      <td>Meet Team</td>\n",
       "      <td>No</td>\n",
       "      <td>3</td>\n",
       "      <td>Meet Team</td>\n",
       "      <td>No</td>\n",
       "      <td>8</td>\n",
       "      <td>11</td>\n",
       "    </tr>\n",
       "    <tr>\n",
       "      <th>14</th>\n",
       "      <td>Job Talk</td>\n",
       "      <td>No</td>\n",
       "      <td>1</td>\n",
       "      <td>Job Talk</td>\n",
       "      <td>No</td>\n",
       "      <td>9</td>\n",
       "      <td>11</td>\n",
       "    </tr>\n",
       "    <tr>\n",
       "      <th>15</th>\n",
       "      <td>Job Talk</td>\n",
       "      <td>Yes</td>\n",
       "      <td>2</td>\n",
       "      <td>Job Talk</td>\n",
       "      <td>Yes</td>\n",
       "      <td>9</td>\n",
       "      <td>12</td>\n",
       "    </tr>\n",
       "    <tr>\n",
       "      <th>17</th>\n",
       "      <td>Terminated</td>\n",
       "      <td>Unknown</td>\n",
       "      <td>1</td>\n",
       "      <td>Terminated</td>\n",
       "      <td>Unknown</td>\n",
       "      <td>10</td>\n",
       "      <td>13</td>\n",
       "    </tr>\n",
       "  </tbody>\n",
       "</table>\n",
       "</div>"
      ],
      "text/plain": [
       "               source             target  count         node_sort1  \\\n",
       "0    Job Applications   Personal Contact     42   Job Applications   \n",
       "1    Job Applications       Cold Applied     38   Job Applications   \n",
       "2    Personal Contact  Lost to the Abyss     22   Personal Contact   \n",
       "4    Personal Contact   Automated Reject      6   Personal Contact   \n",
       "5    Personal Contact       Human Reject      3   Personal Contact   \n",
       "3    Personal Contact  Interview Request     11   Personal Contact   \n",
       "6        Cold Applied  Lost to the Abyss     19       Cold Applied   \n",
       "7        Cold Applied   Automated Reject     15       Cold Applied   \n",
       "8        Cold Applied  Interview Request      4       Cold Applied   \n",
       "11  Lost to the Abyss                 No     41  Lost to the Abyss   \n",
       "9    Automated Reject                 No     21   Automated Reject   \n",
       "10       Human Reject                 No      3       Human Reject   \n",
       "18  Interview Request     Initial Screen     12  Interview Request   \n",
       "12  Interview Request            Unknown      3  Interview Request   \n",
       "19     Initial Screen          Meet Team      6     Initial Screen   \n",
       "21     Initial Screen         Terminated      1     Initial Screen   \n",
       "13     Initial Screen                 No      5     Initial Screen   \n",
       "20          Meet Team           Job Talk      3          Meet Team   \n",
       "16          Meet Team                 No      3          Meet Team   \n",
       "14           Job Talk                 No      1           Job Talk   \n",
       "15           Job Talk                Yes      2           Job Talk   \n",
       "17         Terminated            Unknown      1         Terminated   \n",
       "\n",
       "           node_sort2  source_idx  target_idx  \n",
       "0    Personal Contact           0           1  \n",
       "1        Cold Applied           0           2  \n",
       "2   Lost to the Abyss           1           3  \n",
       "4    Automated Reject           1           4  \n",
       "5        Human Reject           1           5  \n",
       "3   Interview Request           1           6  \n",
       "6   Lost to the Abyss           2           3  \n",
       "7    Automated Reject           2           4  \n",
       "8   Interview Request           2           6  \n",
       "11                 No           3          11  \n",
       "9                  No           4          11  \n",
       "10                 No           5          11  \n",
       "18     Initial Screen           6           7  \n",
       "12            Unknown           6          13  \n",
       "19          Meet Team           7           8  \n",
       "21         Terminated           7          10  \n",
       "13                 No           7          11  \n",
       "20           Job Talk           8           9  \n",
       "16                 No           8          11  \n",
       "14                 No           9          11  \n",
       "15                Yes           9          12  \n",
       "17            Unknown          10          13  "
      ]
     },
     "execution_count": 26,
     "metadata": {},
     "output_type": "execute_result"
    }
   ],
   "source": [
    "# create index column\n",
    "sdf['source_idx'] = sdf['source'].apply(lambda x: node_map[x])\n",
    "sdf['target_idx'] = sdf['target'].apply(lambda x: node_map[x])\n",
    "sdf"
   ]
  },
  {
   "cell_type": "code",
   "execution_count": 27,
   "id": "3871f903",
   "metadata": {},
   "outputs": [
    {
     "data": {
      "text/plain": [
       "{'Automated Reject': 21,\n",
       " 'Cold Applied': 38,\n",
       " 'Human Reject': 3,\n",
       " 'Initial Screen': 12,\n",
       " 'Interview Request': 15,\n",
       " 'Job Applications': 80,\n",
       " 'Job Talk': 3,\n",
       " 'Lost to the Abyss': 41,\n",
       " 'Meet Team': 6,\n",
       " 'Personal Contact': 42,\n",
       " 'Terminated': 1,\n",
       " 'No': 74,\n",
       " 'Unknown': 4,\n",
       " 'Yes': 2}"
      ]
     },
     "execution_count": 27,
     "metadata": {},
     "output_type": "execute_result"
    }
   ],
   "source": [
    "# calculate total counts at each node\n",
    "node_count_dict = dict(sdf.groupby('source').sum('count').reset_index()[['source','count']].values)\n",
    "# final results that were never source nodes\n",
    "finals = ['Yes','No','Unknown']\n",
    "temp = sdf.groupby('target').sum('count').reset_index()[['target','count']]\n",
    "temp = dict(temp[temp['target'].isin(finals)].values)\n",
    "node_count_dict = node_count_dict | temp\n",
    "node_count_dict"
   ]
  },
  {
   "cell_type": "code",
   "execution_count": 28,
   "id": "e6777393",
   "metadata": {},
   "outputs": [
    {
     "data": {
      "text/plain": [
       "['Job Applications <b>80</b>',\n",
       " 'Personal Contact <b>42</b>',\n",
       " 'Cold Applied <b>38</b>',\n",
       " 'Lost to the Abyss <b>41</b>',\n",
       " 'Automated Reject <b>21</b>',\n",
       " 'Human<br>Reject <b>3</b>',\n",
       " 'Interview Request <b>15</b>',\n",
       " 'Initial Screen <b>12</b>',\n",
       " 'Meet Team <b>6</b>',\n",
       " 'Job<br>Talk <b>3</b>',\n",
       " 'Terminated <b>1</b>',\n",
       " 'No <b>74</b>',\n",
       " 'Yes <b>2</b>',\n",
       " 'Unknown <b>4</b>']"
      ]
     },
     "execution_count": 28,
     "metadata": {},
     "output_type": "execute_result"
    }
   ],
   "source": [
    "# create two text lines for small nodes\n",
    "small_boxes = [\"Human Reject\", \"Job Talk\"]\n",
    "node_labels = ['<br>'.join(x.split()) if x in small_boxes else x for x in node_sort ]\n",
    "\n",
    "# add node count tag to the end\n",
    "node_tags = [node_count_dict[x] for x in node_sort]\n",
    "node_labels = [node_labels[i] + f' <b>{node_tags[i]}</b>' for i in range(len(node_labels))]\n",
    "\n",
    "node_labels"
   ]
  },
  {
   "cell_type": "code",
   "execution_count": 29,
   "id": "df84693e",
   "metadata": {},
   "outputs": [
    {
     "data": {
      "text/plain": [
       "{0: 'rgba(0.996,0.839,0.478,0.5)',\n",
       " 1: 'rgba(0.522,0.553,0.984,0.5)',\n",
       " 2: 'rgba(0.737,0.522,0.984,0.5)',\n",
       " 3: 'rgba(0.996,0.710,0.494,0.5)',\n",
       " 4: 'rgba(0.996,0.529,0.663,0.5)',\n",
       " 5: 'rgba(0.996,0.678,0.996,0.5)',\n",
       " 6: 'rgba(0.318,0.686,0.961,0.5)',\n",
       " 7: 'rgba(0.314,0.863,0.965,0.5)',\n",
       " 8: 'rgba(0.227,0.843,0.675,0.5)',\n",
       " 9: 'rgba(0.204,0.722,0.239,0.5)',\n",
       " 10: 'rgba(0.741,0.733,0.741,0.5)',\n",
       " 11: 'rgba(0.949,0.478,0.404,0.5)',\n",
       " 12: 'rgba(0.561,0.839,0.227,0.5)',\n",
       " 13: 'rgba(0.678,0.678,0.678,0.5)'}"
      ]
     },
     "execution_count": 29,
     "metadata": {},
     "output_type": "execute_result"
    }
   ],
   "source": [
    "# assign my own node colors\n",
    "# weird note: colors that start with #FF make the links full red... not sure why.\n",
    "# switching them to #FE fixed this... *shrug*\n",
    "node_color = dict(enumerate([\n",
    "    '#fed67a',# 0 'Job Applications',\n",
    "    '#858dfb',# 1 'Personal Contact',\n",
    "    '#bc85fb',# 2 'Cold Applied',\n",
    "    '#FEB57E',#'#058b05',#'#ffb57e',# 3 'Lost to the Abyss',\n",
    "    '#fe87a9',# 4 'Automated Reject',\n",
    "    '#feadfe',# 5 'Human Reject',\n",
    "    '#51AFF5',# 6 'Interview Request',\n",
    "    '#50dcf6',# 7 'Initial Screen',\n",
    "    '#3ad7ac',# 8 'Meet Team',\n",
    "    '#34B83D',# 9 'Job Talk',\n",
    "    '#BDBBBD',# 10 'Terminated',\n",
    "    '#f27a67',# 11 'No',\n",
    "    '#8FD63A',# 12 'Yes',\n",
    "    '#adadad',# 13 'Unknown',\n",
    "]))\n",
    "\n",
    "from matplotlib.colors import to_rgba\n",
    "\n",
    "# needed to switch these to rgba because plotly wouldn't accept HEX with transparency?\n",
    "link_color = [to_rgba(node_color[x]) for x in node_color]\n",
    "link_color = dict(enumerate([f'rgba({r:.3f},{g:.3f},{b:.3f},0.5)'for r,g,b,a in link_color]))\n",
    "\n",
    "link_color"
   ]
  },
  {
   "cell_type": "code",
   "execution_count": 30,
   "id": "9baf38ea",
   "metadata": {},
   "outputs": [
    {
     "data": {
      "text/html": [
       "<div>\n",
       "<style scoped>\n",
       "    .dataframe tbody tr th:only-of-type {\n",
       "        vertical-align: middle;\n",
       "    }\n",
       "\n",
       "    .dataframe tbody tr th {\n",
       "        vertical-align: top;\n",
       "    }\n",
       "\n",
       "    .dataframe thead th {\n",
       "        text-align: right;\n",
       "    }\n",
       "</style>\n",
       "<table border=\"1\" class=\"dataframe\">\n",
       "  <thead>\n",
       "    <tr style=\"text-align: right;\">\n",
       "      <th></th>\n",
       "      <th>source</th>\n",
       "      <th>target</th>\n",
       "      <th>count</th>\n",
       "      <th>node_sort1</th>\n",
       "      <th>node_sort2</th>\n",
       "      <th>source_idx</th>\n",
       "      <th>target_idx</th>\n",
       "      <th>source_color</th>\n",
       "      <th>target_color</th>\n",
       "    </tr>\n",
       "  </thead>\n",
       "  <tbody>\n",
       "    <tr>\n",
       "      <th>0</th>\n",
       "      <td>Job Applications</td>\n",
       "      <td>Personal Contact</td>\n",
       "      <td>42</td>\n",
       "      <td>Job Applications</td>\n",
       "      <td>Personal Contact</td>\n",
       "      <td>0</td>\n",
       "      <td>1</td>\n",
       "      <td>rgba(0.996,0.839,0.478,0.5)</td>\n",
       "      <td>rgba(0.522,0.553,0.984,0.5)</td>\n",
       "    </tr>\n",
       "    <tr>\n",
       "      <th>1</th>\n",
       "      <td>Job Applications</td>\n",
       "      <td>Cold Applied</td>\n",
       "      <td>38</td>\n",
       "      <td>Job Applications</td>\n",
       "      <td>Cold Applied</td>\n",
       "      <td>0</td>\n",
       "      <td>2</td>\n",
       "      <td>rgba(0.996,0.839,0.478,0.5)</td>\n",
       "      <td>rgba(0.737,0.522,0.984,0.5)</td>\n",
       "    </tr>\n",
       "    <tr>\n",
       "      <th>2</th>\n",
       "      <td>Personal Contact</td>\n",
       "      <td>Lost to the Abyss</td>\n",
       "      <td>22</td>\n",
       "      <td>Personal Contact</td>\n",
       "      <td>Lost to the Abyss</td>\n",
       "      <td>1</td>\n",
       "      <td>3</td>\n",
       "      <td>rgba(0.522,0.553,0.984,0.5)</td>\n",
       "      <td>rgba(0.996,0.710,0.494,0.5)</td>\n",
       "    </tr>\n",
       "    <tr>\n",
       "      <th>4</th>\n",
       "      <td>Personal Contact</td>\n",
       "      <td>Automated Reject</td>\n",
       "      <td>6</td>\n",
       "      <td>Personal Contact</td>\n",
       "      <td>Automated Reject</td>\n",
       "      <td>1</td>\n",
       "      <td>4</td>\n",
       "      <td>rgba(0.522,0.553,0.984,0.5)</td>\n",
       "      <td>rgba(0.996,0.529,0.663,0.5)</td>\n",
       "    </tr>\n",
       "    <tr>\n",
       "      <th>5</th>\n",
       "      <td>Personal Contact</td>\n",
       "      <td>Human Reject</td>\n",
       "      <td>3</td>\n",
       "      <td>Personal Contact</td>\n",
       "      <td>Human Reject</td>\n",
       "      <td>1</td>\n",
       "      <td>5</td>\n",
       "      <td>rgba(0.522,0.553,0.984,0.5)</td>\n",
       "      <td>rgba(0.996,0.678,0.996,0.5)</td>\n",
       "    </tr>\n",
       "    <tr>\n",
       "      <th>3</th>\n",
       "      <td>Personal Contact</td>\n",
       "      <td>Interview Request</td>\n",
       "      <td>11</td>\n",
       "      <td>Personal Contact</td>\n",
       "      <td>Interview Request</td>\n",
       "      <td>1</td>\n",
       "      <td>6</td>\n",
       "      <td>rgba(0.522,0.553,0.984,0.5)</td>\n",
       "      <td>rgba(0.318,0.686,0.961,0.5)</td>\n",
       "    </tr>\n",
       "    <tr>\n",
       "      <th>6</th>\n",
       "      <td>Cold Applied</td>\n",
       "      <td>Lost to the Abyss</td>\n",
       "      <td>19</td>\n",
       "      <td>Cold Applied</td>\n",
       "      <td>Lost to the Abyss</td>\n",
       "      <td>2</td>\n",
       "      <td>3</td>\n",
       "      <td>rgba(0.737,0.522,0.984,0.5)</td>\n",
       "      <td>rgba(0.996,0.710,0.494,0.5)</td>\n",
       "    </tr>\n",
       "    <tr>\n",
       "      <th>7</th>\n",
       "      <td>Cold Applied</td>\n",
       "      <td>Automated Reject</td>\n",
       "      <td>15</td>\n",
       "      <td>Cold Applied</td>\n",
       "      <td>Automated Reject</td>\n",
       "      <td>2</td>\n",
       "      <td>4</td>\n",
       "      <td>rgba(0.737,0.522,0.984,0.5)</td>\n",
       "      <td>rgba(0.996,0.529,0.663,0.5)</td>\n",
       "    </tr>\n",
       "    <tr>\n",
       "      <th>8</th>\n",
       "      <td>Cold Applied</td>\n",
       "      <td>Interview Request</td>\n",
       "      <td>4</td>\n",
       "      <td>Cold Applied</td>\n",
       "      <td>Interview Request</td>\n",
       "      <td>2</td>\n",
       "      <td>6</td>\n",
       "      <td>rgba(0.737,0.522,0.984,0.5)</td>\n",
       "      <td>rgba(0.318,0.686,0.961,0.5)</td>\n",
       "    </tr>\n",
       "    <tr>\n",
       "      <th>11</th>\n",
       "      <td>Lost to the Abyss</td>\n",
       "      <td>No</td>\n",
       "      <td>41</td>\n",
       "      <td>Lost to the Abyss</td>\n",
       "      <td>No</td>\n",
       "      <td>3</td>\n",
       "      <td>11</td>\n",
       "      <td>rgba(0.996,0.710,0.494,0.5)</td>\n",
       "      <td>rgba(0.949,0.478,0.404,0.5)</td>\n",
       "    </tr>\n",
       "    <tr>\n",
       "      <th>9</th>\n",
       "      <td>Automated Reject</td>\n",
       "      <td>No</td>\n",
       "      <td>21</td>\n",
       "      <td>Automated Reject</td>\n",
       "      <td>No</td>\n",
       "      <td>4</td>\n",
       "      <td>11</td>\n",
       "      <td>rgba(0.996,0.529,0.663,0.5)</td>\n",
       "      <td>rgba(0.949,0.478,0.404,0.5)</td>\n",
       "    </tr>\n",
       "    <tr>\n",
       "      <th>10</th>\n",
       "      <td>Human Reject</td>\n",
       "      <td>No</td>\n",
       "      <td>3</td>\n",
       "      <td>Human Reject</td>\n",
       "      <td>No</td>\n",
       "      <td>5</td>\n",
       "      <td>11</td>\n",
       "      <td>rgba(0.996,0.678,0.996,0.5)</td>\n",
       "      <td>rgba(0.949,0.478,0.404,0.5)</td>\n",
       "    </tr>\n",
       "    <tr>\n",
       "      <th>18</th>\n",
       "      <td>Interview Request</td>\n",
       "      <td>Initial Screen</td>\n",
       "      <td>12</td>\n",
       "      <td>Interview Request</td>\n",
       "      <td>Initial Screen</td>\n",
       "      <td>6</td>\n",
       "      <td>7</td>\n",
       "      <td>rgba(0.318,0.686,0.961,0.5)</td>\n",
       "      <td>rgba(0.314,0.863,0.965,0.5)</td>\n",
       "    </tr>\n",
       "    <tr>\n",
       "      <th>12</th>\n",
       "      <td>Interview Request</td>\n",
       "      <td>Unknown</td>\n",
       "      <td>3</td>\n",
       "      <td>Interview Request</td>\n",
       "      <td>Unknown</td>\n",
       "      <td>6</td>\n",
       "      <td>13</td>\n",
       "      <td>rgba(0.318,0.686,0.961,0.5)</td>\n",
       "      <td>rgba(0.678,0.678,0.678,0.5)</td>\n",
       "    </tr>\n",
       "    <tr>\n",
       "      <th>19</th>\n",
       "      <td>Initial Screen</td>\n",
       "      <td>Meet Team</td>\n",
       "      <td>6</td>\n",
       "      <td>Initial Screen</td>\n",
       "      <td>Meet Team</td>\n",
       "      <td>7</td>\n",
       "      <td>8</td>\n",
       "      <td>rgba(0.314,0.863,0.965,0.5)</td>\n",
       "      <td>rgba(0.227,0.843,0.675,0.5)</td>\n",
       "    </tr>\n",
       "    <tr>\n",
       "      <th>21</th>\n",
       "      <td>Initial Screen</td>\n",
       "      <td>Terminated</td>\n",
       "      <td>1</td>\n",
       "      <td>Initial Screen</td>\n",
       "      <td>Terminated</td>\n",
       "      <td>7</td>\n",
       "      <td>10</td>\n",
       "      <td>rgba(0.314,0.863,0.965,0.5)</td>\n",
       "      <td>rgba(0.741,0.733,0.741,0.5)</td>\n",
       "    </tr>\n",
       "    <tr>\n",
       "      <th>13</th>\n",
       "      <td>Initial Screen</td>\n",
       "      <td>No</td>\n",
       "      <td>5</td>\n",
       "      <td>Initial Screen</td>\n",
       "      <td>No</td>\n",
       "      <td>7</td>\n",
       "      <td>11</td>\n",
       "      <td>rgba(0.314,0.863,0.965,0.5)</td>\n",
       "      <td>rgba(0.949,0.478,0.404,0.5)</td>\n",
       "    </tr>\n",
       "    <tr>\n",
       "      <th>20</th>\n",
       "      <td>Meet Team</td>\n",
       "      <td>Job Talk</td>\n",
       "      <td>3</td>\n",
       "      <td>Meet Team</td>\n",
       "      <td>Job Talk</td>\n",
       "      <td>8</td>\n",
       "      <td>9</td>\n",
       "      <td>rgba(0.227,0.843,0.675,0.5)</td>\n",
       "      <td>rgba(0.204,0.722,0.239,0.5)</td>\n",
       "    </tr>\n",
       "    <tr>\n",
       "      <th>16</th>\n",
       "      <td>Meet Team</td>\n",
       "      <td>No</td>\n",
       "      <td>3</td>\n",
       "      <td>Meet Team</td>\n",
       "      <td>No</td>\n",
       "      <td>8</td>\n",
       "      <td>11</td>\n",
       "      <td>rgba(0.227,0.843,0.675,0.5)</td>\n",
       "      <td>rgba(0.949,0.478,0.404,0.5)</td>\n",
       "    </tr>\n",
       "    <tr>\n",
       "      <th>14</th>\n",
       "      <td>Job Talk</td>\n",
       "      <td>No</td>\n",
       "      <td>1</td>\n",
       "      <td>Job Talk</td>\n",
       "      <td>No</td>\n",
       "      <td>9</td>\n",
       "      <td>11</td>\n",
       "      <td>rgba(0.204,0.722,0.239,0.5)</td>\n",
       "      <td>rgba(0.949,0.478,0.404,0.5)</td>\n",
       "    </tr>\n",
       "    <tr>\n",
       "      <th>15</th>\n",
       "      <td>Job Talk</td>\n",
       "      <td>Yes</td>\n",
       "      <td>2</td>\n",
       "      <td>Job Talk</td>\n",
       "      <td>Yes</td>\n",
       "      <td>9</td>\n",
       "      <td>12</td>\n",
       "      <td>rgba(0.204,0.722,0.239,0.5)</td>\n",
       "      <td>rgba(0.561,0.839,0.227,0.5)</td>\n",
       "    </tr>\n",
       "    <tr>\n",
       "      <th>17</th>\n",
       "      <td>Terminated</td>\n",
       "      <td>Unknown</td>\n",
       "      <td>1</td>\n",
       "      <td>Terminated</td>\n",
       "      <td>Unknown</td>\n",
       "      <td>10</td>\n",
       "      <td>13</td>\n",
       "      <td>rgba(0.741,0.733,0.741,0.5)</td>\n",
       "      <td>rgba(0.678,0.678,0.678,0.5)</td>\n",
       "    </tr>\n",
       "  </tbody>\n",
       "</table>\n",
       "</div>"
      ],
      "text/plain": [
       "               source             target  count         node_sort1  \\\n",
       "0    Job Applications   Personal Contact     42   Job Applications   \n",
       "1    Job Applications       Cold Applied     38   Job Applications   \n",
       "2    Personal Contact  Lost to the Abyss     22   Personal Contact   \n",
       "4    Personal Contact   Automated Reject      6   Personal Contact   \n",
       "5    Personal Contact       Human Reject      3   Personal Contact   \n",
       "3    Personal Contact  Interview Request     11   Personal Contact   \n",
       "6        Cold Applied  Lost to the Abyss     19       Cold Applied   \n",
       "7        Cold Applied   Automated Reject     15       Cold Applied   \n",
       "8        Cold Applied  Interview Request      4       Cold Applied   \n",
       "11  Lost to the Abyss                 No     41  Lost to the Abyss   \n",
       "9    Automated Reject                 No     21   Automated Reject   \n",
       "10       Human Reject                 No      3       Human Reject   \n",
       "18  Interview Request     Initial Screen     12  Interview Request   \n",
       "12  Interview Request            Unknown      3  Interview Request   \n",
       "19     Initial Screen          Meet Team      6     Initial Screen   \n",
       "21     Initial Screen         Terminated      1     Initial Screen   \n",
       "13     Initial Screen                 No      5     Initial Screen   \n",
       "20          Meet Team           Job Talk      3          Meet Team   \n",
       "16          Meet Team                 No      3          Meet Team   \n",
       "14           Job Talk                 No      1           Job Talk   \n",
       "15           Job Talk                Yes      2           Job Talk   \n",
       "17         Terminated            Unknown      1         Terminated   \n",
       "\n",
       "           node_sort2  source_idx  target_idx                 source_color  \\\n",
       "0    Personal Contact           0           1  rgba(0.996,0.839,0.478,0.5)   \n",
       "1        Cold Applied           0           2  rgba(0.996,0.839,0.478,0.5)   \n",
       "2   Lost to the Abyss           1           3  rgba(0.522,0.553,0.984,0.5)   \n",
       "4    Automated Reject           1           4  rgba(0.522,0.553,0.984,0.5)   \n",
       "5        Human Reject           1           5  rgba(0.522,0.553,0.984,0.5)   \n",
       "3   Interview Request           1           6  rgba(0.522,0.553,0.984,0.5)   \n",
       "6   Lost to the Abyss           2           3  rgba(0.737,0.522,0.984,0.5)   \n",
       "7    Automated Reject           2           4  rgba(0.737,0.522,0.984,0.5)   \n",
       "8   Interview Request           2           6  rgba(0.737,0.522,0.984,0.5)   \n",
       "11                 No           3          11  rgba(0.996,0.710,0.494,0.5)   \n",
       "9                  No           4          11  rgba(0.996,0.529,0.663,0.5)   \n",
       "10                 No           5          11  rgba(0.996,0.678,0.996,0.5)   \n",
       "18     Initial Screen           6           7  rgba(0.318,0.686,0.961,0.5)   \n",
       "12            Unknown           6          13  rgba(0.318,0.686,0.961,0.5)   \n",
       "19          Meet Team           7           8  rgba(0.314,0.863,0.965,0.5)   \n",
       "21         Terminated           7          10  rgba(0.314,0.863,0.965,0.5)   \n",
       "13                 No           7          11  rgba(0.314,0.863,0.965,0.5)   \n",
       "20           Job Talk           8           9  rgba(0.227,0.843,0.675,0.5)   \n",
       "16                 No           8          11  rgba(0.227,0.843,0.675,0.5)   \n",
       "14                 No           9          11  rgba(0.204,0.722,0.239,0.5)   \n",
       "15                Yes           9          12  rgba(0.204,0.722,0.239,0.5)   \n",
       "17            Unknown          10          13  rgba(0.741,0.733,0.741,0.5)   \n",
       "\n",
       "                   target_color  \n",
       "0   rgba(0.522,0.553,0.984,0.5)  \n",
       "1   rgba(0.737,0.522,0.984,0.5)  \n",
       "2   rgba(0.996,0.710,0.494,0.5)  \n",
       "4   rgba(0.996,0.529,0.663,0.5)  \n",
       "5   rgba(0.996,0.678,0.996,0.5)  \n",
       "3   rgba(0.318,0.686,0.961,0.5)  \n",
       "6   rgba(0.996,0.710,0.494,0.5)  \n",
       "7   rgba(0.996,0.529,0.663,0.5)  \n",
       "8   rgba(0.318,0.686,0.961,0.5)  \n",
       "11  rgba(0.949,0.478,0.404,0.5)  \n",
       "9   rgba(0.949,0.478,0.404,0.5)  \n",
       "10  rgba(0.949,0.478,0.404,0.5)  \n",
       "18  rgba(0.314,0.863,0.965,0.5)  \n",
       "12  rgba(0.678,0.678,0.678,0.5)  \n",
       "19  rgba(0.227,0.843,0.675,0.5)  \n",
       "21  rgba(0.741,0.733,0.741,0.5)  \n",
       "13  rgba(0.949,0.478,0.404,0.5)  \n",
       "20  rgba(0.204,0.722,0.239,0.5)  \n",
       "16  rgba(0.949,0.478,0.404,0.5)  \n",
       "14  rgba(0.949,0.478,0.404,0.5)  \n",
       "15  rgba(0.561,0.839,0.227,0.5)  \n",
       "17  rgba(0.678,0.678,0.678,0.5)  "
      ]
     },
     "execution_count": 30,
     "metadata": {},
     "output_type": "execute_result"
    }
   ],
   "source": [
    "sdf['source_color'] = sdf['source_idx'].apply(lambda x: link_color[x])\n",
    "sdf['target_color'] = sdf['target_idx'].apply(lambda x: link_color[x])\n",
    "sdf"
   ]
  },
  {
   "cell_type": "code",
   "execution_count": 49,
   "id": "48e8de9e",
   "metadata": {
    "scrolled": false
   },
   "outputs": [
    {
     "data": {
      "application/vnd.plotly.v1+json": {
       "config": {
        "plotlyServerURL": "https://plotly.com"
       },
       "data": [
        {
         "link": {
          "color": [
           "rgba(0.522,0.553,0.984,0.5)",
           "rgba(0.737,0.522,0.984,0.5)",
           "rgba(0.996,0.710,0.494,0.5)",
           "rgba(0.996,0.529,0.663,0.5)",
           "rgba(0.996,0.678,0.996,0.5)",
           "rgba(0.318,0.686,0.961,0.5)",
           "rgba(0.996,0.710,0.494,0.5)",
           "rgba(0.996,0.529,0.663,0.5)",
           "rgba(0.318,0.686,0.961,0.5)",
           "rgba(0.949,0.478,0.404,0.5)",
           "rgba(0.949,0.478,0.404,0.5)",
           "rgba(0.949,0.478,0.404,0.5)",
           "rgba(0.314,0.863,0.965,0.5)",
           "rgba(0.678,0.678,0.678,0.5)",
           "rgba(0.227,0.843,0.675,0.5)",
           "rgba(0.741,0.733,0.741,0.5)",
           "rgba(0.949,0.478,0.404,0.5)",
           "rgba(0.204,0.722,0.239,0.5)",
           "rgba(0.949,0.478,0.404,0.5)",
           "rgba(0.949,0.478,0.404,0.5)",
           "rgba(0.561,0.839,0.227,0.5)",
           "rgba(0.678,0.678,0.678,0.5)"
          ],
          "hovertemplate": "%{value:1f}<extra></extra>",
          "source": [
           0,
           0,
           1,
           1,
           1,
           1,
           2,
           2,
           2,
           3,
           4,
           5,
           6,
           6,
           7,
           7,
           7,
           8,
           8,
           9,
           9,
           10
          ],
          "target": [
           1,
           2,
           3,
           4,
           5,
           6,
           3,
           4,
           6,
           11,
           11,
           11,
           7,
           13,
           8,
           10,
           11,
           9,
           11,
           11,
           12,
           13
          ],
          "value": [
           42,
           38,
           22,
           6,
           3,
           11,
           19,
           15,
           4,
           41,
           21,
           3,
           12,
           3,
           6,
           1,
           5,
           3,
           3,
           1,
           2,
           1
          ]
         },
         "node": {
          "color": [
           "#fed67a",
           "#858dfb",
           "#bc85fb",
           "#FEB57E",
           "#fe87a9",
           "#feadfe",
           "#51AFF5",
           "#50dcf6",
           "#3ad7ac",
           "#34B83D",
           "#BDBBBD",
           "#f27a67",
           "#8FD63A",
           "#adadad"
          ],
          "hovertemplate": "%{value:1f}<extra></extra>",
          "label": [
           "Job Applications <b>80</b>",
           "Personal Contact <b>42</b>",
           "Cold Applied <b>38</b>",
           "Lost to the Abyss <b>41</b>",
           "Automated Reject <b>21</b>",
           "Human<br>Reject <b>3</b>",
           "Interview Request <b>15</b>",
           "Initial Screen <b>12</b>",
           "Meet Team <b>6</b>",
           "Job<br>Talk <b>3</b>",
           "Terminated <b>1</b>",
           "No <b>74</b>",
           "Yes <b>2</b>",
           "Unknown <b>4</b>"
          ],
          "pad": 10,
          "x": [
           0.01,
           0.1,
           0.1,
           0.2,
           0.2,
           0.2,
           0.2,
           0.27,
           0.34,
           0.43,
           0.38,
           0.5,
           0.5,
           0.5
          ],
          "y": [
           0.75,
           0.35,
           1.2,
           1.25,
           0.65,
           0.35,
           0.1,
           0.15,
           0.11,
           0.14,
           -0.01,
           0.95,
           0.17,
           0.001
          ]
         },
         "orientation": "v",
         "type": "sankey"
        }
       ],
       "layout": {
        "autosize": true,
        "height": 600,
        "template": {
         "data": {
          "bar": [
           {
            "error_x": {
             "color": "#2a3f5f"
            },
            "error_y": {
             "color": "#2a3f5f"
            },
            "marker": {
             "line": {
              "color": "#E5ECF6",
              "width": 0.5
             },
             "pattern": {
              "fillmode": "overlay",
              "size": 10,
              "solidity": 0.2
             }
            },
            "type": "bar"
           }
          ],
          "barpolar": [
           {
            "marker": {
             "line": {
              "color": "#E5ECF6",
              "width": 0.5
             },
             "pattern": {
              "fillmode": "overlay",
              "size": 10,
              "solidity": 0.2
             }
            },
            "type": "barpolar"
           }
          ],
          "carpet": [
           {
            "aaxis": {
             "endlinecolor": "#2a3f5f",
             "gridcolor": "white",
             "linecolor": "white",
             "minorgridcolor": "white",
             "startlinecolor": "#2a3f5f"
            },
            "baxis": {
             "endlinecolor": "#2a3f5f",
             "gridcolor": "white",
             "linecolor": "white",
             "minorgridcolor": "white",
             "startlinecolor": "#2a3f5f"
            },
            "type": "carpet"
           }
          ],
          "choropleth": [
           {
            "colorbar": {
             "outlinewidth": 0,
             "ticks": ""
            },
            "type": "choropleth"
           }
          ],
          "contour": [
           {
            "colorbar": {
             "outlinewidth": 0,
             "ticks": ""
            },
            "colorscale": [
             [
              0,
              "#0d0887"
             ],
             [
              0.1111111111111111,
              "#46039f"
             ],
             [
              0.2222222222222222,
              "#7201a8"
             ],
             [
              0.3333333333333333,
              "#9c179e"
             ],
             [
              0.4444444444444444,
              "#bd3786"
             ],
             [
              0.5555555555555556,
              "#d8576b"
             ],
             [
              0.6666666666666666,
              "#ed7953"
             ],
             [
              0.7777777777777778,
              "#fb9f3a"
             ],
             [
              0.8888888888888888,
              "#fdca26"
             ],
             [
              1,
              "#f0f921"
             ]
            ],
            "type": "contour"
           }
          ],
          "contourcarpet": [
           {
            "colorbar": {
             "outlinewidth": 0,
             "ticks": ""
            },
            "type": "contourcarpet"
           }
          ],
          "heatmap": [
           {
            "colorbar": {
             "outlinewidth": 0,
             "ticks": ""
            },
            "colorscale": [
             [
              0,
              "#0d0887"
             ],
             [
              0.1111111111111111,
              "#46039f"
             ],
             [
              0.2222222222222222,
              "#7201a8"
             ],
             [
              0.3333333333333333,
              "#9c179e"
             ],
             [
              0.4444444444444444,
              "#bd3786"
             ],
             [
              0.5555555555555556,
              "#d8576b"
             ],
             [
              0.6666666666666666,
              "#ed7953"
             ],
             [
              0.7777777777777778,
              "#fb9f3a"
             ],
             [
              0.8888888888888888,
              "#fdca26"
             ],
             [
              1,
              "#f0f921"
             ]
            ],
            "type": "heatmap"
           }
          ],
          "heatmapgl": [
           {
            "colorbar": {
             "outlinewidth": 0,
             "ticks": ""
            },
            "colorscale": [
             [
              0,
              "#0d0887"
             ],
             [
              0.1111111111111111,
              "#46039f"
             ],
             [
              0.2222222222222222,
              "#7201a8"
             ],
             [
              0.3333333333333333,
              "#9c179e"
             ],
             [
              0.4444444444444444,
              "#bd3786"
             ],
             [
              0.5555555555555556,
              "#d8576b"
             ],
             [
              0.6666666666666666,
              "#ed7953"
             ],
             [
              0.7777777777777778,
              "#fb9f3a"
             ],
             [
              0.8888888888888888,
              "#fdca26"
             ],
             [
              1,
              "#f0f921"
             ]
            ],
            "type": "heatmapgl"
           }
          ],
          "histogram": [
           {
            "marker": {
             "pattern": {
              "fillmode": "overlay",
              "size": 10,
              "solidity": 0.2
             }
            },
            "type": "histogram"
           }
          ],
          "histogram2d": [
           {
            "colorbar": {
             "outlinewidth": 0,
             "ticks": ""
            },
            "colorscale": [
             [
              0,
              "#0d0887"
             ],
             [
              0.1111111111111111,
              "#46039f"
             ],
             [
              0.2222222222222222,
              "#7201a8"
             ],
             [
              0.3333333333333333,
              "#9c179e"
             ],
             [
              0.4444444444444444,
              "#bd3786"
             ],
             [
              0.5555555555555556,
              "#d8576b"
             ],
             [
              0.6666666666666666,
              "#ed7953"
             ],
             [
              0.7777777777777778,
              "#fb9f3a"
             ],
             [
              0.8888888888888888,
              "#fdca26"
             ],
             [
              1,
              "#f0f921"
             ]
            ],
            "type": "histogram2d"
           }
          ],
          "histogram2dcontour": [
           {
            "colorbar": {
             "outlinewidth": 0,
             "ticks": ""
            },
            "colorscale": [
             [
              0,
              "#0d0887"
             ],
             [
              0.1111111111111111,
              "#46039f"
             ],
             [
              0.2222222222222222,
              "#7201a8"
             ],
             [
              0.3333333333333333,
              "#9c179e"
             ],
             [
              0.4444444444444444,
              "#bd3786"
             ],
             [
              0.5555555555555556,
              "#d8576b"
             ],
             [
              0.6666666666666666,
              "#ed7953"
             ],
             [
              0.7777777777777778,
              "#fb9f3a"
             ],
             [
              0.8888888888888888,
              "#fdca26"
             ],
             [
              1,
              "#f0f921"
             ]
            ],
            "type": "histogram2dcontour"
           }
          ],
          "mesh3d": [
           {
            "colorbar": {
             "outlinewidth": 0,
             "ticks": ""
            },
            "type": "mesh3d"
           }
          ],
          "parcoords": [
           {
            "line": {
             "colorbar": {
              "outlinewidth": 0,
              "ticks": ""
             }
            },
            "type": "parcoords"
           }
          ],
          "pie": [
           {
            "automargin": true,
            "type": "pie"
           }
          ],
          "scatter": [
           {
            "fillpattern": {
             "fillmode": "overlay",
             "size": 10,
             "solidity": 0.2
            },
            "type": "scatter"
           }
          ],
          "scatter3d": [
           {
            "line": {
             "colorbar": {
              "outlinewidth": 0,
              "ticks": ""
             }
            },
            "marker": {
             "colorbar": {
              "outlinewidth": 0,
              "ticks": ""
             }
            },
            "type": "scatter3d"
           }
          ],
          "scattercarpet": [
           {
            "marker": {
             "colorbar": {
              "outlinewidth": 0,
              "ticks": ""
             }
            },
            "type": "scattercarpet"
           }
          ],
          "scattergeo": [
           {
            "marker": {
             "colorbar": {
              "outlinewidth": 0,
              "ticks": ""
             }
            },
            "type": "scattergeo"
           }
          ],
          "scattergl": [
           {
            "marker": {
             "colorbar": {
              "outlinewidth": 0,
              "ticks": ""
             }
            },
            "type": "scattergl"
           }
          ],
          "scattermapbox": [
           {
            "marker": {
             "colorbar": {
              "outlinewidth": 0,
              "ticks": ""
             }
            },
            "type": "scattermapbox"
           }
          ],
          "scatterpolar": [
           {
            "marker": {
             "colorbar": {
              "outlinewidth": 0,
              "ticks": ""
             }
            },
            "type": "scatterpolar"
           }
          ],
          "scatterpolargl": [
           {
            "marker": {
             "colorbar": {
              "outlinewidth": 0,
              "ticks": ""
             }
            },
            "type": "scatterpolargl"
           }
          ],
          "scatterternary": [
           {
            "marker": {
             "colorbar": {
              "outlinewidth": 0,
              "ticks": ""
             }
            },
            "type": "scatterternary"
           }
          ],
          "surface": [
           {
            "colorbar": {
             "outlinewidth": 0,
             "ticks": ""
            },
            "colorscale": [
             [
              0,
              "#0d0887"
             ],
             [
              0.1111111111111111,
              "#46039f"
             ],
             [
              0.2222222222222222,
              "#7201a8"
             ],
             [
              0.3333333333333333,
              "#9c179e"
             ],
             [
              0.4444444444444444,
              "#bd3786"
             ],
             [
              0.5555555555555556,
              "#d8576b"
             ],
             [
              0.6666666666666666,
              "#ed7953"
             ],
             [
              0.7777777777777778,
              "#fb9f3a"
             ],
             [
              0.8888888888888888,
              "#fdca26"
             ],
             [
              1,
              "#f0f921"
             ]
            ],
            "type": "surface"
           }
          ],
          "table": [
           {
            "cells": {
             "fill": {
              "color": "#EBF0F8"
             },
             "line": {
              "color": "white"
             }
            },
            "header": {
             "fill": {
              "color": "#C8D4E3"
             },
             "line": {
              "color": "white"
             }
            },
            "type": "table"
           }
          ]
         },
         "layout": {
          "annotationdefaults": {
           "arrowcolor": "#2a3f5f",
           "arrowhead": 0,
           "arrowwidth": 1
          },
          "autotypenumbers": "strict",
          "coloraxis": {
           "colorbar": {
            "outlinewidth": 0,
            "ticks": ""
           }
          },
          "colorscale": {
           "diverging": [
            [
             0,
             "#8e0152"
            ],
            [
             0.1,
             "#c51b7d"
            ],
            [
             0.2,
             "#de77ae"
            ],
            [
             0.3,
             "#f1b6da"
            ],
            [
             0.4,
             "#fde0ef"
            ],
            [
             0.5,
             "#f7f7f7"
            ],
            [
             0.6,
             "#e6f5d0"
            ],
            [
             0.7,
             "#b8e186"
            ],
            [
             0.8,
             "#7fbc41"
            ],
            [
             0.9,
             "#4d9221"
            ],
            [
             1,
             "#276419"
            ]
           ],
           "sequential": [
            [
             0,
             "#0d0887"
            ],
            [
             0.1111111111111111,
             "#46039f"
            ],
            [
             0.2222222222222222,
             "#7201a8"
            ],
            [
             0.3333333333333333,
             "#9c179e"
            ],
            [
             0.4444444444444444,
             "#bd3786"
            ],
            [
             0.5555555555555556,
             "#d8576b"
            ],
            [
             0.6666666666666666,
             "#ed7953"
            ],
            [
             0.7777777777777778,
             "#fb9f3a"
            ],
            [
             0.8888888888888888,
             "#fdca26"
            ],
            [
             1,
             "#f0f921"
            ]
           ],
           "sequentialminus": [
            [
             0,
             "#0d0887"
            ],
            [
             0.1111111111111111,
             "#46039f"
            ],
            [
             0.2222222222222222,
             "#7201a8"
            ],
            [
             0.3333333333333333,
             "#9c179e"
            ],
            [
             0.4444444444444444,
             "#bd3786"
            ],
            [
             0.5555555555555556,
             "#d8576b"
            ],
            [
             0.6666666666666666,
             "#ed7953"
            ],
            [
             0.7777777777777778,
             "#fb9f3a"
            ],
            [
             0.8888888888888888,
             "#fdca26"
            ],
            [
             1,
             "#f0f921"
            ]
           ]
          },
          "colorway": [
           "#636efa",
           "#EF553B",
           "#00cc96",
           "#ab63fa",
           "#FFA15A",
           "#19d3f3",
           "#FF6692",
           "#B6E880",
           "#FF97FF",
           "#FECB52"
          ],
          "font": {
           "color": "#2a3f5f"
          },
          "geo": {
           "bgcolor": "white",
           "lakecolor": "white",
           "landcolor": "#E5ECF6",
           "showlakes": true,
           "showland": true,
           "subunitcolor": "white"
          },
          "hoverlabel": {
           "align": "left"
          },
          "hovermode": "closest",
          "mapbox": {
           "style": "light"
          },
          "paper_bgcolor": "white",
          "plot_bgcolor": "#E5ECF6",
          "polar": {
           "angularaxis": {
            "gridcolor": "white",
            "linecolor": "white",
            "ticks": ""
           },
           "bgcolor": "#E5ECF6",
           "radialaxis": {
            "gridcolor": "white",
            "linecolor": "white",
            "ticks": ""
           }
          },
          "scene": {
           "xaxis": {
            "backgroundcolor": "#E5ECF6",
            "gridcolor": "white",
            "gridwidth": 2,
            "linecolor": "white",
            "showbackground": true,
            "ticks": "",
            "zerolinecolor": "white"
           },
           "yaxis": {
            "backgroundcolor": "#E5ECF6",
            "gridcolor": "white",
            "gridwidth": 2,
            "linecolor": "white",
            "showbackground": true,
            "ticks": "",
            "zerolinecolor": "white"
           },
           "zaxis": {
            "backgroundcolor": "#E5ECF6",
            "gridcolor": "white",
            "gridwidth": 2,
            "linecolor": "white",
            "showbackground": true,
            "ticks": "",
            "zerolinecolor": "white"
           }
          },
          "shapedefaults": {
           "line": {
            "color": "#2a3f5f"
           }
          },
          "ternary": {
           "aaxis": {
            "gridcolor": "white",
            "linecolor": "white",
            "ticks": ""
           },
           "baxis": {
            "gridcolor": "white",
            "linecolor": "white",
            "ticks": ""
           },
           "bgcolor": "#E5ECF6",
           "caxis": {
            "gridcolor": "white",
            "linecolor": "white",
            "ticks": ""
           }
          },
          "title": {
           "x": 0.05
          },
          "xaxis": {
           "automargin": true,
           "gridcolor": "white",
           "linecolor": "white",
           "ticks": "",
           "title": {
            "standoff": 15
           },
           "zerolinecolor": "white",
           "zerolinewidth": 2
          },
          "yaxis": {
           "automargin": true,
           "gridcolor": "white",
           "linecolor": "white",
           "ticks": "",
           "title": {
            "standoff": 15
           },
           "zerolinecolor": "white",
           "zerolinewidth": 2
          }
         }
        },
        "width": 800
       }
      },
      "text/html": [
       "<div>                            <div id=\"a39beff1-d85f-4b63-8d6f-243af813d8eb\" class=\"plotly-graph-div\" style=\"height:600px; width:800px;\"></div>            <script type=\"text/javascript\">                require([\"plotly\"], function(Plotly) {                    window.PLOTLYENV=window.PLOTLYENV || {};                                    if (document.getElementById(\"a39beff1-d85f-4b63-8d6f-243af813d8eb\")) {                    Plotly.newPlot(                        \"a39beff1-d85f-4b63-8d6f-243af813d8eb\",                        [{\"link\":{\"color\":[\"rgba(0.522,0.553,0.984,0.5)\",\"rgba(0.737,0.522,0.984,0.5)\",\"rgba(0.996,0.710,0.494,0.5)\",\"rgba(0.996,0.529,0.663,0.5)\",\"rgba(0.996,0.678,0.996,0.5)\",\"rgba(0.318,0.686,0.961,0.5)\",\"rgba(0.996,0.710,0.494,0.5)\",\"rgba(0.996,0.529,0.663,0.5)\",\"rgba(0.318,0.686,0.961,0.5)\",\"rgba(0.949,0.478,0.404,0.5)\",\"rgba(0.949,0.478,0.404,0.5)\",\"rgba(0.949,0.478,0.404,0.5)\",\"rgba(0.314,0.863,0.965,0.5)\",\"rgba(0.678,0.678,0.678,0.5)\",\"rgba(0.227,0.843,0.675,0.5)\",\"rgba(0.741,0.733,0.741,0.5)\",\"rgba(0.949,0.478,0.404,0.5)\",\"rgba(0.204,0.722,0.239,0.5)\",\"rgba(0.949,0.478,0.404,0.5)\",\"rgba(0.949,0.478,0.404,0.5)\",\"rgba(0.561,0.839,0.227,0.5)\",\"rgba(0.678,0.678,0.678,0.5)\"],\"hovertemplate\":\"%{value:1f}\\u003cextra\\u003e\\u003c\\u002fextra\\u003e\",\"source\":[0,0,1,1,1,1,2,2,2,3,4,5,6,6,7,7,7,8,8,9,9,10],\"target\":[1,2,3,4,5,6,3,4,6,11,11,11,7,13,8,10,11,9,11,11,12,13],\"value\":[42,38,22,6,3,11,19,15,4,41,21,3,12,3,6,1,5,3,3,1,2,1]},\"node\":{\"color\":[\"#fed67a\",\"#858dfb\",\"#bc85fb\",\"#FEB57E\",\"#fe87a9\",\"#feadfe\",\"#51AFF5\",\"#50dcf6\",\"#3ad7ac\",\"#34B83D\",\"#BDBBBD\",\"#f27a67\",\"#8FD63A\",\"#adadad\"],\"hovertemplate\":\"%{value:1f}\\u003cextra\\u003e\\u003c\\u002fextra\\u003e\",\"label\":[\"Job Applications \\u003cb\\u003e80\\u003c\\u002fb\\u003e\",\"Personal Contact \\u003cb\\u003e42\\u003c\\u002fb\\u003e\",\"Cold Applied \\u003cb\\u003e38\\u003c\\u002fb\\u003e\",\"Lost to the Abyss \\u003cb\\u003e41\\u003c\\u002fb\\u003e\",\"Automated Reject \\u003cb\\u003e21\\u003c\\u002fb\\u003e\",\"Human\\u003cbr\\u003eReject \\u003cb\\u003e3\\u003c\\u002fb\\u003e\",\"Interview Request \\u003cb\\u003e15\\u003c\\u002fb\\u003e\",\"Initial Screen \\u003cb\\u003e12\\u003c\\u002fb\\u003e\",\"Meet Team \\u003cb\\u003e6\\u003c\\u002fb\\u003e\",\"Job\\u003cbr\\u003eTalk \\u003cb\\u003e3\\u003c\\u002fb\\u003e\",\"Terminated \\u003cb\\u003e1\\u003c\\u002fb\\u003e\",\"No \\u003cb\\u003e74\\u003c\\u002fb\\u003e\",\"Yes \\u003cb\\u003e2\\u003c\\u002fb\\u003e\",\"Unknown \\u003cb\\u003e4\\u003c\\u002fb\\u003e\"],\"pad\":10,\"x\":[0.01,0.1,0.1,0.2,0.2,0.2,0.2,0.27,0.34,0.43,0.38,0.5,0.5,0.5],\"y\":[0.75,0.35,1.2,1.25,0.65,0.35,0.1,0.15,0.11,0.14,-0.01,0.95,0.17,0.001]},\"orientation\":\"v\",\"type\":\"sankey\"}],                        {\"autosize\":true,\"height\":600,\"width\":800,\"template\":{\"data\":{\"histogram2dcontour\":[{\"type\":\"histogram2dcontour\",\"colorbar\":{\"outlinewidth\":0,\"ticks\":\"\"},\"colorscale\":[[0.0,\"#0d0887\"],[0.1111111111111111,\"#46039f\"],[0.2222222222222222,\"#7201a8\"],[0.3333333333333333,\"#9c179e\"],[0.4444444444444444,\"#bd3786\"],[0.5555555555555556,\"#d8576b\"],[0.6666666666666666,\"#ed7953\"],[0.7777777777777778,\"#fb9f3a\"],[0.8888888888888888,\"#fdca26\"],[1.0,\"#f0f921\"]]}],\"choropleth\":[{\"type\":\"choropleth\",\"colorbar\":{\"outlinewidth\":0,\"ticks\":\"\"}}],\"histogram2d\":[{\"type\":\"histogram2d\",\"colorbar\":{\"outlinewidth\":0,\"ticks\":\"\"},\"colorscale\":[[0.0,\"#0d0887\"],[0.1111111111111111,\"#46039f\"],[0.2222222222222222,\"#7201a8\"],[0.3333333333333333,\"#9c179e\"],[0.4444444444444444,\"#bd3786\"],[0.5555555555555556,\"#d8576b\"],[0.6666666666666666,\"#ed7953\"],[0.7777777777777778,\"#fb9f3a\"],[0.8888888888888888,\"#fdca26\"],[1.0,\"#f0f921\"]]}],\"heatmap\":[{\"type\":\"heatmap\",\"colorbar\":{\"outlinewidth\":0,\"ticks\":\"\"},\"colorscale\":[[0.0,\"#0d0887\"],[0.1111111111111111,\"#46039f\"],[0.2222222222222222,\"#7201a8\"],[0.3333333333333333,\"#9c179e\"],[0.4444444444444444,\"#bd3786\"],[0.5555555555555556,\"#d8576b\"],[0.6666666666666666,\"#ed7953\"],[0.7777777777777778,\"#fb9f3a\"],[0.8888888888888888,\"#fdca26\"],[1.0,\"#f0f921\"]]}],\"heatmapgl\":[{\"type\":\"heatmapgl\",\"colorbar\":{\"outlinewidth\":0,\"ticks\":\"\"},\"colorscale\":[[0.0,\"#0d0887\"],[0.1111111111111111,\"#46039f\"],[0.2222222222222222,\"#7201a8\"],[0.3333333333333333,\"#9c179e\"],[0.4444444444444444,\"#bd3786\"],[0.5555555555555556,\"#d8576b\"],[0.6666666666666666,\"#ed7953\"],[0.7777777777777778,\"#fb9f3a\"],[0.8888888888888888,\"#fdca26\"],[1.0,\"#f0f921\"]]}],\"contourcarpet\":[{\"type\":\"contourcarpet\",\"colorbar\":{\"outlinewidth\":0,\"ticks\":\"\"}}],\"contour\":[{\"type\":\"contour\",\"colorbar\":{\"outlinewidth\":0,\"ticks\":\"\"},\"colorscale\":[[0.0,\"#0d0887\"],[0.1111111111111111,\"#46039f\"],[0.2222222222222222,\"#7201a8\"],[0.3333333333333333,\"#9c179e\"],[0.4444444444444444,\"#bd3786\"],[0.5555555555555556,\"#d8576b\"],[0.6666666666666666,\"#ed7953\"],[0.7777777777777778,\"#fb9f3a\"],[0.8888888888888888,\"#fdca26\"],[1.0,\"#f0f921\"]]}],\"surface\":[{\"type\":\"surface\",\"colorbar\":{\"outlinewidth\":0,\"ticks\":\"\"},\"colorscale\":[[0.0,\"#0d0887\"],[0.1111111111111111,\"#46039f\"],[0.2222222222222222,\"#7201a8\"],[0.3333333333333333,\"#9c179e\"],[0.4444444444444444,\"#bd3786\"],[0.5555555555555556,\"#d8576b\"],[0.6666666666666666,\"#ed7953\"],[0.7777777777777778,\"#fb9f3a\"],[0.8888888888888888,\"#fdca26\"],[1.0,\"#f0f921\"]]}],\"mesh3d\":[{\"type\":\"mesh3d\",\"colorbar\":{\"outlinewidth\":0,\"ticks\":\"\"}}],\"scatter\":[{\"fillpattern\":{\"fillmode\":\"overlay\",\"size\":10,\"solidity\":0.2},\"type\":\"scatter\"}],\"parcoords\":[{\"type\":\"parcoords\",\"line\":{\"colorbar\":{\"outlinewidth\":0,\"ticks\":\"\"}}}],\"scatterpolargl\":[{\"type\":\"scatterpolargl\",\"marker\":{\"colorbar\":{\"outlinewidth\":0,\"ticks\":\"\"}}}],\"bar\":[{\"error_x\":{\"color\":\"#2a3f5f\"},\"error_y\":{\"color\":\"#2a3f5f\"},\"marker\":{\"line\":{\"color\":\"#E5ECF6\",\"width\":0.5},\"pattern\":{\"fillmode\":\"overlay\",\"size\":10,\"solidity\":0.2}},\"type\":\"bar\"}],\"scattergeo\":[{\"type\":\"scattergeo\",\"marker\":{\"colorbar\":{\"outlinewidth\":0,\"ticks\":\"\"}}}],\"scatterpolar\":[{\"type\":\"scatterpolar\",\"marker\":{\"colorbar\":{\"outlinewidth\":0,\"ticks\":\"\"}}}],\"histogram\":[{\"marker\":{\"pattern\":{\"fillmode\":\"overlay\",\"size\":10,\"solidity\":0.2}},\"type\":\"histogram\"}],\"scattergl\":[{\"type\":\"scattergl\",\"marker\":{\"colorbar\":{\"outlinewidth\":0,\"ticks\":\"\"}}}],\"scatter3d\":[{\"type\":\"scatter3d\",\"line\":{\"colorbar\":{\"outlinewidth\":0,\"ticks\":\"\"}},\"marker\":{\"colorbar\":{\"outlinewidth\":0,\"ticks\":\"\"}}}],\"scattermapbox\":[{\"type\":\"scattermapbox\",\"marker\":{\"colorbar\":{\"outlinewidth\":0,\"ticks\":\"\"}}}],\"scatterternary\":[{\"type\":\"scatterternary\",\"marker\":{\"colorbar\":{\"outlinewidth\":0,\"ticks\":\"\"}}}],\"scattercarpet\":[{\"type\":\"scattercarpet\",\"marker\":{\"colorbar\":{\"outlinewidth\":0,\"ticks\":\"\"}}}],\"carpet\":[{\"aaxis\":{\"endlinecolor\":\"#2a3f5f\",\"gridcolor\":\"white\",\"linecolor\":\"white\",\"minorgridcolor\":\"white\",\"startlinecolor\":\"#2a3f5f\"},\"baxis\":{\"endlinecolor\":\"#2a3f5f\",\"gridcolor\":\"white\",\"linecolor\":\"white\",\"minorgridcolor\":\"white\",\"startlinecolor\":\"#2a3f5f\"},\"type\":\"carpet\"}],\"table\":[{\"cells\":{\"fill\":{\"color\":\"#EBF0F8\"},\"line\":{\"color\":\"white\"}},\"header\":{\"fill\":{\"color\":\"#C8D4E3\"},\"line\":{\"color\":\"white\"}},\"type\":\"table\"}],\"barpolar\":[{\"marker\":{\"line\":{\"color\":\"#E5ECF6\",\"width\":0.5},\"pattern\":{\"fillmode\":\"overlay\",\"size\":10,\"solidity\":0.2}},\"type\":\"barpolar\"}],\"pie\":[{\"automargin\":true,\"type\":\"pie\"}]},\"layout\":{\"autotypenumbers\":\"strict\",\"colorway\":[\"#636efa\",\"#EF553B\",\"#00cc96\",\"#ab63fa\",\"#FFA15A\",\"#19d3f3\",\"#FF6692\",\"#B6E880\",\"#FF97FF\",\"#FECB52\"],\"font\":{\"color\":\"#2a3f5f\"},\"hovermode\":\"closest\",\"hoverlabel\":{\"align\":\"left\"},\"paper_bgcolor\":\"white\",\"plot_bgcolor\":\"#E5ECF6\",\"polar\":{\"bgcolor\":\"#E5ECF6\",\"angularaxis\":{\"gridcolor\":\"white\",\"linecolor\":\"white\",\"ticks\":\"\"},\"radialaxis\":{\"gridcolor\":\"white\",\"linecolor\":\"white\",\"ticks\":\"\"}},\"ternary\":{\"bgcolor\":\"#E5ECF6\",\"aaxis\":{\"gridcolor\":\"white\",\"linecolor\":\"white\",\"ticks\":\"\"},\"baxis\":{\"gridcolor\":\"white\",\"linecolor\":\"white\",\"ticks\":\"\"},\"caxis\":{\"gridcolor\":\"white\",\"linecolor\":\"white\",\"ticks\":\"\"}},\"coloraxis\":{\"colorbar\":{\"outlinewidth\":0,\"ticks\":\"\"}},\"colorscale\":{\"sequential\":[[0.0,\"#0d0887\"],[0.1111111111111111,\"#46039f\"],[0.2222222222222222,\"#7201a8\"],[0.3333333333333333,\"#9c179e\"],[0.4444444444444444,\"#bd3786\"],[0.5555555555555556,\"#d8576b\"],[0.6666666666666666,\"#ed7953\"],[0.7777777777777778,\"#fb9f3a\"],[0.8888888888888888,\"#fdca26\"],[1.0,\"#f0f921\"]],\"sequentialminus\":[[0.0,\"#0d0887\"],[0.1111111111111111,\"#46039f\"],[0.2222222222222222,\"#7201a8\"],[0.3333333333333333,\"#9c179e\"],[0.4444444444444444,\"#bd3786\"],[0.5555555555555556,\"#d8576b\"],[0.6666666666666666,\"#ed7953\"],[0.7777777777777778,\"#fb9f3a\"],[0.8888888888888888,\"#fdca26\"],[1.0,\"#f0f921\"]],\"diverging\":[[0,\"#8e0152\"],[0.1,\"#c51b7d\"],[0.2,\"#de77ae\"],[0.3,\"#f1b6da\"],[0.4,\"#fde0ef\"],[0.5,\"#f7f7f7\"],[0.6,\"#e6f5d0\"],[0.7,\"#b8e186\"],[0.8,\"#7fbc41\"],[0.9,\"#4d9221\"],[1,\"#276419\"]]},\"xaxis\":{\"gridcolor\":\"white\",\"linecolor\":\"white\",\"ticks\":\"\",\"title\":{\"standoff\":15},\"zerolinecolor\":\"white\",\"automargin\":true,\"zerolinewidth\":2},\"yaxis\":{\"gridcolor\":\"white\",\"linecolor\":\"white\",\"ticks\":\"\",\"title\":{\"standoff\":15},\"zerolinecolor\":\"white\",\"automargin\":true,\"zerolinewidth\":2},\"scene\":{\"xaxis\":{\"backgroundcolor\":\"#E5ECF6\",\"gridcolor\":\"white\",\"linecolor\":\"white\",\"showbackground\":true,\"ticks\":\"\",\"zerolinecolor\":\"white\",\"gridwidth\":2},\"yaxis\":{\"backgroundcolor\":\"#E5ECF6\",\"gridcolor\":\"white\",\"linecolor\":\"white\",\"showbackground\":true,\"ticks\":\"\",\"zerolinecolor\":\"white\",\"gridwidth\":2},\"zaxis\":{\"backgroundcolor\":\"#E5ECF6\",\"gridcolor\":\"white\",\"linecolor\":\"white\",\"showbackground\":true,\"ticks\":\"\",\"zerolinecolor\":\"white\",\"gridwidth\":2}},\"shapedefaults\":{\"line\":{\"color\":\"#2a3f5f\"}},\"annotationdefaults\":{\"arrowcolor\":\"#2a3f5f\",\"arrowhead\":0,\"arrowwidth\":1},\"geo\":{\"bgcolor\":\"white\",\"landcolor\":\"#E5ECF6\",\"subunitcolor\":\"white\",\"showland\":true,\"showlakes\":true,\"lakecolor\":\"white\"},\"title\":{\"x\":0.05},\"mapbox\":{\"style\":\"light\"}}}},                        {\"responsive\": true}                    ).then(function(){\n",
       "                            \n",
       "var gd = document.getElementById('a39beff1-d85f-4b63-8d6f-243af813d8eb');\n",
       "var x = new MutationObserver(function (mutations, observer) {{\n",
       "        var display = window.getComputedStyle(gd).display;\n",
       "        if (!display || display === 'none') {{\n",
       "            console.log([gd, 'removed!']);\n",
       "            Plotly.purge(gd);\n",
       "            observer.disconnect();\n",
       "        }}\n",
       "}});\n",
       "\n",
       "// Listen for the removal of the full notebook cells\n",
       "var notebookContainer = gd.closest('#notebook-container');\n",
       "if (notebookContainer) {{\n",
       "    x.observe(notebookContainer, {childList: true});\n",
       "}}\n",
       "\n",
       "// Listen for the clearing of the current output cell\n",
       "var outputEl = gd.closest('.output');\n",
       "if (outputEl) {{\n",
       "    x.observe(outputEl, {childList: true});\n",
       "}}\n",
       "\n",
       "                        })                };                });            </script>        </div>"
      ]
     },
     "metadata": {},
     "output_type": "display_data"
    }
   ],
   "source": [
    "fig = go.Figure(go.Sankey(\n",
    "    #arrangement = \"snap\",\n",
    "    node = {\n",
    "        \"label\": node_labels,\n",
    "        \"color\":[node_color[node_map[x]] for x in node_sort],\n",
    "        'hovertemplate':'%{value:1f}<extra></extra>',\n",
    "# 'Job App',\n",
    "# 'Personal Contact','Cold Applied',\n",
    "# 'Abyss','Automated Reject','Human Reject','Interview',\n",
    "# 'Screen','Meet Team','Job Talk','Terminated',\n",
    "# 'No','Yes','Unknown']\n",
    "\n",
    "# I didn't like the auto layout view, so I moved them precisely where I liked them, \n",
    "        \"x\": [0.01, \n",
    "              0.1, 0.1, \n",
    "              0.2, 0.2, 0.2, 0.2,\n",
    "              0.27, \n",
    "              0.34, 0.43, 0.38,\n",
    "              0.5, 0.5, 0.5,],\n",
    "        \"y\": [0.75, \n",
    "              0.35, 1.2, \n",
    "              1.25, 0.65, 0.35, 0.1,\n",
    "              0.15, \n",
    "              0.11, 0.14, -0.01,\n",
    "              0.95, 0.17, 0.001,],\n",
    "        'pad':10},  # 10 Pixels\n",
    "    link = {\n",
    "        \"source\": sdf['source_idx'].values,\n",
    "        \"target\": sdf['target_idx'].values,\n",
    "        \"value\": sdf['count'].values,\n",
    "        \"color\": sdf[\"target_color\"].values,\n",
    "        #'hovertemplate':'%{source.label} --> %{target.label}: <extra>%{value:1f}</extra>',\n",
    "        'hovertemplate':'%{value:1f}<extra></extra>',\n",
    "    },\n",
    "    orientation = 'v',\n",
    "    ),\n",
    "    layout = go.Layout(\n",
    "        autosize=True,\n",
    "        width=800,\n",
    "        height=600,\n",
    "    )\n",
    ")\n",
    "\n",
    "fig.show()"
   ]
  },
  {
   "cell_type": "code",
   "execution_count": 78,
   "id": "b6182f43",
   "metadata": {},
   "outputs": [
    {
     "data": {
      "application/vnd.plotly.v1+json": {
       "config": {
        "plotlyServerURL": "https://plotly.com"
       },
       "data": [
        {
         "link": {
          "color": [
           "rgba(0.522,0.553,0.984,0.5)",
           "rgba(0.737,0.522,0.984,0.5)",
           "rgba(0.996,0.710,0.494,0.5)",
           "rgba(0.996,0.529,0.663,0.5)",
           "rgba(0.996,0.678,0.996,0.5)",
           "rgba(0.318,0.686,0.961,0.5)",
           "rgba(0.996,0.710,0.494,0.5)",
           "rgba(0.996,0.529,0.663,0.5)",
           "rgba(0.318,0.686,0.961,0.5)",
           "rgba(0.949,0.478,0.404,0.5)",
           "rgba(0.949,0.478,0.404,0.5)",
           "rgba(0.949,0.478,0.404,0.5)",
           "rgba(0.314,0.863,0.965,0.5)",
           "rgba(0.678,0.678,0.678,0.5)",
           "rgba(0.227,0.843,0.675,0.5)",
           "rgba(0.741,0.733,0.741,0.5)",
           "rgba(0.949,0.478,0.404,0.5)",
           "rgba(0.204,0.722,0.239,0.5)",
           "rgba(0.949,0.478,0.404,0.5)",
           "rgba(0.949,0.478,0.404,0.5)",
           "rgba(0.561,0.839,0.227,0.5)",
           "rgba(0.678,0.678,0.678,0.5)"
          ],
          "hovertemplate": "%{value:1f}<extra></extra>",
          "source": [
           0,
           0,
           1,
           1,
           1,
           1,
           2,
           2,
           2,
           3,
           4,
           5,
           6,
           6,
           7,
           7,
           7,
           8,
           8,
           9,
           9,
           10
          ],
          "target": [
           1,
           2,
           3,
           4,
           5,
           6,
           3,
           4,
           6,
           11,
           11,
           11,
           7,
           13,
           8,
           10,
           11,
           9,
           11,
           11,
           12,
           13
          ],
          "value": [
           42,
           38,
           22,
           6,
           3,
           11,
           19,
           15,
           4,
           41,
           21,
           3,
           12,
           3,
           6,
           1,
           5,
           3,
           3,
           1,
           2,
           1
          ]
         },
         "node": {
          "color": [
           "#fed67a",
           "#858dfb",
           "#bc85fb",
           "#FEB57E",
           "#fe87a9",
           "#feadfe",
           "#51AFF5",
           "#50dcf6",
           "#3ad7ac",
           "#34B83D",
           "#BDBBBD",
           "#f27a67",
           "#8FD63A",
           "#adadad"
          ],
          "hovertemplate": "%{value:1f}<extra></extra>",
          "label": [
           "Job Applications <b>80</b>",
           "Personal Contact <b>42</b>",
           "Cold Applied <b>38</b>",
           "Lost to the Abyss <b>41</b>",
           "Automated Reject <b>21</b>",
           "Human<br>Reject <b>3</b>",
           "Interview Request <b>15</b>",
           "Initial Screen <b>12</b>",
           "Meet Team <b>6</b>",
           "Job<br>Talk <b>3</b>",
           "Terminated <b>1</b>",
           "No <b>74</b>",
           "Yes <b>2</b>",
           "Unknown <b>4</b>"
          ],
          "pad": 10,
          "x": [
           0.01,
           0.1,
           0.1,
           0.2,
           0.2,
           0.2,
           0.2,
           0.27,
           0.34,
           0.43,
           0.34,
           0.5,
           0.5,
           0.5
          ],
          "y": [
           0.75,
           0.35,
           1.2,
           1.25,
           0.65,
           0.35,
           0.1,
           0.05,
           0.001,
           0.002,
           0.23,
           0.95,
           0.001,
           0.13
          ]
         },
         "orientation": "v",
         "type": "sankey"
        }
       ],
       "layout": {
        "autosize": true,
        "height": 600,
        "template": {
         "data": {
          "bar": [
           {
            "error_x": {
             "color": "#2a3f5f"
            },
            "error_y": {
             "color": "#2a3f5f"
            },
            "marker": {
             "line": {
              "color": "#E5ECF6",
              "width": 0.5
             },
             "pattern": {
              "fillmode": "overlay",
              "size": 10,
              "solidity": 0.2
             }
            },
            "type": "bar"
           }
          ],
          "barpolar": [
           {
            "marker": {
             "line": {
              "color": "#E5ECF6",
              "width": 0.5
             },
             "pattern": {
              "fillmode": "overlay",
              "size": 10,
              "solidity": 0.2
             }
            },
            "type": "barpolar"
           }
          ],
          "carpet": [
           {
            "aaxis": {
             "endlinecolor": "#2a3f5f",
             "gridcolor": "white",
             "linecolor": "white",
             "minorgridcolor": "white",
             "startlinecolor": "#2a3f5f"
            },
            "baxis": {
             "endlinecolor": "#2a3f5f",
             "gridcolor": "white",
             "linecolor": "white",
             "minorgridcolor": "white",
             "startlinecolor": "#2a3f5f"
            },
            "type": "carpet"
           }
          ],
          "choropleth": [
           {
            "colorbar": {
             "outlinewidth": 0,
             "ticks": ""
            },
            "type": "choropleth"
           }
          ],
          "contour": [
           {
            "colorbar": {
             "outlinewidth": 0,
             "ticks": ""
            },
            "colorscale": [
             [
              0,
              "#0d0887"
             ],
             [
              0.1111111111111111,
              "#46039f"
             ],
             [
              0.2222222222222222,
              "#7201a8"
             ],
             [
              0.3333333333333333,
              "#9c179e"
             ],
             [
              0.4444444444444444,
              "#bd3786"
             ],
             [
              0.5555555555555556,
              "#d8576b"
             ],
             [
              0.6666666666666666,
              "#ed7953"
             ],
             [
              0.7777777777777778,
              "#fb9f3a"
             ],
             [
              0.8888888888888888,
              "#fdca26"
             ],
             [
              1,
              "#f0f921"
             ]
            ],
            "type": "contour"
           }
          ],
          "contourcarpet": [
           {
            "colorbar": {
             "outlinewidth": 0,
             "ticks": ""
            },
            "type": "contourcarpet"
           }
          ],
          "heatmap": [
           {
            "colorbar": {
             "outlinewidth": 0,
             "ticks": ""
            },
            "colorscale": [
             [
              0,
              "#0d0887"
             ],
             [
              0.1111111111111111,
              "#46039f"
             ],
             [
              0.2222222222222222,
              "#7201a8"
             ],
             [
              0.3333333333333333,
              "#9c179e"
             ],
             [
              0.4444444444444444,
              "#bd3786"
             ],
             [
              0.5555555555555556,
              "#d8576b"
             ],
             [
              0.6666666666666666,
              "#ed7953"
             ],
             [
              0.7777777777777778,
              "#fb9f3a"
             ],
             [
              0.8888888888888888,
              "#fdca26"
             ],
             [
              1,
              "#f0f921"
             ]
            ],
            "type": "heatmap"
           }
          ],
          "heatmapgl": [
           {
            "colorbar": {
             "outlinewidth": 0,
             "ticks": ""
            },
            "colorscale": [
             [
              0,
              "#0d0887"
             ],
             [
              0.1111111111111111,
              "#46039f"
             ],
             [
              0.2222222222222222,
              "#7201a8"
             ],
             [
              0.3333333333333333,
              "#9c179e"
             ],
             [
              0.4444444444444444,
              "#bd3786"
             ],
             [
              0.5555555555555556,
              "#d8576b"
             ],
             [
              0.6666666666666666,
              "#ed7953"
             ],
             [
              0.7777777777777778,
              "#fb9f3a"
             ],
             [
              0.8888888888888888,
              "#fdca26"
             ],
             [
              1,
              "#f0f921"
             ]
            ],
            "type": "heatmapgl"
           }
          ],
          "histogram": [
           {
            "marker": {
             "pattern": {
              "fillmode": "overlay",
              "size": 10,
              "solidity": 0.2
             }
            },
            "type": "histogram"
           }
          ],
          "histogram2d": [
           {
            "colorbar": {
             "outlinewidth": 0,
             "ticks": ""
            },
            "colorscale": [
             [
              0,
              "#0d0887"
             ],
             [
              0.1111111111111111,
              "#46039f"
             ],
             [
              0.2222222222222222,
              "#7201a8"
             ],
             [
              0.3333333333333333,
              "#9c179e"
             ],
             [
              0.4444444444444444,
              "#bd3786"
             ],
             [
              0.5555555555555556,
              "#d8576b"
             ],
             [
              0.6666666666666666,
              "#ed7953"
             ],
             [
              0.7777777777777778,
              "#fb9f3a"
             ],
             [
              0.8888888888888888,
              "#fdca26"
             ],
             [
              1,
              "#f0f921"
             ]
            ],
            "type": "histogram2d"
           }
          ],
          "histogram2dcontour": [
           {
            "colorbar": {
             "outlinewidth": 0,
             "ticks": ""
            },
            "colorscale": [
             [
              0,
              "#0d0887"
             ],
             [
              0.1111111111111111,
              "#46039f"
             ],
             [
              0.2222222222222222,
              "#7201a8"
             ],
             [
              0.3333333333333333,
              "#9c179e"
             ],
             [
              0.4444444444444444,
              "#bd3786"
             ],
             [
              0.5555555555555556,
              "#d8576b"
             ],
             [
              0.6666666666666666,
              "#ed7953"
             ],
             [
              0.7777777777777778,
              "#fb9f3a"
             ],
             [
              0.8888888888888888,
              "#fdca26"
             ],
             [
              1,
              "#f0f921"
             ]
            ],
            "type": "histogram2dcontour"
           }
          ],
          "mesh3d": [
           {
            "colorbar": {
             "outlinewidth": 0,
             "ticks": ""
            },
            "type": "mesh3d"
           }
          ],
          "parcoords": [
           {
            "line": {
             "colorbar": {
              "outlinewidth": 0,
              "ticks": ""
             }
            },
            "type": "parcoords"
           }
          ],
          "pie": [
           {
            "automargin": true,
            "type": "pie"
           }
          ],
          "scatter": [
           {
            "fillpattern": {
             "fillmode": "overlay",
             "size": 10,
             "solidity": 0.2
            },
            "type": "scatter"
           }
          ],
          "scatter3d": [
           {
            "line": {
             "colorbar": {
              "outlinewidth": 0,
              "ticks": ""
             }
            },
            "marker": {
             "colorbar": {
              "outlinewidth": 0,
              "ticks": ""
             }
            },
            "type": "scatter3d"
           }
          ],
          "scattercarpet": [
           {
            "marker": {
             "colorbar": {
              "outlinewidth": 0,
              "ticks": ""
             }
            },
            "type": "scattercarpet"
           }
          ],
          "scattergeo": [
           {
            "marker": {
             "colorbar": {
              "outlinewidth": 0,
              "ticks": ""
             }
            },
            "type": "scattergeo"
           }
          ],
          "scattergl": [
           {
            "marker": {
             "colorbar": {
              "outlinewidth": 0,
              "ticks": ""
             }
            },
            "type": "scattergl"
           }
          ],
          "scattermapbox": [
           {
            "marker": {
             "colorbar": {
              "outlinewidth": 0,
              "ticks": ""
             }
            },
            "type": "scattermapbox"
           }
          ],
          "scatterpolar": [
           {
            "marker": {
             "colorbar": {
              "outlinewidth": 0,
              "ticks": ""
             }
            },
            "type": "scatterpolar"
           }
          ],
          "scatterpolargl": [
           {
            "marker": {
             "colorbar": {
              "outlinewidth": 0,
              "ticks": ""
             }
            },
            "type": "scatterpolargl"
           }
          ],
          "scatterternary": [
           {
            "marker": {
             "colorbar": {
              "outlinewidth": 0,
              "ticks": ""
             }
            },
            "type": "scatterternary"
           }
          ],
          "surface": [
           {
            "colorbar": {
             "outlinewidth": 0,
             "ticks": ""
            },
            "colorscale": [
             [
              0,
              "#0d0887"
             ],
             [
              0.1111111111111111,
              "#46039f"
             ],
             [
              0.2222222222222222,
              "#7201a8"
             ],
             [
              0.3333333333333333,
              "#9c179e"
             ],
             [
              0.4444444444444444,
              "#bd3786"
             ],
             [
              0.5555555555555556,
              "#d8576b"
             ],
             [
              0.6666666666666666,
              "#ed7953"
             ],
             [
              0.7777777777777778,
              "#fb9f3a"
             ],
             [
              0.8888888888888888,
              "#fdca26"
             ],
             [
              1,
              "#f0f921"
             ]
            ],
            "type": "surface"
           }
          ],
          "table": [
           {
            "cells": {
             "fill": {
              "color": "#EBF0F8"
             },
             "line": {
              "color": "white"
             }
            },
            "header": {
             "fill": {
              "color": "#C8D4E3"
             },
             "line": {
              "color": "white"
             }
            },
            "type": "table"
           }
          ]
         },
         "layout": {
          "annotationdefaults": {
           "arrowcolor": "#2a3f5f",
           "arrowhead": 0,
           "arrowwidth": 1
          },
          "autotypenumbers": "strict",
          "coloraxis": {
           "colorbar": {
            "outlinewidth": 0,
            "ticks": ""
           }
          },
          "colorscale": {
           "diverging": [
            [
             0,
             "#8e0152"
            ],
            [
             0.1,
             "#c51b7d"
            ],
            [
             0.2,
             "#de77ae"
            ],
            [
             0.3,
             "#f1b6da"
            ],
            [
             0.4,
             "#fde0ef"
            ],
            [
             0.5,
             "#f7f7f7"
            ],
            [
             0.6,
             "#e6f5d0"
            ],
            [
             0.7,
             "#b8e186"
            ],
            [
             0.8,
             "#7fbc41"
            ],
            [
             0.9,
             "#4d9221"
            ],
            [
             1,
             "#276419"
            ]
           ],
           "sequential": [
            [
             0,
             "#0d0887"
            ],
            [
             0.1111111111111111,
             "#46039f"
            ],
            [
             0.2222222222222222,
             "#7201a8"
            ],
            [
             0.3333333333333333,
             "#9c179e"
            ],
            [
             0.4444444444444444,
             "#bd3786"
            ],
            [
             0.5555555555555556,
             "#d8576b"
            ],
            [
             0.6666666666666666,
             "#ed7953"
            ],
            [
             0.7777777777777778,
             "#fb9f3a"
            ],
            [
             0.8888888888888888,
             "#fdca26"
            ],
            [
             1,
             "#f0f921"
            ]
           ],
           "sequentialminus": [
            [
             0,
             "#0d0887"
            ],
            [
             0.1111111111111111,
             "#46039f"
            ],
            [
             0.2222222222222222,
             "#7201a8"
            ],
            [
             0.3333333333333333,
             "#9c179e"
            ],
            [
             0.4444444444444444,
             "#bd3786"
            ],
            [
             0.5555555555555556,
             "#d8576b"
            ],
            [
             0.6666666666666666,
             "#ed7953"
            ],
            [
             0.7777777777777778,
             "#fb9f3a"
            ],
            [
             0.8888888888888888,
             "#fdca26"
            ],
            [
             1,
             "#f0f921"
            ]
           ]
          },
          "colorway": [
           "#636efa",
           "#EF553B",
           "#00cc96",
           "#ab63fa",
           "#FFA15A",
           "#19d3f3",
           "#FF6692",
           "#B6E880",
           "#FF97FF",
           "#FECB52"
          ],
          "font": {
           "color": "#2a3f5f"
          },
          "geo": {
           "bgcolor": "white",
           "lakecolor": "white",
           "landcolor": "#E5ECF6",
           "showlakes": true,
           "showland": true,
           "subunitcolor": "white"
          },
          "hoverlabel": {
           "align": "left"
          },
          "hovermode": "closest",
          "mapbox": {
           "style": "light"
          },
          "paper_bgcolor": "white",
          "plot_bgcolor": "#E5ECF6",
          "polar": {
           "angularaxis": {
            "gridcolor": "white",
            "linecolor": "white",
            "ticks": ""
           },
           "bgcolor": "#E5ECF6",
           "radialaxis": {
            "gridcolor": "white",
            "linecolor": "white",
            "ticks": ""
           }
          },
          "scene": {
           "xaxis": {
            "backgroundcolor": "#E5ECF6",
            "gridcolor": "white",
            "gridwidth": 2,
            "linecolor": "white",
            "showbackground": true,
            "ticks": "",
            "zerolinecolor": "white"
           },
           "yaxis": {
            "backgroundcolor": "#E5ECF6",
            "gridcolor": "white",
            "gridwidth": 2,
            "linecolor": "white",
            "showbackground": true,
            "ticks": "",
            "zerolinecolor": "white"
           },
           "zaxis": {
            "backgroundcolor": "#E5ECF6",
            "gridcolor": "white",
            "gridwidth": 2,
            "linecolor": "white",
            "showbackground": true,
            "ticks": "",
            "zerolinecolor": "white"
           }
          },
          "shapedefaults": {
           "line": {
            "color": "#2a3f5f"
           }
          },
          "ternary": {
           "aaxis": {
            "gridcolor": "white",
            "linecolor": "white",
            "ticks": ""
           },
           "baxis": {
            "gridcolor": "white",
            "linecolor": "white",
            "ticks": ""
           },
           "bgcolor": "#E5ECF6",
           "caxis": {
            "gridcolor": "white",
            "linecolor": "white",
            "ticks": ""
           }
          },
          "title": {
           "x": 0.05
          },
          "xaxis": {
           "automargin": true,
           "gridcolor": "white",
           "linecolor": "white",
           "ticks": "",
           "title": {
            "standoff": 15
           },
           "zerolinecolor": "white",
           "zerolinewidth": 2
          },
          "yaxis": {
           "automargin": true,
           "gridcolor": "white",
           "linecolor": "white",
           "ticks": "",
           "title": {
            "standoff": 15
           },
           "zerolinecolor": "white",
           "zerolinewidth": 2
          }
         }
        },
        "width": 800
       }
      },
      "text/html": [
       "<div>                            <div id=\"5abeee76-2822-406f-b0b4-1fc4f26501e2\" class=\"plotly-graph-div\" style=\"height:600px; width:800px;\"></div>            <script type=\"text/javascript\">                require([\"plotly\"], function(Plotly) {                    window.PLOTLYENV=window.PLOTLYENV || {};                                    if (document.getElementById(\"5abeee76-2822-406f-b0b4-1fc4f26501e2\")) {                    Plotly.newPlot(                        \"5abeee76-2822-406f-b0b4-1fc4f26501e2\",                        [{\"link\":{\"color\":[\"rgba(0.522,0.553,0.984,0.5)\",\"rgba(0.737,0.522,0.984,0.5)\",\"rgba(0.996,0.710,0.494,0.5)\",\"rgba(0.996,0.529,0.663,0.5)\",\"rgba(0.996,0.678,0.996,0.5)\",\"rgba(0.318,0.686,0.961,0.5)\",\"rgba(0.996,0.710,0.494,0.5)\",\"rgba(0.996,0.529,0.663,0.5)\",\"rgba(0.318,0.686,0.961,0.5)\",\"rgba(0.949,0.478,0.404,0.5)\",\"rgba(0.949,0.478,0.404,0.5)\",\"rgba(0.949,0.478,0.404,0.5)\",\"rgba(0.314,0.863,0.965,0.5)\",\"rgba(0.678,0.678,0.678,0.5)\",\"rgba(0.227,0.843,0.675,0.5)\",\"rgba(0.741,0.733,0.741,0.5)\",\"rgba(0.949,0.478,0.404,0.5)\",\"rgba(0.204,0.722,0.239,0.5)\",\"rgba(0.949,0.478,0.404,0.5)\",\"rgba(0.949,0.478,0.404,0.5)\",\"rgba(0.561,0.839,0.227,0.5)\",\"rgba(0.678,0.678,0.678,0.5)\"],\"hovertemplate\":\"%{value:1f}\\u003cextra\\u003e\\u003c\\u002fextra\\u003e\",\"source\":[0,0,1,1,1,1,2,2,2,3,4,5,6,6,7,7,7,8,8,9,9,10],\"target\":[1,2,3,4,5,6,3,4,6,11,11,11,7,13,8,10,11,9,11,11,12,13],\"value\":[42,38,22,6,3,11,19,15,4,41,21,3,12,3,6,1,5,3,3,1,2,1]},\"node\":{\"color\":[\"#fed67a\",\"#858dfb\",\"#bc85fb\",\"#FEB57E\",\"#fe87a9\",\"#feadfe\",\"#51AFF5\",\"#50dcf6\",\"#3ad7ac\",\"#34B83D\",\"#BDBBBD\",\"#f27a67\",\"#8FD63A\",\"#adadad\"],\"hovertemplate\":\"%{value:1f}\\u003cextra\\u003e\\u003c\\u002fextra\\u003e\",\"label\":[\"Job Applications \\u003cb\\u003e80\\u003c\\u002fb\\u003e\",\"Personal Contact \\u003cb\\u003e42\\u003c\\u002fb\\u003e\",\"Cold Applied \\u003cb\\u003e38\\u003c\\u002fb\\u003e\",\"Lost to the Abyss \\u003cb\\u003e41\\u003c\\u002fb\\u003e\",\"Automated Reject \\u003cb\\u003e21\\u003c\\u002fb\\u003e\",\"Human\\u003cbr\\u003eReject \\u003cb\\u003e3\\u003c\\u002fb\\u003e\",\"Interview Request \\u003cb\\u003e15\\u003c\\u002fb\\u003e\",\"Initial Screen \\u003cb\\u003e12\\u003c\\u002fb\\u003e\",\"Meet Team \\u003cb\\u003e6\\u003c\\u002fb\\u003e\",\"Job\\u003cbr\\u003eTalk \\u003cb\\u003e3\\u003c\\u002fb\\u003e\",\"Terminated \\u003cb\\u003e1\\u003c\\u002fb\\u003e\",\"No \\u003cb\\u003e74\\u003c\\u002fb\\u003e\",\"Yes \\u003cb\\u003e2\\u003c\\u002fb\\u003e\",\"Unknown \\u003cb\\u003e4\\u003c\\u002fb\\u003e\"],\"pad\":10,\"x\":[0.01,0.1,0.1,0.2,0.2,0.2,0.2,0.27,0.34,0.43,0.34,0.5,0.5,0.5],\"y\":[0.75,0.35,1.2,1.25,0.65,0.35,0.1,0.05,0.001,0.002,0.23,0.95,0.001,0.13]},\"orientation\":\"v\",\"type\":\"sankey\"}],                        {\"autosize\":true,\"height\":600,\"width\":800,\"template\":{\"data\":{\"histogram2dcontour\":[{\"type\":\"histogram2dcontour\",\"colorbar\":{\"outlinewidth\":0,\"ticks\":\"\"},\"colorscale\":[[0.0,\"#0d0887\"],[0.1111111111111111,\"#46039f\"],[0.2222222222222222,\"#7201a8\"],[0.3333333333333333,\"#9c179e\"],[0.4444444444444444,\"#bd3786\"],[0.5555555555555556,\"#d8576b\"],[0.6666666666666666,\"#ed7953\"],[0.7777777777777778,\"#fb9f3a\"],[0.8888888888888888,\"#fdca26\"],[1.0,\"#f0f921\"]]}],\"choropleth\":[{\"type\":\"choropleth\",\"colorbar\":{\"outlinewidth\":0,\"ticks\":\"\"}}],\"histogram2d\":[{\"type\":\"histogram2d\",\"colorbar\":{\"outlinewidth\":0,\"ticks\":\"\"},\"colorscale\":[[0.0,\"#0d0887\"],[0.1111111111111111,\"#46039f\"],[0.2222222222222222,\"#7201a8\"],[0.3333333333333333,\"#9c179e\"],[0.4444444444444444,\"#bd3786\"],[0.5555555555555556,\"#d8576b\"],[0.6666666666666666,\"#ed7953\"],[0.7777777777777778,\"#fb9f3a\"],[0.8888888888888888,\"#fdca26\"],[1.0,\"#f0f921\"]]}],\"heatmap\":[{\"type\":\"heatmap\",\"colorbar\":{\"outlinewidth\":0,\"ticks\":\"\"},\"colorscale\":[[0.0,\"#0d0887\"],[0.1111111111111111,\"#46039f\"],[0.2222222222222222,\"#7201a8\"],[0.3333333333333333,\"#9c179e\"],[0.4444444444444444,\"#bd3786\"],[0.5555555555555556,\"#d8576b\"],[0.6666666666666666,\"#ed7953\"],[0.7777777777777778,\"#fb9f3a\"],[0.8888888888888888,\"#fdca26\"],[1.0,\"#f0f921\"]]}],\"heatmapgl\":[{\"type\":\"heatmapgl\",\"colorbar\":{\"outlinewidth\":0,\"ticks\":\"\"},\"colorscale\":[[0.0,\"#0d0887\"],[0.1111111111111111,\"#46039f\"],[0.2222222222222222,\"#7201a8\"],[0.3333333333333333,\"#9c179e\"],[0.4444444444444444,\"#bd3786\"],[0.5555555555555556,\"#d8576b\"],[0.6666666666666666,\"#ed7953\"],[0.7777777777777778,\"#fb9f3a\"],[0.8888888888888888,\"#fdca26\"],[1.0,\"#f0f921\"]]}],\"contourcarpet\":[{\"type\":\"contourcarpet\",\"colorbar\":{\"outlinewidth\":0,\"ticks\":\"\"}}],\"contour\":[{\"type\":\"contour\",\"colorbar\":{\"outlinewidth\":0,\"ticks\":\"\"},\"colorscale\":[[0.0,\"#0d0887\"],[0.1111111111111111,\"#46039f\"],[0.2222222222222222,\"#7201a8\"],[0.3333333333333333,\"#9c179e\"],[0.4444444444444444,\"#bd3786\"],[0.5555555555555556,\"#d8576b\"],[0.6666666666666666,\"#ed7953\"],[0.7777777777777778,\"#fb9f3a\"],[0.8888888888888888,\"#fdca26\"],[1.0,\"#f0f921\"]]}],\"surface\":[{\"type\":\"surface\",\"colorbar\":{\"outlinewidth\":0,\"ticks\":\"\"},\"colorscale\":[[0.0,\"#0d0887\"],[0.1111111111111111,\"#46039f\"],[0.2222222222222222,\"#7201a8\"],[0.3333333333333333,\"#9c179e\"],[0.4444444444444444,\"#bd3786\"],[0.5555555555555556,\"#d8576b\"],[0.6666666666666666,\"#ed7953\"],[0.7777777777777778,\"#fb9f3a\"],[0.8888888888888888,\"#fdca26\"],[1.0,\"#f0f921\"]]}],\"mesh3d\":[{\"type\":\"mesh3d\",\"colorbar\":{\"outlinewidth\":0,\"ticks\":\"\"}}],\"scatter\":[{\"fillpattern\":{\"fillmode\":\"overlay\",\"size\":10,\"solidity\":0.2},\"type\":\"scatter\"}],\"parcoords\":[{\"type\":\"parcoords\",\"line\":{\"colorbar\":{\"outlinewidth\":0,\"ticks\":\"\"}}}],\"scatterpolargl\":[{\"type\":\"scatterpolargl\",\"marker\":{\"colorbar\":{\"outlinewidth\":0,\"ticks\":\"\"}}}],\"bar\":[{\"error_x\":{\"color\":\"#2a3f5f\"},\"error_y\":{\"color\":\"#2a3f5f\"},\"marker\":{\"line\":{\"color\":\"#E5ECF6\",\"width\":0.5},\"pattern\":{\"fillmode\":\"overlay\",\"size\":10,\"solidity\":0.2}},\"type\":\"bar\"}],\"scattergeo\":[{\"type\":\"scattergeo\",\"marker\":{\"colorbar\":{\"outlinewidth\":0,\"ticks\":\"\"}}}],\"scatterpolar\":[{\"type\":\"scatterpolar\",\"marker\":{\"colorbar\":{\"outlinewidth\":0,\"ticks\":\"\"}}}],\"histogram\":[{\"marker\":{\"pattern\":{\"fillmode\":\"overlay\",\"size\":10,\"solidity\":0.2}},\"type\":\"histogram\"}],\"scattergl\":[{\"type\":\"scattergl\",\"marker\":{\"colorbar\":{\"outlinewidth\":0,\"ticks\":\"\"}}}],\"scatter3d\":[{\"type\":\"scatter3d\",\"line\":{\"colorbar\":{\"outlinewidth\":0,\"ticks\":\"\"}},\"marker\":{\"colorbar\":{\"outlinewidth\":0,\"ticks\":\"\"}}}],\"scattermapbox\":[{\"type\":\"scattermapbox\",\"marker\":{\"colorbar\":{\"outlinewidth\":0,\"ticks\":\"\"}}}],\"scatterternary\":[{\"type\":\"scatterternary\",\"marker\":{\"colorbar\":{\"outlinewidth\":0,\"ticks\":\"\"}}}],\"scattercarpet\":[{\"type\":\"scattercarpet\",\"marker\":{\"colorbar\":{\"outlinewidth\":0,\"ticks\":\"\"}}}],\"carpet\":[{\"aaxis\":{\"endlinecolor\":\"#2a3f5f\",\"gridcolor\":\"white\",\"linecolor\":\"white\",\"minorgridcolor\":\"white\",\"startlinecolor\":\"#2a3f5f\"},\"baxis\":{\"endlinecolor\":\"#2a3f5f\",\"gridcolor\":\"white\",\"linecolor\":\"white\",\"minorgridcolor\":\"white\",\"startlinecolor\":\"#2a3f5f\"},\"type\":\"carpet\"}],\"table\":[{\"cells\":{\"fill\":{\"color\":\"#EBF0F8\"},\"line\":{\"color\":\"white\"}},\"header\":{\"fill\":{\"color\":\"#C8D4E3\"},\"line\":{\"color\":\"white\"}},\"type\":\"table\"}],\"barpolar\":[{\"marker\":{\"line\":{\"color\":\"#E5ECF6\",\"width\":0.5},\"pattern\":{\"fillmode\":\"overlay\",\"size\":10,\"solidity\":0.2}},\"type\":\"barpolar\"}],\"pie\":[{\"automargin\":true,\"type\":\"pie\"}]},\"layout\":{\"autotypenumbers\":\"strict\",\"colorway\":[\"#636efa\",\"#EF553B\",\"#00cc96\",\"#ab63fa\",\"#FFA15A\",\"#19d3f3\",\"#FF6692\",\"#B6E880\",\"#FF97FF\",\"#FECB52\"],\"font\":{\"color\":\"#2a3f5f\"},\"hovermode\":\"closest\",\"hoverlabel\":{\"align\":\"left\"},\"paper_bgcolor\":\"white\",\"plot_bgcolor\":\"#E5ECF6\",\"polar\":{\"bgcolor\":\"#E5ECF6\",\"angularaxis\":{\"gridcolor\":\"white\",\"linecolor\":\"white\",\"ticks\":\"\"},\"radialaxis\":{\"gridcolor\":\"white\",\"linecolor\":\"white\",\"ticks\":\"\"}},\"ternary\":{\"bgcolor\":\"#E5ECF6\",\"aaxis\":{\"gridcolor\":\"white\",\"linecolor\":\"white\",\"ticks\":\"\"},\"baxis\":{\"gridcolor\":\"white\",\"linecolor\":\"white\",\"ticks\":\"\"},\"caxis\":{\"gridcolor\":\"white\",\"linecolor\":\"white\",\"ticks\":\"\"}},\"coloraxis\":{\"colorbar\":{\"outlinewidth\":0,\"ticks\":\"\"}},\"colorscale\":{\"sequential\":[[0.0,\"#0d0887\"],[0.1111111111111111,\"#46039f\"],[0.2222222222222222,\"#7201a8\"],[0.3333333333333333,\"#9c179e\"],[0.4444444444444444,\"#bd3786\"],[0.5555555555555556,\"#d8576b\"],[0.6666666666666666,\"#ed7953\"],[0.7777777777777778,\"#fb9f3a\"],[0.8888888888888888,\"#fdca26\"],[1.0,\"#f0f921\"]],\"sequentialminus\":[[0.0,\"#0d0887\"],[0.1111111111111111,\"#46039f\"],[0.2222222222222222,\"#7201a8\"],[0.3333333333333333,\"#9c179e\"],[0.4444444444444444,\"#bd3786\"],[0.5555555555555556,\"#d8576b\"],[0.6666666666666666,\"#ed7953\"],[0.7777777777777778,\"#fb9f3a\"],[0.8888888888888888,\"#fdca26\"],[1.0,\"#f0f921\"]],\"diverging\":[[0,\"#8e0152\"],[0.1,\"#c51b7d\"],[0.2,\"#de77ae\"],[0.3,\"#f1b6da\"],[0.4,\"#fde0ef\"],[0.5,\"#f7f7f7\"],[0.6,\"#e6f5d0\"],[0.7,\"#b8e186\"],[0.8,\"#7fbc41\"],[0.9,\"#4d9221\"],[1,\"#276419\"]]},\"xaxis\":{\"gridcolor\":\"white\",\"linecolor\":\"white\",\"ticks\":\"\",\"title\":{\"standoff\":15},\"zerolinecolor\":\"white\",\"automargin\":true,\"zerolinewidth\":2},\"yaxis\":{\"gridcolor\":\"white\",\"linecolor\":\"white\",\"ticks\":\"\",\"title\":{\"standoff\":15},\"zerolinecolor\":\"white\",\"automargin\":true,\"zerolinewidth\":2},\"scene\":{\"xaxis\":{\"backgroundcolor\":\"#E5ECF6\",\"gridcolor\":\"white\",\"linecolor\":\"white\",\"showbackground\":true,\"ticks\":\"\",\"zerolinecolor\":\"white\",\"gridwidth\":2},\"yaxis\":{\"backgroundcolor\":\"#E5ECF6\",\"gridcolor\":\"white\",\"linecolor\":\"white\",\"showbackground\":true,\"ticks\":\"\",\"zerolinecolor\":\"white\",\"gridwidth\":2},\"zaxis\":{\"backgroundcolor\":\"#E5ECF6\",\"gridcolor\":\"white\",\"linecolor\":\"white\",\"showbackground\":true,\"ticks\":\"\",\"zerolinecolor\":\"white\",\"gridwidth\":2}},\"shapedefaults\":{\"line\":{\"color\":\"#2a3f5f\"}},\"annotationdefaults\":{\"arrowcolor\":\"#2a3f5f\",\"arrowhead\":0,\"arrowwidth\":1},\"geo\":{\"bgcolor\":\"white\",\"landcolor\":\"#E5ECF6\",\"subunitcolor\":\"white\",\"showland\":true,\"showlakes\":true,\"lakecolor\":\"white\"},\"title\":{\"x\":0.05},\"mapbox\":{\"style\":\"light\"}}}},                        {\"responsive\": true}                    ).then(function(){\n",
       "                            \n",
       "var gd = document.getElementById('5abeee76-2822-406f-b0b4-1fc4f26501e2');\n",
       "var x = new MutationObserver(function (mutations, observer) {{\n",
       "        var display = window.getComputedStyle(gd).display;\n",
       "        if (!display || display === 'none') {{\n",
       "            console.log([gd, 'removed!']);\n",
       "            Plotly.purge(gd);\n",
       "            observer.disconnect();\n",
       "        }}\n",
       "}});\n",
       "\n",
       "// Listen for the removal of the full notebook cells\n",
       "var notebookContainer = gd.closest('#notebook-container');\n",
       "if (notebookContainer) {{\n",
       "    x.observe(notebookContainer, {childList: true});\n",
       "}}\n",
       "\n",
       "// Listen for the clearing of the current output cell\n",
       "var outputEl = gd.closest('.output');\n",
       "if (outputEl) {{\n",
       "    x.observe(outputEl, {childList: true});\n",
       "}}\n",
       "\n",
       "                        })                };                });            </script>        </div>"
      ]
     },
     "metadata": {},
     "output_type": "display_data"
    }
   ],
   "source": [
    "fig = go.Figure(go.Sankey(\n",
    "    #arrangement = \"snap\",\n",
    "    node = {\n",
    "        \"label\": node_labels,\n",
    "        \"color\":[node_color[node_map[x]] for x in node_sort],\n",
    "        'hovertemplate':'%{value:1f}<extra></extra>',\n",
    "# 'Job App',\n",
    "# 'Personal Contact','Cold Applied',\n",
    "# 'Abyss','Automated Reject','Human Reject','Interview',\n",
    "# 'Screen','Meet Team','Job Talk','Terminated',\n",
    "# 'No','Yes','Unknown']\n",
    "\n",
    "# I didn't like the auto layout view, so I moved them precisely where I liked them, \n",
    "        \"x\": [0.01, \n",
    "              0.1, 0.1, \n",
    "              0.2, 0.2, 0.2, 0.2,\n",
    "              0.27, \n",
    "              0.34, 0.43, 0.34,\n",
    "              0.5, 0.5, 0.5,],\n",
    "        \"y\": [0.75, \n",
    "              0.35, 1.2, \n",
    "              1.25, 0.65, 0.35, 0.1,\n",
    "              0.05, \n",
    "              0.001, 0.002, 0.23,\n",
    "              0.95, 0.001, 0.13,],\n",
    "        'pad':10},  # 10 Pixels\n",
    "    link = {\n",
    "        \"source\": sdf['source_idx'].values,\n",
    "        \"target\": sdf['target_idx'].values,\n",
    "        \"value\": sdf['count'].values,\n",
    "        \"color\": sdf[\"target_color\"].values,\n",
    "        #'hovertemplate':'%{source.label} --> %{target.label}: <extra>%{value:1f}</extra>',\n",
    "        'hovertemplate':'%{value:1f}<extra></extra>',\n",
    "    },\n",
    "    orientation = 'v',\n",
    "    ),\n",
    "    layout = go.Layout(\n",
    "        autosize=True,\n",
    "        width=800,\n",
    "        height=600,\n",
    "    )\n",
    ")\n",
    "\n",
    "fig.show()"
   ]
  },
  {
   "cell_type": "code",
   "execution_count": 79,
   "id": "373da452",
   "metadata": {},
   "outputs": [],
   "source": [
    "fig.write_html('sankey_plot.html')\n",
    "#fig.write_json('sankey_plot.json')"
   ]
  },
  {
   "cell_type": "markdown",
   "id": "af66c32d",
   "metadata": {},
   "source": [
    "## Tracking applications and career conversations over time"
   ]
  },
  {
   "cell_type": "code",
   "execution_count": 99,
   "id": "5d8e4b1c",
   "metadata": {},
   "outputs": [
    {
     "data": {
      "text/html": [
       "<div>\n",
       "<style scoped>\n",
       "    .dataframe tbody tr th:only-of-type {\n",
       "        vertical-align: middle;\n",
       "    }\n",
       "\n",
       "    .dataframe tbody tr th {\n",
       "        vertical-align: top;\n",
       "    }\n",
       "\n",
       "    .dataframe thead th {\n",
       "        text-align: right;\n",
       "    }\n",
       "</style>\n",
       "<table border=\"1\" class=\"dataframe\">\n",
       "  <thead>\n",
       "    <tr style=\"text-align: right;\">\n",
       "      <th></th>\n",
       "      <th>Type</th>\n",
       "      <th>Company</th>\n",
       "      <th>Person</th>\n",
       "      <th>Date</th>\n",
       "      <th>Sector</th>\n",
       "      <th>Location</th>\n",
       "    </tr>\n",
       "  </thead>\n",
       "  <tbody>\n",
       "    <tr>\n",
       "      <th>0</th>\n",
       "      <td>0</td>\n",
       "      <td>Ginkgo</td>\n",
       "      <td>Jason Stevens</td>\n",
       "      <td>2022-09-15</td>\n",
       "      <td>BCD</td>\n",
       "      <td>E</td>\n",
       "    </tr>\n",
       "    <tr>\n",
       "      <th>1</th>\n",
       "      <td>0</td>\n",
       "      <td>ISB</td>\n",
       "      <td>Nitin Baliga</td>\n",
       "      <td>2022-09-20</td>\n",
       "      <td>BD</td>\n",
       "      <td>M</td>\n",
       "    </tr>\n",
       "    <tr>\n",
       "      <th>2</th>\n",
       "      <td>0</td>\n",
       "      <td>ISB</td>\n",
       "      <td>Jake Valenzuela</td>\n",
       "      <td>2022-09-26</td>\n",
       "      <td>BD</td>\n",
       "      <td>M</td>\n",
       "    </tr>\n",
       "    <tr>\n",
       "      <th>3</th>\n",
       "      <td>0</td>\n",
       "      <td>Novo Nordisk</td>\n",
       "      <td>Melih Yilmaz</td>\n",
       "      <td>2022-10-07</td>\n",
       "      <td>BD</td>\n",
       "      <td>M</td>\n",
       "    </tr>\n",
       "    <tr>\n",
       "      <th>4</th>\n",
       "      <td>0</td>\n",
       "      <td>ISB</td>\n",
       "      <td>Eliza Peterson</td>\n",
       "      <td>2022-10-12</td>\n",
       "      <td>BD</td>\n",
       "      <td>Z</td>\n",
       "    </tr>\n",
       "    <tr>\n",
       "      <th>...</th>\n",
       "      <td>...</td>\n",
       "      <td>...</td>\n",
       "      <td>...</td>\n",
       "      <td>...</td>\n",
       "      <td>...</td>\n",
       "      <td>...</td>\n",
       "    </tr>\n",
       "    <tr>\n",
       "      <th>98</th>\n",
       "      <td>2</td>\n",
       "      <td>Form Bio</td>\n",
       "      <td>Christina Capehart</td>\n",
       "      <td>2023-10-06</td>\n",
       "      <td>BD</td>\n",
       "      <td>Z</td>\n",
       "    </tr>\n",
       "    <tr>\n",
       "      <th>99</th>\n",
       "      <td>1</td>\n",
       "      <td>Carbon Drop</td>\n",
       "      <td>Spencer Mains</td>\n",
       "      <td>2023-10-05</td>\n",
       "      <td>BCD</td>\n",
       "      <td>Z</td>\n",
       "    </tr>\n",
       "    <tr>\n",
       "      <th>100</th>\n",
       "      <td>4</td>\n",
       "      <td>LanzaTech</td>\n",
       "      <td>LanzaTech Team (+job talk)</td>\n",
       "      <td>2023-10-11</td>\n",
       "      <td>BCD</td>\n",
       "      <td>Z</td>\n",
       "    </tr>\n",
       "    <tr>\n",
       "      <th>101</th>\n",
       "      <td>0</td>\n",
       "      <td>Spark Climate</td>\n",
       "      <td>Laura Adams</td>\n",
       "      <td>2023-09-26</td>\n",
       "      <td>C</td>\n",
       "      <td>E</td>\n",
       "    </tr>\n",
       "    <tr>\n",
       "      <th>102</th>\n",
       "      <td>2</td>\n",
       "      <td>Ginkgo</td>\n",
       "      <td>Ginkgo Team (+job talk)</td>\n",
       "      <td>2023-10-18</td>\n",
       "      <td>BCD</td>\n",
       "      <td>Z</td>\n",
       "    </tr>\n",
       "  </tbody>\n",
       "</table>\n",
       "<p>103 rows × 6 columns</p>\n",
       "</div>"
      ],
      "text/plain": [
       "     Type        Company                      Person       Date Sector  \\\n",
       "0       0         Ginkgo               Jason Stevens 2022-09-15    BCD   \n",
       "1       0            ISB                Nitin Baliga 2022-09-20     BD   \n",
       "2       0            ISB             Jake Valenzuela 2022-09-26     BD   \n",
       "3       0   Novo Nordisk                Melih Yilmaz 2022-10-07     BD   \n",
       "4       0            ISB              Eliza Peterson 2022-10-12     BD   \n",
       "..    ...            ...                         ...        ...    ...   \n",
       "98      2       Form Bio          Christina Capehart 2023-10-06     BD   \n",
       "99      1    Carbon Drop               Spencer Mains 2023-10-05    BCD   \n",
       "100     4      LanzaTech  LanzaTech Team (+job talk) 2023-10-11    BCD   \n",
       "101     0  Spark Climate                 Laura Adams 2023-09-26      C   \n",
       "102     2         Ginkgo     Ginkgo Team (+job talk) 2023-10-18    BCD   \n",
       "\n",
       "    Location  \n",
       "0          E  \n",
       "1          M  \n",
       "2          M  \n",
       "3          M  \n",
       "4          Z  \n",
       "..       ...  \n",
       "98         Z  \n",
       "99         Z  \n",
       "100        Z  \n",
       "101        E  \n",
       "102        Z  \n",
       "\n",
       "[103 rows x 6 columns]"
      ]
     },
     "execution_count": 99,
     "metadata": {},
     "output_type": "execute_result"
    }
   ],
   "source": [
    "cdf = pd.read_csv('data/convos_2023.txt',sep='\\t')\n",
    "cdf['Date'] = pd.to_datetime(cdf['Date'])\n",
    "#cdf['Type'] = cdf['Type'].astype(str)\n",
    "\n",
    "cdf"
   ]
  },
  {
   "cell_type": "code",
   "execution_count": 112,
   "id": "5c777558",
   "metadata": {},
   "outputs": [
    {
     "name": "stderr",
     "output_type": "stream",
     "text": [
      "/var/folders/z0/53b9pdsx1hg30nbh705jh_ym0000gn/T/ipykernel_99645/4200871155.py:3: SettingWithCopyWarning:\n",
      "\n",
      "\n",
      "A value is trying to be set on a copy of a slice from a DataFrame.\n",
      "Try using .loc[row_indexer,col_indexer] = value instead\n",
      "\n",
      "See the caveats in the documentation: https://pandas.pydata.org/pandas-docs/stable/user_guide/indexing.html#returning-a-view-versus-a-copy\n",
      "\n"
     ]
    },
    {
     "data": {
      "text/html": [
       "<div>\n",
       "<style scoped>\n",
       "    .dataframe tbody tr th:only-of-type {\n",
       "        vertical-align: middle;\n",
       "    }\n",
       "\n",
       "    .dataframe tbody tr th {\n",
       "        vertical-align: top;\n",
       "    }\n",
       "\n",
       "    .dataframe thead th {\n",
       "        text-align: right;\n",
       "    }\n",
       "</style>\n",
       "<table border=\"1\" class=\"dataframe\">\n",
       "  <thead>\n",
       "    <tr style=\"text-align: right;\">\n",
       "      <th></th>\n",
       "      <th>Type</th>\n",
       "      <th>Company</th>\n",
       "      <th>Person</th>\n",
       "      <th>Date</th>\n",
       "      <th>Sector</th>\n",
       "      <th>Location</th>\n",
       "    </tr>\n",
       "  </thead>\n",
       "  <tbody>\n",
       "    <tr>\n",
       "      <th>31</th>\n",
       "      <td>1</td>\n",
       "      <td>Invert Bio</td>\n",
       "      <td>Martin Permin</td>\n",
       "      <td>2023-01-18</td>\n",
       "      <td>BD</td>\n",
       "      <td>Z</td>\n",
       "    </tr>\n",
       "    <tr>\n",
       "      <th>34</th>\n",
       "      <td>2</td>\n",
       "      <td>Invert Bio</td>\n",
       "      <td>Andy Elmsley</td>\n",
       "      <td>2023-01-31</td>\n",
       "      <td>BD</td>\n",
       "      <td>Z</td>\n",
       "    </tr>\n",
       "    <tr>\n",
       "      <th>36</th>\n",
       "      <td>3</td>\n",
       "      <td>Invert Bio</td>\n",
       "      <td>Holger Thorup</td>\n",
       "      <td>2023-02-07</td>\n",
       "      <td>BD</td>\n",
       "      <td>Z</td>\n",
       "    </tr>\n",
       "    <tr>\n",
       "      <th>54</th>\n",
       "      <td>1</td>\n",
       "      <td>IUNU</td>\n",
       "      <td>Sydney/Quincy/Rohini</td>\n",
       "      <td>2023-04-04</td>\n",
       "      <td>CD</td>\n",
       "      <td>Z</td>\n",
       "    </tr>\n",
       "    <tr>\n",
       "      <th>64</th>\n",
       "      <td>1</td>\n",
       "      <td>Homeworld Collective</td>\n",
       "      <td>Paul Reginato</td>\n",
       "      <td>2023-06-19</td>\n",
       "      <td>BC</td>\n",
       "      <td>Z</td>\n",
       "    </tr>\n",
       "    <tr>\n",
       "      <th>73</th>\n",
       "      <td>1</td>\n",
       "      <td>Nori</td>\n",
       "      <td>Radhika Moolgavkar</td>\n",
       "      <td>2023-07-17</td>\n",
       "      <td>CD</td>\n",
       "      <td>Z</td>\n",
       "    </tr>\n",
       "    <tr>\n",
       "      <th>75</th>\n",
       "      <td>2</td>\n",
       "      <td>Nori</td>\n",
       "      <td>Nori Team</td>\n",
       "      <td>2023-07-27</td>\n",
       "      <td>CD</td>\n",
       "      <td>Z</td>\n",
       "    </tr>\n",
       "    <tr>\n",
       "      <th>76</th>\n",
       "      <td>3</td>\n",
       "      <td>Nori</td>\n",
       "      <td>Nori Team</td>\n",
       "      <td>2023-08-04</td>\n",
       "      <td>CD</td>\n",
       "      <td>M</td>\n",
       "    </tr>\n",
       "    <tr>\n",
       "      <th>78</th>\n",
       "      <td>1</td>\n",
       "      <td>AI2</td>\n",
       "      <td>Liza Ray</td>\n",
       "      <td>2023-08-15</td>\n",
       "      <td>BD</td>\n",
       "      <td>Z</td>\n",
       "    </tr>\n",
       "    <tr>\n",
       "      <th>83</th>\n",
       "      <td>1</td>\n",
       "      <td>Think Bioscience</td>\n",
       "      <td>Jill Kohla</td>\n",
       "      <td>2023-08-25</td>\n",
       "      <td>BD</td>\n",
       "      <td>Z</td>\n",
       "    </tr>\n",
       "    <tr>\n",
       "      <th>87</th>\n",
       "      <td>1</td>\n",
       "      <td>Cascade Climate</td>\n",
       "      <td>Jenny Mills</td>\n",
       "      <td>2023-08-31</td>\n",
       "      <td>BCD</td>\n",
       "      <td>Z</td>\n",
       "    </tr>\n",
       "    <tr>\n",
       "      <th>88</th>\n",
       "      <td>1</td>\n",
       "      <td>Muir Ai</td>\n",
       "      <td>Peter Williams</td>\n",
       "      <td>2023-08-31</td>\n",
       "      <td>CD</td>\n",
       "      <td>Z</td>\n",
       "    </tr>\n",
       "    <tr>\n",
       "      <th>89</th>\n",
       "      <td>2</td>\n",
       "      <td>Think Biosciences</td>\n",
       "      <td>Jerome Fox</td>\n",
       "      <td>2023-09-05</td>\n",
       "      <td>BD</td>\n",
       "      <td>Z</td>\n",
       "    </tr>\n",
       "    <tr>\n",
       "      <th>90</th>\n",
       "      <td>1</td>\n",
       "      <td>Form Bio</td>\n",
       "      <td>Brandi Cantarel</td>\n",
       "      <td>2023-09-05</td>\n",
       "      <td>BD</td>\n",
       "      <td>Z</td>\n",
       "    </tr>\n",
       "    <tr>\n",
       "      <th>91</th>\n",
       "      <td>1</td>\n",
       "      <td>LanzaTech</td>\n",
       "      <td>Erin Fry</td>\n",
       "      <td>2023-09-13</td>\n",
       "      <td>BCD</td>\n",
       "      <td>Z</td>\n",
       "    </tr>\n",
       "    <tr>\n",
       "      <th>92</th>\n",
       "      <td>2</td>\n",
       "      <td>LanzaTech</td>\n",
       "      <td>Luke McKay</td>\n",
       "      <td>2023-09-14</td>\n",
       "      <td>BCD</td>\n",
       "      <td>Z</td>\n",
       "    </tr>\n",
       "    <tr>\n",
       "      <th>94</th>\n",
       "      <td>3</td>\n",
       "      <td>LanzaTech</td>\n",
       "      <td>Maya Van Lysebettens</td>\n",
       "      <td>2023-09-20</td>\n",
       "      <td>BCD</td>\n",
       "      <td>Z</td>\n",
       "    </tr>\n",
       "    <tr>\n",
       "      <th>96</th>\n",
       "      <td>3</td>\n",
       "      <td>Think Biosciences</td>\n",
       "      <td>Think team (+job talk)</td>\n",
       "      <td>2023-10-03</td>\n",
       "      <td>BD</td>\n",
       "      <td>M</td>\n",
       "    </tr>\n",
       "    <tr>\n",
       "      <th>97</th>\n",
       "      <td>1</td>\n",
       "      <td>Ginkgo</td>\n",
       "      <td>Joshua Dunn</td>\n",
       "      <td>2023-10-03</td>\n",
       "      <td>BCD</td>\n",
       "      <td>Z</td>\n",
       "    </tr>\n",
       "    <tr>\n",
       "      <th>98</th>\n",
       "      <td>2</td>\n",
       "      <td>Form Bio</td>\n",
       "      <td>Christina Capehart</td>\n",
       "      <td>2023-10-06</td>\n",
       "      <td>BD</td>\n",
       "      <td>Z</td>\n",
       "    </tr>\n",
       "    <tr>\n",
       "      <th>99</th>\n",
       "      <td>1</td>\n",
       "      <td>Carbon Drop</td>\n",
       "      <td>Spencer Mains</td>\n",
       "      <td>2023-10-05</td>\n",
       "      <td>BCD</td>\n",
       "      <td>Z</td>\n",
       "    </tr>\n",
       "    <tr>\n",
       "      <th>100</th>\n",
       "      <td>4</td>\n",
       "      <td>LanzaTech</td>\n",
       "      <td>LanzaTech Team (+job talk)</td>\n",
       "      <td>2023-10-11</td>\n",
       "      <td>BCD</td>\n",
       "      <td>Z</td>\n",
       "    </tr>\n",
       "    <tr>\n",
       "      <th>102</th>\n",
       "      <td>2</td>\n",
       "      <td>Ginkgo</td>\n",
       "      <td>Ginkgo Team (+job talk)</td>\n",
       "      <td>2023-10-18</td>\n",
       "      <td>BCD</td>\n",
       "      <td>Z</td>\n",
       "    </tr>\n",
       "  </tbody>\n",
       "</table>\n",
       "</div>"
      ],
      "text/plain": [
       "    Type               Company                      Person       Date Sector  \\\n",
       "31     1            Invert Bio               Martin Permin 2023-01-18     BD   \n",
       "34     2            Invert Bio                Andy Elmsley 2023-01-31     BD   \n",
       "36     3            Invert Bio               Holger Thorup 2023-02-07     BD   \n",
       "54     1                  IUNU        Sydney/Quincy/Rohini 2023-04-04     CD   \n",
       "64     1  Homeworld Collective               Paul Reginato 2023-06-19     BC   \n",
       "73     1                  Nori          Radhika Moolgavkar 2023-07-17     CD   \n",
       "75     2                  Nori                   Nori Team 2023-07-27     CD   \n",
       "76     3                  Nori                   Nori Team 2023-08-04     CD   \n",
       "78     1                   AI2                    Liza Ray 2023-08-15     BD   \n",
       "83     1      Think Bioscience                  Jill Kohla 2023-08-25     BD   \n",
       "87     1       Cascade Climate                 Jenny Mills 2023-08-31    BCD   \n",
       "88     1               Muir Ai              Peter Williams 2023-08-31     CD   \n",
       "89     2     Think Biosciences                  Jerome Fox 2023-09-05     BD   \n",
       "90     1              Form Bio             Brandi Cantarel 2023-09-05     BD   \n",
       "91     1             LanzaTech                    Erin Fry 2023-09-13    BCD   \n",
       "92     2             LanzaTech                  Luke McKay 2023-09-14    BCD   \n",
       "94     3             LanzaTech        Maya Van Lysebettens 2023-09-20    BCD   \n",
       "96     3     Think Biosciences      Think team (+job talk) 2023-10-03     BD   \n",
       "97     1                Ginkgo                 Joshua Dunn 2023-10-03    BCD   \n",
       "98     2              Form Bio          Christina Capehart 2023-10-06     BD   \n",
       "99     1           Carbon Drop               Spencer Mains 2023-10-05    BCD   \n",
       "100    4             LanzaTech  LanzaTech Team (+job talk) 2023-10-11    BCD   \n",
       "102    2                Ginkgo     Ginkgo Team (+job talk) 2023-10-18    BCD   \n",
       "\n",
       "    Location  \n",
       "31         Z  \n",
       "34         Z  \n",
       "36         Z  \n",
       "54         Z  \n",
       "64         Z  \n",
       "73         Z  \n",
       "75         Z  \n",
       "76         M  \n",
       "78         Z  \n",
       "83         Z  \n",
       "87         Z  \n",
       "88         Z  \n",
       "89         Z  \n",
       "90         Z  \n",
       "91         Z  \n",
       "92         Z  \n",
       "94         Z  \n",
       "96         M  \n",
       "97         Z  \n",
       "98         Z  \n",
       "99         Z  \n",
       "100        Z  \n",
       "102        Z  "
      ]
     },
     "execution_count": 112,
     "metadata": {},
     "output_type": "execute_result"
    }
   ],
   "source": [
    "casual_df = cdf[cdf['Type']==0]\n",
    "interview_df = cdf[cdf['Type']>0]\n",
    "interview_df['Type'] = interview_df['Type'].astype(str)\n",
    "\n",
    "interview_df"
   ]
  },
  {
   "cell_type": "code",
   "execution_count": 113,
   "id": "534db96a",
   "metadata": {},
   "outputs": [
    {
     "data": {
      "text/html": [
       "<div>\n",
       "<style scoped>\n",
       "    .dataframe tbody tr th:only-of-type {\n",
       "        vertical-align: middle;\n",
       "    }\n",
       "\n",
       "    .dataframe tbody tr th {\n",
       "        vertical-align: top;\n",
       "    }\n",
       "\n",
       "    .dataframe thead th {\n",
       "        text-align: right;\n",
       "    }\n",
       "</style>\n",
       "<table border=\"1\" class=\"dataframe\">\n",
       "  <thead>\n",
       "    <tr style=\"text-align: right;\">\n",
       "      <th></th>\n",
       "      <th>Type</th>\n",
       "      <th>Company</th>\n",
       "      <th>Title</th>\n",
       "      <th>Date</th>\n",
       "      <th>Sector</th>\n",
       "      <th>Seattle?</th>\n",
       "      <th>Human contact</th>\n",
       "      <th>Interview stage</th>\n",
       "      <th>Offer?</th>\n",
       "    </tr>\n",
       "  </thead>\n",
       "  <tbody>\n",
       "    <tr>\n",
       "      <th>0</th>\n",
       "      <td>-1</td>\n",
       "      <td>X</td>\n",
       "      <td>PhD Residency</td>\n",
       "      <td>2023-01-16</td>\n",
       "      <td>BD</td>\n",
       "      <td>0</td>\n",
       "      <td>No</td>\n",
       "      <td>0</td>\n",
       "      <td>No</td>\n",
       "    </tr>\n",
       "    <tr>\n",
       "      <th>1</th>\n",
       "      <td>-1</td>\n",
       "      <td>Adaptive</td>\n",
       "      <td>Computational Biologist II</td>\n",
       "      <td>2023-01-18</td>\n",
       "      <td>BD</td>\n",
       "      <td>1</td>\n",
       "      <td>No</td>\n",
       "      <td>0</td>\n",
       "      <td>No</td>\n",
       "    </tr>\n",
       "    <tr>\n",
       "      <th>2</th>\n",
       "      <td>-1</td>\n",
       "      <td>MSR AI4Science</td>\n",
       "      <td>Intern</td>\n",
       "      <td>2023-01-20</td>\n",
       "      <td>BD</td>\n",
       "      <td>0</td>\n",
       "      <td>No</td>\n",
       "      <td>0</td>\n",
       "      <td>No</td>\n",
       "    </tr>\n",
       "    <tr>\n",
       "      <th>3</th>\n",
       "      <td>-1</td>\n",
       "      <td>Google Research</td>\n",
       "      <td>Data Science Intern</td>\n",
       "      <td>2023-01-26</td>\n",
       "      <td>D</td>\n",
       "      <td>1</td>\n",
       "      <td>No</td>\n",
       "      <td>0</td>\n",
       "      <td>No</td>\n",
       "    </tr>\n",
       "    <tr>\n",
       "      <th>4</th>\n",
       "      <td>-1</td>\n",
       "      <td>X</td>\n",
       "      <td>PhD Residency - Planetary Health</td>\n",
       "      <td>2023-01-31</td>\n",
       "      <td>CD</td>\n",
       "      <td>0</td>\n",
       "      <td>No</td>\n",
       "      <td>0</td>\n",
       "      <td>No</td>\n",
       "    </tr>\n",
       "    <tr>\n",
       "      <th>...</th>\n",
       "      <td>...</td>\n",
       "      <td>...</td>\n",
       "      <td>...</td>\n",
       "      <td>...</td>\n",
       "      <td>...</td>\n",
       "      <td>...</td>\n",
       "      <td>...</td>\n",
       "      <td>...</td>\n",
       "      <td>...</td>\n",
       "    </tr>\n",
       "    <tr>\n",
       "      <th>76</th>\n",
       "      <td>-1</td>\n",
       "      <td>Ginkgo</td>\n",
       "      <td>ML/AI Engineer - RNA/DNA Design</td>\n",
       "      <td>2023-10-05</td>\n",
       "      <td>BCD</td>\n",
       "      <td>0</td>\n",
       "      <td>Yes</td>\n",
       "      <td>2</td>\n",
       "      <td>Yes</td>\n",
       "    </tr>\n",
       "    <tr>\n",
       "      <th>77</th>\n",
       "      <td>-1</td>\n",
       "      <td>Amazon</td>\n",
       "      <td>Research Scientist - Sustainability</td>\n",
       "      <td>2023-10-23</td>\n",
       "      <td>CD</td>\n",
       "      <td>1</td>\n",
       "      <td>No</td>\n",
       "      <td>0</td>\n",
       "      <td>No</td>\n",
       "    </tr>\n",
       "    <tr>\n",
       "      <th>78</th>\n",
       "      <td>-1</td>\n",
       "      <td>Funga</td>\n",
       "      <td>Bioinformatician</td>\n",
       "      <td>2023-10-31</td>\n",
       "      <td>BCD</td>\n",
       "      <td>0</td>\n",
       "      <td>Yes</td>\n",
       "      <td>1</td>\n",
       "      <td>Unknown</td>\n",
       "    </tr>\n",
       "    <tr>\n",
       "      <th>79</th>\n",
       "      <td>-1</td>\n",
       "      <td>Allonnia</td>\n",
       "      <td>Data Scientist</td>\n",
       "      <td>2023-10-31</td>\n",
       "      <td>BCD</td>\n",
       "      <td>0</td>\n",
       "      <td>Yes</td>\n",
       "      <td>1</td>\n",
       "      <td>Unknown</td>\n",
       "    </tr>\n",
       "    <tr>\n",
       "      <th>80</th>\n",
       "      <td>-1</td>\n",
       "      <td>NOAA</td>\n",
       "      <td>Data Scientist</td>\n",
       "      <td>2023-11-03</td>\n",
       "      <td>BCD</td>\n",
       "      <td>1</td>\n",
       "      <td>No</td>\n",
       "      <td>0</td>\n",
       "      <td>No</td>\n",
       "    </tr>\n",
       "  </tbody>\n",
       "</table>\n",
       "<p>81 rows × 9 columns</p>\n",
       "</div>"
      ],
      "text/plain": [
       "    Type          Company                                Title       Date  \\\n",
       "0     -1                X                        PhD Residency 2023-01-16   \n",
       "1     -1         Adaptive           Computational Biologist II 2023-01-18   \n",
       "2     -1   MSR AI4Science                               Intern 2023-01-20   \n",
       "3     -1  Google Research                  Data Science Intern 2023-01-26   \n",
       "4     -1                X     PhD Residency - Planetary Health 2023-01-31   \n",
       "..   ...              ...                                  ...        ...   \n",
       "76    -1           Ginkgo      ML/AI Engineer - RNA/DNA Design 2023-10-05   \n",
       "77    -1           Amazon  Research Scientist - Sustainability 2023-10-23   \n",
       "78    -1            Funga                     Bioinformatician 2023-10-31   \n",
       "79    -1         Allonnia                       Data Scientist 2023-10-31   \n",
       "80    -1             NOAA                       Data Scientist 2023-11-03   \n",
       "\n",
       "   Sector  Seattle? Human contact  Interview stage   Offer?  \n",
       "0      BD         0            No                0       No  \n",
       "1      BD         1            No                0       No  \n",
       "2      BD         0            No                0       No  \n",
       "3       D         1            No                0       No  \n",
       "4      CD         0            No                0       No  \n",
       "..    ...       ...           ...              ...      ...  \n",
       "76    BCD         0           Yes                2      Yes  \n",
       "77     CD         1            No                0       No  \n",
       "78    BCD         0           Yes                1  Unknown  \n",
       "79    BCD         0           Yes                1  Unknown  \n",
       "80    BCD         1            No                0       No  \n",
       "\n",
       "[81 rows x 9 columns]"
      ]
     },
     "execution_count": 113,
     "metadata": {},
     "output_type": "execute_result"
    }
   ],
   "source": [
    "adf = pd.read_csv('data/job_apps_2023_timeline.txt',sep='\\t')\n",
    "adf['Date'] = pd.to_datetime(adf['Date'])\n",
    "adf"
   ]
  },
  {
   "cell_type": "code",
   "execution_count": 114,
   "id": "b8ce4adf",
   "metadata": {},
   "outputs": [
    {
     "data": {
      "text/html": [
       "\n",
       "<style>\n",
       "  #altair-viz-e82efc7236fd499cbc9f2a64e309bb3e.vega-embed {\n",
       "    width: 100%;\n",
       "    display: flex;\n",
       "  }\n",
       "\n",
       "  #altair-viz-e82efc7236fd499cbc9f2a64e309bb3e.vega-embed details,\n",
       "  #altair-viz-e82efc7236fd499cbc9f2a64e309bb3e.vega-embed details summary {\n",
       "    position: relative;\n",
       "  }\n",
       "</style>\n",
       "<div id=\"altair-viz-e82efc7236fd499cbc9f2a64e309bb3e\"></div>\n",
       "<script type=\"text/javascript\">\n",
       "  var VEGA_DEBUG = (typeof VEGA_DEBUG == \"undefined\") ? {} : VEGA_DEBUG;\n",
       "  (function(spec, embedOpt){\n",
       "    let outputDiv = document.currentScript.previousElementSibling;\n",
       "    if (outputDiv.id !== \"altair-viz-e82efc7236fd499cbc9f2a64e309bb3e\") {\n",
       "      outputDiv = document.getElementById(\"altair-viz-e82efc7236fd499cbc9f2a64e309bb3e\");\n",
       "    }\n",
       "    const paths = {\n",
       "      \"vega\": \"https://cdn.jsdelivr.net/npm/vega@5?noext\",\n",
       "      \"vega-lib\": \"https://cdn.jsdelivr.net/npm/vega-lib?noext\",\n",
       "      \"vega-lite\": \"https://cdn.jsdelivr.net/npm/vega-lite@5.16.3?noext\",\n",
       "      \"vega-embed\": \"https://cdn.jsdelivr.net/npm/vega-embed@6?noext\",\n",
       "    };\n",
       "\n",
       "    function maybeLoadScript(lib, version) {\n",
       "      var key = `${lib.replace(\"-\", \"\")}_version`;\n",
       "      return (VEGA_DEBUG[key] == version) ?\n",
       "        Promise.resolve(paths[lib]) :\n",
       "        new Promise(function(resolve, reject) {\n",
       "          var s = document.createElement('script');\n",
       "          document.getElementsByTagName(\"head\")[0].appendChild(s);\n",
       "          s.async = true;\n",
       "          s.onload = () => {\n",
       "            VEGA_DEBUG[key] = version;\n",
       "            return resolve(paths[lib]);\n",
       "          };\n",
       "          s.onerror = () => reject(`Error loading script: ${paths[lib]}`);\n",
       "          s.src = paths[lib];\n",
       "        });\n",
       "    }\n",
       "\n",
       "    function showError(err) {\n",
       "      outputDiv.innerHTML = `<div class=\"error\" style=\"color:red;\">${err}</div>`;\n",
       "      throw err;\n",
       "    }\n",
       "\n",
       "    function displayChart(vegaEmbed) {\n",
       "      vegaEmbed(outputDiv, spec, embedOpt)\n",
       "        .catch(err => showError(`Javascript Error: ${err.message}<br>This usually means there's a typo in your chart specification. See the javascript console for the full traceback.`));\n",
       "    }\n",
       "\n",
       "    if(typeof define === \"function\" && define.amd) {\n",
       "      requirejs.config({paths});\n",
       "      require([\"vega-embed\"], displayChart, err => showError(`Error loading script: ${err.message}`));\n",
       "    } else {\n",
       "      maybeLoadScript(\"vega\", \"5\")\n",
       "        .then(() => maybeLoadScript(\"vega-lite\", \"5.16.3\"))\n",
       "        .then(() => maybeLoadScript(\"vega-embed\", \"6\"))\n",
       "        .catch(showError)\n",
       "        .then(() => displayChart(vegaEmbed));\n",
       "    }\n",
       "  })({\"config\": {\"view\": {\"continuousWidth\": 300, \"continuousHeight\": 300}}, \"data\": {\"name\": \"data-f12c453b6cdb89d378f2de54e038f393\"}, \"mark\": {\"type\": \"point\"}, \"encoding\": {\"x\": {\"axis\": {\"format\": \"%b, %Y\", \"tickMinStep\": 2}, \"field\": \"Date\", \"type\": \"temporal\"}, \"y\": {\"field\": \"Type\", \"sort\": \"descending\", \"type\": \"ordinal\"}}, \"height\": 100, \"width\": 500, \"$schema\": \"https://vega.github.io/schema/vega-lite/v5.16.3.json\", \"datasets\": {\"data-f12c453b6cdb89d378f2de54e038f393\": [{\"Type\": 0, \"Company\": \"Ginkgo\", \"Person\": \"Jason Stevens\", \"Date\": \"2022-09-15T00:00:00\", \"Sector\": \"BCD\", \"Location\": \"E\"}, {\"Type\": 0, \"Company\": \"ISB\", \"Person\": \"Nitin Baliga\", \"Date\": \"2022-09-20T00:00:00\", \"Sector\": \"BD\", \"Location\": \"M\"}, {\"Type\": 0, \"Company\": \"ISB\", \"Person\": \"Jake Valenzuela\", \"Date\": \"2022-09-26T00:00:00\", \"Sector\": \"BD\", \"Location\": \"M\"}, {\"Type\": 0, \"Company\": \"Novo Nordisk\", \"Person\": \"Melih Yilmaz\", \"Date\": \"2022-10-07T00:00:00\", \"Sector\": \"BD\", \"Location\": \"M\"}, {\"Type\": 0, \"Company\": \"ISB\", \"Person\": \"Eliza Peterson\", \"Date\": \"2022-10-12T00:00:00\", \"Sector\": \"BD\", \"Location\": \"Z\"}, {\"Type\": 0, \"Company\": \"Ginkgo\", \"Person\": \"Erin Shellman\", \"Date\": \"2022-10-13T00:00:00\", \"Sector\": \"BCD\", \"Location\": \"E\"}, {\"Type\": 0, \"Company\": \"Google X\", \"Person\": \"Crystal Humphries\", \"Date\": \"2022-10-15T00:00:00\", \"Sector\": \"BD\", \"Location\": \"M\"}, {\"Type\": 0, \"Company\": \"Benchling\", \"Person\": \"Janet Matsen\", \"Date\": \"2022-10-17T00:00:00\", \"Sector\": \"BD\", \"Location\": \"M\"}, {\"Type\": 0, \"Company\": \"Amazon\", \"Person\": \"Max Bates\", \"Date\": \"2022-10-19T00:00:00\", \"Sector\": \"BD\", \"Location\": \"Z\"}, {\"Type\": 0, \"Company\": \"Google X\", \"Person\": \"Chiam Yu\", \"Date\": \"2022-10-24T00:00:00\", \"Sector\": \"BD\", \"Location\": \"Z\"}, {\"Type\": 0, \"Company\": \"Adaptive\", \"Person\": \"Katie Doroschak\", \"Date\": \"2022-10-26T00:00:00\", \"Sector\": \"BD\", \"Location\": \"E\"}, {\"Type\": 0, \"Company\": \"Arzeda\", \"Person\": \"Rudesh Toofanny\", \"Date\": \"2022-11-01T00:00:00\", \"Sector\": \"BCD\", \"Location\": \"M\"}, {\"Type\": 0, \"Company\": \"MSR\", \"Person\": \"Yuan Chen\", \"Date\": \"2022-11-01T00:00:00\", \"Sector\": \"BD\", \"Location\": \"M\"}, {\"Type\": 0, \"Company\": \"Amazon\", \"Person\": \"Bo Hu\", \"Date\": \"2022-11-03T00:00:00\", \"Sector\": \"BD\", \"Location\": \"E\"}, {\"Type\": 0, \"Company\": \"Amyris\", \"Person\": \"Dana Nadler\", \"Date\": \"2022-11-03T00:00:00\", \"Sector\": \"BCD\", \"Location\": \"Z\"}, {\"Type\": 0, \"Company\": \"MSR\", \"Person\": \"Bichlien Nguyen\", \"Date\": \"2022-11-03T00:00:00\", \"Sector\": \"BD\", \"Location\": \"M\"}, {\"Type\": 0, \"Company\": \"Lumen\", \"Person\": \"Caitlin Gamble\", \"Date\": \"2022-11-04T00:00:00\", \"Sector\": \"BCD\", \"Location\": \"M\"}, {\"Type\": 0, \"Company\": \"MSR\", \"Person\": \"Karin Strauss\", \"Date\": \"2022-11-08T00:00:00\", \"Sector\": \"BD\", \"Location\": \"Z\"}, {\"Type\": 0, \"Company\": \"MSR (formerly)\", \"Person\": \"Vani Mandava\", \"Date\": \"2022-11-10T00:00:00\", \"Sector\": \"D\", \"Location\": \"M\"}, {\"Type\": 0, \"Company\": \"MSR\", \"Person\": \"Sarah Alamdari\", \"Date\": \"2022-11-18T00:00:00\", \"Sector\": \"BD\", \"Location\": \"Z\"}, {\"Type\": 0, \"Company\": \"Bioeconomy Capital\", \"Person\": \"Rob Carlson\", \"Date\": \"2022-11-23T00:00:00\", \"Sector\": \"BC\", \"Location\": \"Z\"}, {\"Type\": 0, \"Company\": \"A-alpha Bio\", \"Person\": \"Randolph Lopez\", \"Date\": \"2022-11-25T00:00:00\", \"Sector\": \"BD\", \"Location\": \"M\"}, {\"Type\": 0, \"Company\": \"Wayfinder Bio\", \"Person\": \"Chuhern Hwang\", \"Date\": \"2022-11-28T00:00:00\", \"Sector\": \"BD\", \"Location\": \"Z\"}, {\"Type\": 0, \"Company\": \"Amazon\", \"Person\": \"Gherman Uritskiy\", \"Date\": \"2022-12-01T00:00:00\", \"Sector\": \"BD\", \"Location\": \"M\"}, {\"Type\": 0, \"Company\": \"MSR (formerly)\", \"Person\": \"Sifang Chen\", \"Date\": \"2022-12-05T00:00:00\", \"Sector\": \"CD\", \"Location\": \"Z\"}, {\"Type\": 0, \"Company\": \"Google Research\", \"Person\": \"Drew Bryant\", \"Date\": \"2022-12-12T00:00:00\", \"Sector\": \"BD\", \"Location\": \"Z\"}, {\"Type\": 0, \"Company\": \"Google X\", \"Person\": \"Charlie Emrich\", \"Date\": \"2023-01-05T00:00:00\", \"Sector\": \"BD\", \"Location\": \"M\"}, {\"Type\": 0, \"Company\": \"Google X\", \"Person\": \"Ivan Grubisic\", \"Date\": \"2023-01-05T00:00:00\", \"Sector\": \"BD\", \"Location\": \"Z\"}, {\"Type\": 0, \"Company\": \"MSR\", \"Person\": \"Bichlien Nguyen\", \"Date\": \"2023-01-06T00:00:00\", \"Sector\": \"BD\", \"Location\": \"E\"}, {\"Type\": 0, \"Company\": \"Google X\", \"Person\": \"Abi Ramanan\", \"Date\": \"2023-01-13T00:00:00\", \"Sector\": \"BD\", \"Location\": \"Z\"}, {\"Type\": 0, \"Company\": \"MSR (formerly)\", \"Person\": \"Vani Mandava\", \"Date\": \"2023-01-17T00:00:00\", \"Sector\": \"D\", \"Location\": \"M\"}, {\"Type\": 1, \"Company\": \"Invert Bio\", \"Person\": \"Martin Permin\", \"Date\": \"2023-01-18T00:00:00\", \"Sector\": \"BD\", \"Location\": \"Z\"}, {\"Type\": 0, \"Company\": \"MSR\", \"Person\": \"Yuan Chen\", \"Date\": \"2023-01-19T00:00:00\", \"Sector\": \"BD\", \"Location\": \"M\"}, {\"Type\": 0, \"Company\": \"Marble\", \"Person\": \"Edgar Ke\", \"Date\": \"2023-01-24T00:00:00\", \"Sector\": \"CD\", \"Location\": \"Z\"}, {\"Type\": 2, \"Company\": \"Invert Bio\", \"Person\": \"Andy Elmsley\", \"Date\": \"2023-01-31T00:00:00\", \"Sector\": \"BD\", \"Location\": \"Z\"}, {\"Type\": 0, \"Company\": \"Colossal\", \"Person\": \"Alexander Titus\", \"Date\": \"2023-02-02T00:00:00\", \"Sector\": \"BD\", \"Location\": \"Z\"}, {\"Type\": 3, \"Company\": \"Invert Bio\", \"Person\": \"Holger Thorup\", \"Date\": \"2023-02-07T00:00:00\", \"Sector\": \"BD\", \"Location\": \"Z\"}, {\"Type\": 0, \"Company\": \"Bota Bio\", \"Person\": \"Josh Lerman\", \"Date\": \"2023-02-10T00:00:00\", \"Sector\": \"BD\", \"Location\": \"Z\"}, {\"Type\": 0, \"Company\": \"Bluestem Biosciences\", \"Person\": \"Darren Platt\", \"Date\": \"2023-02-13T00:00:00\", \"Sector\": \"BCD\", \"Location\": \"Z\"}, {\"Type\": 0, \"Company\": \"Conservation X Labs\", \"Person\": \"Amy Corinne\", \"Date\": \"2023-02-13T00:00:00\", \"Sector\": \"CD\", \"Location\": \"E\"}, {\"Type\": 0, \"Company\": \"Bluestem Biosciences\", \"Person\": \"Tyler Autera\", \"Date\": \"2023-02-14T00:00:00\", \"Sector\": \"BCD\", \"Location\": \"Z\"}, {\"Type\": 0, \"Company\": \"Conservation X Labs\", \"Person\": \"Misa Winters\", \"Date\": \"2023-02-14T00:00:00\", \"Sector\": \"BCD\", \"Location\": \"M\"}, {\"Type\": 0, \"Company\": \"Ginkgo (formerly Amyris)\", \"Person\": \"Mike Bissel/Elaine Shapland\", \"Date\": \"2023-02-15T00:00:00\", \"Sector\": \"BCD\", \"Location\": \"E\"}, {\"Type\": 0, \"Company\": \"Mineral\", \"Person\": \"Tony Wu\", \"Date\": \"2023-02-16T00:00:00\", \"Sector\": \"CD\", \"Location\": \"E\"}, {\"Type\": 0, \"Company\": \"Google\", \"Person\": \"Dan Morris\", \"Date\": \"2023-02-17T00:00:00\", \"Sector\": \"CD\", \"Location\": \"M\"}, {\"Type\": 0, \"Company\": \"Modulus Therapeutics\", \"Person\": \"Max Darnell\", \"Date\": \"2023-02-17T00:00:00\", \"Sector\": \"BD\", \"Location\": \"M\"}, {\"Type\": 0, \"Company\": \"Mineral\", \"Person\": \"Rhishi Pethe\", \"Date\": \"2023-02-23T00:00:00\", \"Sector\": \"CD\", \"Location\": \"Z\"}, {\"Type\": 0, \"Company\": \"Homeworld Collective\", \"Person\": \"Daniel Goodwin\", \"Date\": \"2023-03-01T00:00:00\", \"Sector\": \"BC\", \"Location\": \"Z\"}, {\"Type\": 0, \"Company\": \"Agbiome\", \"Person\": \"Eric Ward\", \"Date\": \"2023-03-09T00:00:00\", \"Sector\": \"BCD\", \"Location\": \"Z\"}, {\"Type\": 0, \"Company\": \"Quorum Bio\", \"Person\": \"Suds Dwaraknath\", \"Date\": \"2023-03-09T00:00:00\", \"Sector\": \"BCD\", \"Location\": \"Z\"}, {\"Type\": 0, \"Company\": \"Fifty Years\", \"Person\": \"Ale Borda\", \"Date\": \"2023-03-13T00:00:00\", \"Sector\": \"C\", \"Location\": \"Z\"}, {\"Type\": 0, \"Company\": \"WildMicrobes\", \"Person\": \"Ben Kramer\", \"Date\": \"2023-03-13T00:00:00\", \"Sector\": \"BC\", \"Location\": \"Z\"}, {\"Type\": 0, \"Company\": \"Upp\", \"Person\": \"Radhakrishna Sanka\", \"Date\": \"2023-03-20T00:00:00\", \"Sector\": \"BD\", \"Location\": \"Z\"}, {\"Type\": 0, \"Company\": \"Carbon Direct\", \"Person\": \"Meera Atreya\", \"Date\": \"2023-04-01T00:00:00\", \"Sector\": \"CD\", \"Location\": \"Z\"}, {\"Type\": 1, \"Company\": \"IUNU\", \"Person\": \"Sydney/Quincy/Rohini\", \"Date\": \"2023-04-04T00:00:00\", \"Sector\": \"CD\", \"Location\": \"Z\"}, {\"Type\": 0, \"Company\": \"LanzaTech\", \"Person\": \"Ryan Tappel\", \"Date\": \"2023-04-13T00:00:00\", \"Sector\": \"BCD\", \"Location\": \"E\"}, {\"Type\": 0, \"Company\": \"Zora\", \"Person\": \"Hetunandan\", \"Date\": \"2023-04-13T00:00:00\", \"Sector\": \"BD\", \"Location\": \"M\"}, {\"Type\": 0, \"Company\": \"Monod Bio\", \"Person\": \"Joseph Harman\", \"Date\": \"2023-04-14T00:00:00\", \"Sector\": \"BD\", \"Location\": \"M\"}, {\"Type\": 0, \"Company\": \"META\", \"Person\": \"Evan Sherwin \", \"Date\": \"2023-04-19T00:00:00\", \"Sector\": \"CD\", \"Location\": \"Z\"}, {\"Type\": 0, \"Company\": \"Monod Bio\", \"Person\": \"Elyse Fischer\", \"Date\": \"2023-04-21T00:00:00\", \"Sector\": \"BD\", \"Location\": \"M\"}, {\"Type\": 0, \"Company\": \"LanzaTech\", \"Person\": \"Shilpa Nagaraju\", \"Date\": \"2023-04-27T00:00:00\", \"Sector\": \"BCD\", \"Location\": \"E\"}, {\"Type\": 0, \"Company\": \"Funga\", \"Person\": \"Ann Raiho\", \"Date\": \"2023-04-28T00:00:00\", \"Sector\": \"BCD\", \"Location\": \"Z\"}, {\"Type\": 0, \"Company\": \"LanzaTech\", \"Person\": \"Shivani Garg\", \"Date\": \"2023-05-05T00:00:00\", \"Sector\": \"BCD\", \"Location\": \"E\"}, {\"Type\": 0, \"Company\": \"Wyss Institute\", \"Person\": \"Zijay Tang\", \"Date\": \"2023-05-08T00:00:00\", \"Sector\": \"BC\", \"Location\": \"Z\"}, {\"Type\": 1, \"Company\": \"Homeworld Collective\", \"Person\": \"Paul Reginato\", \"Date\": \"2023-06-19T00:00:00\", \"Sector\": \"BC\", \"Location\": \"Z\"}, {\"Type\": 0, \"Company\": \"Spark Climate\", \"Person\": \"Paige Broccidiacono\", \"Date\": \"2023-06-25T00:00:00\", \"Sector\": \"CD\", \"Location\": \"Z\"}, {\"Type\": 0, \"Company\": \"NREL\", \"Person\": \"Alissa Bleem/Gregg Beckham\", \"Date\": \"2023-06-26T00:00:00\", \"Sector\": \"BC\", \"Location\": \"E\"}, {\"Type\": 0, \"Company\": \"GRAIL\", \"Person\": \"Amoolya Singh\", \"Date\": \"2023-06-27T00:00:00\", \"Sector\": \"BD\", \"Location\": \"E\"}, {\"Type\": 0, \"Company\": \"student\", \"Person\": \"Leron Perez\", \"Date\": \"2023-06-27T00:00:00\", \"Sector\": \"B\", \"Location\": \"Z\"}, {\"Type\": 0, \"Company\": \"Seattle\", \"Person\": \"Lea Lakes\", \"Date\": \"2023-07-07T00:00:00\", \"Sector\": \"C\", \"Location\": \"M\"}, {\"Type\": 0, \"Company\": \"Nori\", \"Person\": \"Patrick Tsao\", \"Date\": \"2023-07-13T00:00:00\", \"Sector\": \"CD\", \"Location\": \"Z\"}, {\"Type\": 0, \"Company\": \"student\", \"Person\": \"Haley Anderson\", \"Date\": \"2023-07-13T00:00:00\", \"Sector\": \"BD\", \"Location\": \"Z\"}, {\"Type\": 0, \"Company\": \"AI2\", \"Person\": \"Liza Ray\", \"Date\": \"2023-07-14T00:00:00\", \"Sector\": \"BD\", \"Location\": \"M\"}, {\"Type\": 1, \"Company\": \"Nori\", \"Person\": \"Radhika Moolgavkar\", \"Date\": \"2023-07-17T00:00:00\", \"Sector\": \"CD\", \"Location\": \"Z\"}, {\"Type\": 0, \"Company\": \"Ginkgo\", \"Person\": \"Elaine Shapland\", \"Date\": \"2023-07-19T00:00:00\", \"Sector\": \"BCD\", \"Location\": \"Z\"}, {\"Type\": 2, \"Company\": \"Nori\", \"Person\": \"Nori Team\", \"Date\": \"2023-07-27T00:00:00\", \"Sector\": \"CD\", \"Location\": \"Z\"}, {\"Type\": 3, \"Company\": \"Nori\", \"Person\": \"Nori Team\", \"Date\": \"2023-08-04T00:00:00\", \"Sector\": \"CD\", \"Location\": \"M\"}, {\"Type\": 0, \"Company\": \"Bluestem Biosciences\", \"Person\": \"Darren Platt\", \"Date\": \"2023-08-07T00:00:00\", \"Sector\": \"BCD\", \"Location\": \"Z\"}, {\"Type\": 1, \"Company\": \"AI2\", \"Person\": \"Liza Ray\", \"Date\": \"2023-08-15T00:00:00\", \"Sector\": \"BD\", \"Location\": \"Z\"}, {\"Type\": 0, \"Company\": \"Carbon Direct\", \"Person\": \"Jeff Beorse\", \"Date\": \"2023-08-15T00:00:00\", \"Sector\": \"CD\", \"Location\": \"Z\"}, {\"Type\": 0, \"Company\": \"Bluestem Biosciences\", \"Person\": \"Kate Curran\", \"Date\": \"2023-08-16T00:00:00\", \"Sector\": \"BCD\", \"Location\": \"Z\"}, {\"Type\": 0, \"Company\": \"Microsoft\", \"Person\": \"Jose Hernandez\", \"Date\": \"2023-08-16T00:00:00\", \"Sector\": \"CD\", \"Location\": \"Z\"}, {\"Type\": 0, \"Company\": \"Culture\", \"Person\": \"Matt Ball\", \"Date\": \"2023-08-24T00:00:00\", \"Sector\": \"BD\", \"Location\": \"Z\"}, {\"Type\": 1, \"Company\": \"Think Bioscience\", \"Person\": \"Jill Kohla\", \"Date\": \"2023-08-25T00:00:00\", \"Sector\": \"BD\", \"Location\": \"Z\"}, {\"Type\": 0, \"Company\": \"Pivot Bio\", \"Person\": \"Kirsten Benjamin\", \"Date\": \"2023-08-27T00:00:00\", \"Sector\": \"BCD\", \"Location\": \"E\"}, {\"Type\": 0, \"Company\": \"UW\", \"Person\": \"Vani Mandava\", \"Date\": \"2023-08-29T00:00:00\", \"Sector\": \"D\", \"Location\": \"E\"}, {\"Type\": 0, \"Company\": \"Google X\", \"Person\": \"Chiam Yu\", \"Date\": \"2023-08-30T00:00:00\", \"Sector\": \"BD\", \"Location\": \"Z\"}, {\"Type\": 1, \"Company\": \"Cascade Climate\", \"Person\": \"Jenny Mills\", \"Date\": \"2023-08-31T00:00:00\", \"Sector\": \"BCD\", \"Location\": \"Z\"}, {\"Type\": 1, \"Company\": \"Muir Ai\", \"Person\": \"Peter Williams\", \"Date\": \"2023-08-31T00:00:00\", \"Sector\": \"CD\", \"Location\": \"Z\"}, {\"Type\": 2, \"Company\": \"Think Biosciences\", \"Person\": \"Jerome Fox\", \"Date\": \"2023-09-05T00:00:00\", \"Sector\": \"BD\", \"Location\": \"Z\"}, {\"Type\": 1, \"Company\": \"Form Bio\", \"Person\": \"Brandi Cantarel\", \"Date\": \"2023-09-05T00:00:00\", \"Sector\": \"BD\", \"Location\": \"Z\"}, {\"Type\": 1, \"Company\": \"LanzaTech\", \"Person\": \"Erin Fry\", \"Date\": \"2023-09-13T00:00:00\", \"Sector\": \"BCD\", \"Location\": \"Z\"}, {\"Type\": 2, \"Company\": \"LanzaTech\", \"Person\": \"Luke McKay\", \"Date\": \"2023-09-14T00:00:00\", \"Sector\": \"BCD\", \"Location\": \"Z\"}, {\"Type\": 0, \"Company\": \"AI2\", \"Person\": \"Patrick Johnson\", \"Date\": \"2023-09-18T00:00:00\", \"Sector\": \"CD\", \"Location\": \"M\"}, {\"Type\": 3, \"Company\": \"LanzaTech\", \"Person\": \"Maya Van Lysebettens\", \"Date\": \"2023-09-20T00:00:00\", \"Sector\": \"BCD\", \"Location\": \"Z\"}, {\"Type\": 0, \"Company\": \"AI2\", \"Person\": \"Anna Kwa\", \"Date\": \"2023-09-20T00:00:00\", \"Sector\": \"CD\", \"Location\": \"M\"}, {\"Type\": 3, \"Company\": \"Think Biosciences\", \"Person\": \"Think team (+job talk)\", \"Date\": \"2023-10-03T00:00:00\", \"Sector\": \"BD\", \"Location\": \"M\"}, {\"Type\": 1, \"Company\": \"Ginkgo\", \"Person\": \"Joshua Dunn\", \"Date\": \"2023-10-03T00:00:00\", \"Sector\": \"BCD\", \"Location\": \"Z\"}, {\"Type\": 2, \"Company\": \"Form Bio\", \"Person\": \"Christina Capehart\", \"Date\": \"2023-10-06T00:00:00\", \"Sector\": \"BD\", \"Location\": \"Z\"}, {\"Type\": 1, \"Company\": \"Carbon Drop\", \"Person\": \"Spencer Mains\", \"Date\": \"2023-10-05T00:00:00\", \"Sector\": \"BCD\", \"Location\": \"Z\"}, {\"Type\": 4, \"Company\": \"LanzaTech\", \"Person\": \"LanzaTech Team (+job talk)\", \"Date\": \"2023-10-11T00:00:00\", \"Sector\": \"BCD\", \"Location\": \"Z\"}, {\"Type\": 0, \"Company\": \"Spark Climate\", \"Person\": \"Laura Adams\", \"Date\": \"2023-09-26T00:00:00\", \"Sector\": \"C\", \"Location\": \"E\"}, {\"Type\": 2, \"Company\": \"Ginkgo\", \"Person\": \"Ginkgo Team (+job talk)\", \"Date\": \"2023-10-18T00:00:00\", \"Sector\": \"BCD\", \"Location\": \"Z\"}]}}, {\"mode\": \"vega-lite\"});\n",
       "</script>"
      ],
      "text/plain": [
       "alt.Chart(...)"
      ]
     },
     "execution_count": 114,
     "metadata": {},
     "output_type": "execute_result"
    }
   ],
   "source": [
    "apps = alt.Chart(adf).mark_point().encode(\n",
    "    x='Date',\n",
    ")\n",
    "\n",
    "convos = alt.Chart(cdf).mark_point().encode(\n",
    "    x=alt.X('Date', axis=alt.Axis(tickMinStep=2,format='%b, %Y')),#scale = alt.Scale(nice={'interval':'month','step':30})),\n",
    "    y=alt.Y('Type:O',sort='descending')\n",
    ")\n",
    "\n",
    "convos.properties(\n",
    "    width=500,\n",
    "    height=100\n",
    ")"
   ]
  },
  {
   "cell_type": "code",
   "execution_count": 148,
   "id": "ce51e0dd",
   "metadata": {},
   "outputs": [
    {
     "data": {
      "text/html": [
       "<div>\n",
       "<style scoped>\n",
       "    .dataframe tbody tr th:only-of-type {\n",
       "        vertical-align: middle;\n",
       "    }\n",
       "\n",
       "    .dataframe tbody tr th {\n",
       "        vertical-align: top;\n",
       "    }\n",
       "\n",
       "    .dataframe thead th {\n",
       "        text-align: right;\n",
       "    }\n",
       "</style>\n",
       "<table border=\"1\" class=\"dataframe\">\n",
       "  <thead>\n",
       "    <tr style=\"text-align: right;\">\n",
       "      <th></th>\n",
       "      <th>Company</th>\n",
       "      <th>Date</th>\n",
       "    </tr>\n",
       "  </thead>\n",
       "  <tbody>\n",
       "    <tr>\n",
       "      <th>0</th>\n",
       "      <td>Ginkgo</td>\n",
       "      <td>2023-11-09</td>\n",
       "    </tr>\n",
       "    <tr>\n",
       "      <th>1</th>\n",
       "      <td>LanzaTech</td>\n",
       "      <td>2023-11-10</td>\n",
       "    </tr>\n",
       "  </tbody>\n",
       "</table>\n",
       "</div>"
      ],
      "text/plain": [
       "     Company       Date\n",
       "0     Ginkgo 2023-11-09\n",
       "1  LanzaTech 2023-11-10"
      ]
     },
     "execution_count": 148,
     "metadata": {},
     "output_type": "execute_result"
    }
   ],
   "source": [
    "odf = pd.DataFrame(\n",
    "    data=[['Ginkgo','2023-11-09'],\n",
    "          ['LanzaTech','2023-11-10']],\n",
    "    columns=['Company','Date']\n",
    ")\n",
    "odf['Date'] = pd.to_datetime(odf['Date'])\n",
    "odf"
   ]
  },
  {
   "cell_type": "code",
   "execution_count": 115,
   "id": "b91ebec1",
   "metadata": {},
   "outputs": [],
   "source": [
    "import matplotlib.dates as mdates"
   ]
  },
  {
   "cell_type": "code",
   "execution_count": 157,
   "id": "6e30fee3",
   "metadata": {
    "scrolled": false
   },
   "outputs": [
    {
     "data": {
      "image/png": "[encoded data removed]",
      "text/plain": [
       "<Figure size 900x700 with 4 Axes>"
      ]
     },
     "metadata": {},
     "output_type": "display_data"
    }
   ],
   "source": [
    "fig,(ax1,ax2,ax3,ax4) = plt.subplots(\n",
    "    4,1,\n",
    "    sharex=True,\n",
    "    figsize=(9,7),\n",
    "    gridspec_kw={'height_ratios': [2,2,3,0.75]}\n",
    ")\n",
    "sns.swarmplot(data=casual_df,x='Date',ax=ax1,size=8,)\n",
    "sns.swarmplot(data=adf,x='Date',ax=ax2,size=8,)\n",
    "sns.swarmplot(data=interview_df,x='Date',y=\"Type\",ax=ax3,size=8,)\n",
    "sns.swarmplot(data=odf,x='Date',ax=ax4,size=8,)\n",
    "\n",
    "\n",
    "locator = mdates.MonthLocator(bymonth=[4,7,10])\n",
    "ax4.xaxis.set_minor_locator(locator)\n",
    "#ax.xaxis.set_minor_formatter(mdates.ConciseDateFormatter(locator))\n",
    "ax4.xaxis.set_minor_formatter(mdates.DateFormatter('%b\\n%Y'))\n",
    "ax4.xaxis.set_major_locator(mdates.YearLocator())\n",
    "ax4.xaxis.set_major_formatter(mdates.DateFormatter('%b\\n%Y'))\n",
    "\n",
    "ax1.set_title(\"Informational Convos\",loc='left')\n",
    "ax2.set_title(\"Job Applications\",loc='left')\n",
    "ax3.set_title(\"Interviews\",loc='left')\n",
    "ax3.set_ylabel(\"Interview round\")\n",
    "\n",
    "ax4.set_title(\"Offers\",loc='left')\n",
    "\n",
    "plt.tight_layout()"
   ]
  },
  {
   "cell_type": "code",
   "execution_count": null,
   "id": "bd6278bb",
   "metadata": {},
   "outputs": [],
   "source": [
    "# add offer dates nov 9 and 10?"
   ]
  },
  {
   "cell_type": "markdown",
   "id": "8bbbaf7c",
   "metadata": {},
   "source": [
    "# Scratch"
   ]
  },
  {
   "cell_type": "code",
   "execution_count": 25,
   "id": "bdcdacd7",
   "metadata": {},
   "outputs": [],
   "source": [
    "# attempt export to chart studio for easy sharing online?\n",
    "import chart_studio\n",
    "import chart_studio.plotly as py\n",
    "\n",
    "username='erinhwilson'\n",
    "api_key='' # paste\n",
    "chart_studio.tools.set_credentials_file(username=username,\n",
    "                                        api_key=api_key)"
   ]
  },
  {
   "cell_type": "code",
   "execution_count": 108,
   "id": "dc55ae0a",
   "metadata": {},
   "outputs": [
    {
     "data": {
      "text/plain": [
       "'https://plotly.com/~erinhwilson/2/'"
      ]
     },
     "execution_count": 108,
     "metadata": {},
     "output_type": "execute_result"
    }
   ],
   "source": [
    "# exporting to chart studio does not preserve the style/alignment in the fig... >.< \n",
    "py.plot(fig, filename=\"sankey_job\", auto_open = True)\n"
   ]
  },
  {
   "cell_type": "markdown",
   "id": "14f6fb15",
   "metadata": {},
   "source": [
    "Trying to adjust the positions of nodes so it looks better in chart studio export (it's not exactly the same when exported), but it's not consistent and I gave up"
   ]
  },
  {
   "cell_type": "code",
   "execution_count": 107,
   "id": "09a9e7d6",
   "metadata": {},
   "outputs": [
    {
     "data": {
      "application/vnd.plotly.v1+json": {
       "config": {
        "plotlyServerURL": "https://plotly.com"
       },
       "data": [
        {
         "link": {
          "color": [
           "rgba(0.522,0.553,0.984,0.5)",
           "rgba(0.737,0.522,0.984,0.5)",
           "rgba(0.996,0.710,0.494,0.5)",
           "rgba(0.996,0.529,0.663,0.5)",
           "rgba(0.996,0.678,0.996,0.5)",
           "rgba(0.318,0.686,0.961,0.5)",
           "rgba(0.996,0.710,0.494,0.5)",
           "rgba(0.996,0.529,0.663,0.5)",
           "rgba(0.318,0.686,0.961,0.5)",
           "rgba(0.949,0.478,0.404,0.5)",
           "rgba(0.949,0.478,0.404,0.5)",
           "rgba(0.949,0.478,0.404,0.5)",
           "rgba(0.314,0.863,0.965,0.5)",
           "rgba(0.227,0.843,0.675,0.5)",
           "rgba(0.741,0.733,0.741,0.5)",
           "rgba(0.949,0.478,0.404,0.5)",
           "rgba(0.204,0.722,0.239,0.5)",
           "rgba(0.949,0.478,0.404,0.5)",
           "rgba(0.949,0.478,0.404,0.5)",
           "rgba(0.561,0.839,0.227,0.5)",
           "rgba(0.678,0.678,0.678,0.5)"
          ],
          "hovertemplate": "%{source.label} --> %{target.label}: %{value:1f}<extra></extra>",
          "source": [
           0,
           0,
           1,
           1,
           1,
           1,
           2,
           2,
           2,
           3,
           4,
           5,
           6,
           7,
           7,
           7,
           8,
           8,
           9,
           9,
           10
          ],
          "target": [
           1,
           2,
           3,
           4,
           5,
           6,
           3,
           4,
           6,
           11,
           11,
           11,
           7,
           8,
           10,
           11,
           9,
           11,
           11,
           12,
           13
          ],
          "value": [
           42,
           38,
           21,
           6,
           3,
           12,
           19,
           15,
           4,
           40,
           21,
           3,
           16,
           6,
           5,
           5,
           3,
           3,
           1,
           2,
           5
          ]
         },
         "node": {
          "color": [
           "#fed67a",
           "#858dfb",
           "#bc85fb",
           "#FEB57E",
           "#fe87a9",
           "#feadfe",
           "#51AFF5",
           "#50dcf6",
           "#3ad7ac",
           "#34B83D",
           "#BDBBBD",
           "#f27a67",
           "#8FD63A",
           "#adadad"
          ],
          "hovertemplate": "%{value:1f}<extra></extra>",
          "label": [
           "Job Applications",
           "Personal Contact",
           "Cold Applied",
           "Lost to the Abyss",
           "Automated Reject",
           "Human Reject",
           "Interview Request",
           "Initial Screen",
           "Meet Team",
           "Job Talk",
           "Terminated",
           "No",
           "Yes",
           "Unknown"
          ],
          "pad": 10,
          "x": [
           0.01,
           0.1,
           0.1,
           0.2,
           0.2,
           0.2,
           0.2,
           0.27,
           0.34,
           0.43,
           0.38,
           0.5,
           0.5,
           0.5
          ],
          "y": [
           0.75,
           0.36,
           1.15,
           1.15,
           0.6,
           0.3,
           0.1,
           0.1,
           0.125,
           0.1,
           0.01,
           0.87,
           0.15,
           0.01
          ]
         },
         "orientation": "v",
         "type": "sankey"
        }
       ],
       "layout": {
        "autosize": true,
        "height": 600,
        "template": {
         "data": {
          "bar": [
           {
            "error_x": {
             "color": "#2a3f5f"
            },
            "error_y": {
             "color": "#2a3f5f"
            },
            "marker": {
             "line": {
              "color": "#E5ECF6",
              "width": 0.5
             },
             "pattern": {
              "fillmode": "overlay",
              "size": 10,
              "solidity": 0.2
             }
            },
            "type": "bar"
           }
          ],
          "barpolar": [
           {
            "marker": {
             "line": {
              "color": "#E5ECF6",
              "width": 0.5
             },
             "pattern": {
              "fillmode": "overlay",
              "size": 10,
              "solidity": 0.2
             }
            },
            "type": "barpolar"
           }
          ],
          "carpet": [
           {
            "aaxis": {
             "endlinecolor": "#2a3f5f",
             "gridcolor": "white",
             "linecolor": "white",
             "minorgridcolor": "white",
             "startlinecolor": "#2a3f5f"
            },
            "baxis": {
             "endlinecolor": "#2a3f5f",
             "gridcolor": "white",
             "linecolor": "white",
             "minorgridcolor": "white",
             "startlinecolor": "#2a3f5f"
            },
            "type": "carpet"
           }
          ],
          "choropleth": [
           {
            "colorbar": {
             "outlinewidth": 0,
             "ticks": ""
            },
            "type": "choropleth"
           }
          ],
          "contour": [
           {
            "colorbar": {
             "outlinewidth": 0,
             "ticks": ""
            },
            "colorscale": [
             [
              0,
              "#0d0887"
             ],
             [
              0.1111111111111111,
              "#46039f"
             ],
             [
              0.2222222222222222,
              "#7201a8"
             ],
             [
              0.3333333333333333,
              "#9c179e"
             ],
             [
              0.4444444444444444,
              "#bd3786"
             ],
             [
              0.5555555555555556,
              "#d8576b"
             ],
             [
              0.6666666666666666,
              "#ed7953"
             ],
             [
              0.7777777777777778,
              "#fb9f3a"
             ],
             [
              0.8888888888888888,
              "#fdca26"
             ],
             [
              1,
              "#f0f921"
             ]
            ],
            "type": "contour"
           }
          ],
          "contourcarpet": [
           {
            "colorbar": {
             "outlinewidth": 0,
             "ticks": ""
            },
            "type": "contourcarpet"
           }
          ],
          "heatmap": [
           {
            "colorbar": {
             "outlinewidth": 0,
             "ticks": ""
            },
            "colorscale": [
             [
              0,
              "#0d0887"
             ],
             [
              0.1111111111111111,
              "#46039f"
             ],
             [
              0.2222222222222222,
              "#7201a8"
             ],
             [
              0.3333333333333333,
              "#9c179e"
             ],
             [
              0.4444444444444444,
              "#bd3786"
             ],
             [
              0.5555555555555556,
              "#d8576b"
             ],
             [
              0.6666666666666666,
              "#ed7953"
             ],
             [
              0.7777777777777778,
              "#fb9f3a"
             ],
             [
              0.8888888888888888,
              "#fdca26"
             ],
             [
              1,
              "#f0f921"
             ]
            ],
            "type": "heatmap"
           }
          ],
          "heatmapgl": [
           {
            "colorbar": {
             "outlinewidth": 0,
             "ticks": ""
            },
            "colorscale": [
             [
              0,
              "#0d0887"
             ],
             [
              0.1111111111111111,
              "#46039f"
             ],
             [
              0.2222222222222222,
              "#7201a8"
             ],
             [
              0.3333333333333333,
              "#9c179e"
             ],
             [
              0.4444444444444444,
              "#bd3786"
             ],
             [
              0.5555555555555556,
              "#d8576b"
             ],
             [
              0.6666666666666666,
              "#ed7953"
             ],
             [
              0.7777777777777778,
              "#fb9f3a"
             ],
             [
              0.8888888888888888,
              "#fdca26"
             ],
             [
              1,
              "#f0f921"
             ]
            ],
            "type": "heatmapgl"
           }
          ],
          "histogram": [
           {
            "marker": {
             "pattern": {
              "fillmode": "overlay",
              "size": 10,
              "solidity": 0.2
             }
            },
            "type": "histogram"
           }
          ],
          "histogram2d": [
           {
            "colorbar": {
             "outlinewidth": 0,
             "ticks": ""
            },
            "colorscale": [
             [
              0,
              "#0d0887"
             ],
             [
              0.1111111111111111,
              "#46039f"
             ],
             [
              0.2222222222222222,
              "#7201a8"
             ],
             [
              0.3333333333333333,
              "#9c179e"
             ],
             [
              0.4444444444444444,
              "#bd3786"
             ],
             [
              0.5555555555555556,
              "#d8576b"
             ],
             [
              0.6666666666666666,
              "#ed7953"
             ],
             [
              0.7777777777777778,
              "#fb9f3a"
             ],
             [
              0.8888888888888888,
              "#fdca26"
             ],
             [
              1,
              "#f0f921"
             ]
            ],
            "type": "histogram2d"
           }
          ],
          "histogram2dcontour": [
           {
            "colorbar": {
             "outlinewidth": 0,
             "ticks": ""
            },
            "colorscale": [
             [
              0,
              "#0d0887"
             ],
             [
              0.1111111111111111,
              "#46039f"
             ],
             [
              0.2222222222222222,
              "#7201a8"
             ],
             [
              0.3333333333333333,
              "#9c179e"
             ],
             [
              0.4444444444444444,
              "#bd3786"
             ],
             [
              0.5555555555555556,
              "#d8576b"
             ],
             [
              0.6666666666666666,
              "#ed7953"
             ],
             [
              0.7777777777777778,
              "#fb9f3a"
             ],
             [
              0.8888888888888888,
              "#fdca26"
             ],
             [
              1,
              "#f0f921"
             ]
            ],
            "type": "histogram2dcontour"
           }
          ],
          "mesh3d": [
           {
            "colorbar": {
             "outlinewidth": 0,
             "ticks": ""
            },
            "type": "mesh3d"
           }
          ],
          "parcoords": [
           {
            "line": {
             "colorbar": {
              "outlinewidth": 0,
              "ticks": ""
             }
            },
            "type": "parcoords"
           }
          ],
          "pie": [
           {
            "automargin": true,
            "type": "pie"
           }
          ],
          "scatter": [
           {
            "fillpattern": {
             "fillmode": "overlay",
             "size": 10,
             "solidity": 0.2
            },
            "type": "scatter"
           }
          ],
          "scatter3d": [
           {
            "line": {
             "colorbar": {
              "outlinewidth": 0,
              "ticks": ""
             }
            },
            "marker": {
             "colorbar": {
              "outlinewidth": 0,
              "ticks": ""
             }
            },
            "type": "scatter3d"
           }
          ],
          "scattercarpet": [
           {
            "marker": {
             "colorbar": {
              "outlinewidth": 0,
              "ticks": ""
             }
            },
            "type": "scattercarpet"
           }
          ],
          "scattergeo": [
           {
            "marker": {
             "colorbar": {
              "outlinewidth": 0,
              "ticks": ""
             }
            },
            "type": "scattergeo"
           }
          ],
          "scattergl": [
           {
            "marker": {
             "colorbar": {
              "outlinewidth": 0,
              "ticks": ""
             }
            },
            "type": "scattergl"
           }
          ],
          "scattermapbox": [
           {
            "marker": {
             "colorbar": {
              "outlinewidth": 0,
              "ticks": ""
             }
            },
            "type": "scattermapbox"
           }
          ],
          "scatterpolar": [
           {
            "marker": {
             "colorbar": {
              "outlinewidth": 0,
              "ticks": ""
             }
            },
            "type": "scatterpolar"
           }
          ],
          "scatterpolargl": [
           {
            "marker": {
             "colorbar": {
              "outlinewidth": 0,
              "ticks": ""
             }
            },
            "type": "scatterpolargl"
           }
          ],
          "scatterternary": [
           {
            "marker": {
             "colorbar": {
              "outlinewidth": 0,
              "ticks": ""
             }
            },
            "type": "scatterternary"
           }
          ],
          "surface": [
           {
            "colorbar": {
             "outlinewidth": 0,
             "ticks": ""
            },
            "colorscale": [
             [
              0,
              "#0d0887"
             ],
             [
              0.1111111111111111,
              "#46039f"
             ],
             [
              0.2222222222222222,
              "#7201a8"
             ],
             [
              0.3333333333333333,
              "#9c179e"
             ],
             [
              0.4444444444444444,
              "#bd3786"
             ],
             [
              0.5555555555555556,
              "#d8576b"
             ],
             [
              0.6666666666666666,
              "#ed7953"
             ],
             [
              0.7777777777777778,
              "#fb9f3a"
             ],
             [
              0.8888888888888888,
              "#fdca26"
             ],
             [
              1,
              "#f0f921"
             ]
            ],
            "type": "surface"
           }
          ],
          "table": [
           {
            "cells": {
             "fill": {
              "color": "#EBF0F8"
             },
             "line": {
              "color": "white"
             }
            },
            "header": {
             "fill": {
              "color": "#C8D4E3"
             },
             "line": {
              "color": "white"
             }
            },
            "type": "table"
           }
          ]
         },
         "layout": {
          "annotationdefaults": {
           "arrowcolor": "#2a3f5f",
           "arrowhead": 0,
           "arrowwidth": 1
          },
          "autotypenumbers": "strict",
          "coloraxis": {
           "colorbar": {
            "outlinewidth": 0,
            "ticks": ""
           }
          },
          "colorscale": {
           "diverging": [
            [
             0,
             "#8e0152"
            ],
            [
             0.1,
             "#c51b7d"
            ],
            [
             0.2,
             "#de77ae"
            ],
            [
             0.3,
             "#f1b6da"
            ],
            [
             0.4,
             "#fde0ef"
            ],
            [
             0.5,
             "#f7f7f7"
            ],
            [
             0.6,
             "#e6f5d0"
            ],
            [
             0.7,
             "#b8e186"
            ],
            [
             0.8,
             "#7fbc41"
            ],
            [
             0.9,
             "#4d9221"
            ],
            [
             1,
             "#276419"
            ]
           ],
           "sequential": [
            [
             0,
             "#0d0887"
            ],
            [
             0.1111111111111111,
             "#46039f"
            ],
            [
             0.2222222222222222,
             "#7201a8"
            ],
            [
             0.3333333333333333,
             "#9c179e"
            ],
            [
             0.4444444444444444,
             "#bd3786"
            ],
            [
             0.5555555555555556,
             "#d8576b"
            ],
            [
             0.6666666666666666,
             "#ed7953"
            ],
            [
             0.7777777777777778,
             "#fb9f3a"
            ],
            [
             0.8888888888888888,
             "#fdca26"
            ],
            [
             1,
             "#f0f921"
            ]
           ],
           "sequentialminus": [
            [
             0,
             "#0d0887"
            ],
            [
             0.1111111111111111,
             "#46039f"
            ],
            [
             0.2222222222222222,
             "#7201a8"
            ],
            [
             0.3333333333333333,
             "#9c179e"
            ],
            [
             0.4444444444444444,
             "#bd3786"
            ],
            [
             0.5555555555555556,
             "#d8576b"
            ],
            [
             0.6666666666666666,
             "#ed7953"
            ],
            [
             0.7777777777777778,
             "#fb9f3a"
            ],
            [
             0.8888888888888888,
             "#fdca26"
            ],
            [
             1,
             "#f0f921"
            ]
           ]
          },
          "colorway": [
           "#636efa",
           "#EF553B",
           "#00cc96",
           "#ab63fa",
           "#FFA15A",
           "#19d3f3",
           "#FF6692",
           "#B6E880",
           "#FF97FF",
           "#FECB52"
          ],
          "font": {
           "color": "#2a3f5f"
          },
          "geo": {
           "bgcolor": "white",
           "lakecolor": "white",
           "landcolor": "#E5ECF6",
           "showlakes": true,
           "showland": true,
           "subunitcolor": "white"
          },
          "hoverlabel": {
           "align": "left"
          },
          "hovermode": "closest",
          "mapbox": {
           "style": "light"
          },
          "paper_bgcolor": "white",
          "plot_bgcolor": "#E5ECF6",
          "polar": {
           "angularaxis": {
            "gridcolor": "white",
            "linecolor": "white",
            "ticks": ""
           },
           "bgcolor": "#E5ECF6",
           "radialaxis": {
            "gridcolor": "white",
            "linecolor": "white",
            "ticks": ""
           }
          },
          "scene": {
           "xaxis": {
            "backgroundcolor": "#E5ECF6",
            "gridcolor": "white",
            "gridwidth": 2,
            "linecolor": "white",
            "showbackground": true,
            "ticks": "",
            "zerolinecolor": "white"
           },
           "yaxis": {
            "backgroundcolor": "#E5ECF6",
            "gridcolor": "white",
            "gridwidth": 2,
            "linecolor": "white",
            "showbackground": true,
            "ticks": "",
            "zerolinecolor": "white"
           },
           "zaxis": {
            "backgroundcolor": "#E5ECF6",
            "gridcolor": "white",
            "gridwidth": 2,
            "linecolor": "white",
            "showbackground": true,
            "ticks": "",
            "zerolinecolor": "white"
           }
          },
          "shapedefaults": {
           "line": {
            "color": "#2a3f5f"
           }
          },
          "ternary": {
           "aaxis": {
            "gridcolor": "white",
            "linecolor": "white",
            "ticks": ""
           },
           "baxis": {
            "gridcolor": "white",
            "linecolor": "white",
            "ticks": ""
           },
           "bgcolor": "#E5ECF6",
           "caxis": {
            "gridcolor": "white",
            "linecolor": "white",
            "ticks": ""
           }
          },
          "title": {
           "x": 0.05
          },
          "xaxis": {
           "automargin": true,
           "gridcolor": "white",
           "linecolor": "white",
           "ticks": "",
           "title": {
            "standoff": 15
           },
           "zerolinecolor": "white",
           "zerolinewidth": 2
          },
          "yaxis": {
           "automargin": true,
           "gridcolor": "white",
           "linecolor": "white",
           "ticks": "",
           "title": {
            "standoff": 15
           },
           "zerolinecolor": "white",
           "zerolinewidth": 2
          }
         }
        },
        "width": 800
       }
      },
      "text/html": [
       "<div>                            <div id=\"39071d58-f6b0-4c78-b170-2ba9521c8bae\" class=\"plotly-graph-div\" style=\"height:600px; width:800px;\"></div>            <script type=\"text/javascript\">                require([\"plotly\"], function(Plotly) {                    window.PLOTLYENV=window.PLOTLYENV || {};                                    if (document.getElementById(\"39071d58-f6b0-4c78-b170-2ba9521c8bae\")) {                    Plotly.newPlot(                        \"39071d58-f6b0-4c78-b170-2ba9521c8bae\",                        [{\"link\":{\"color\":[\"rgba(0.522,0.553,0.984,0.5)\",\"rgba(0.737,0.522,0.984,0.5)\",\"rgba(0.996,0.710,0.494,0.5)\",\"rgba(0.996,0.529,0.663,0.5)\",\"rgba(0.996,0.678,0.996,0.5)\",\"rgba(0.318,0.686,0.961,0.5)\",\"rgba(0.996,0.710,0.494,0.5)\",\"rgba(0.996,0.529,0.663,0.5)\",\"rgba(0.318,0.686,0.961,0.5)\",\"rgba(0.949,0.478,0.404,0.5)\",\"rgba(0.949,0.478,0.404,0.5)\",\"rgba(0.949,0.478,0.404,0.5)\",\"rgba(0.314,0.863,0.965,0.5)\",\"rgba(0.227,0.843,0.675,0.5)\",\"rgba(0.741,0.733,0.741,0.5)\",\"rgba(0.949,0.478,0.404,0.5)\",\"rgba(0.204,0.722,0.239,0.5)\",\"rgba(0.949,0.478,0.404,0.5)\",\"rgba(0.949,0.478,0.404,0.5)\",\"rgba(0.561,0.839,0.227,0.5)\",\"rgba(0.678,0.678,0.678,0.5)\"],\"hovertemplate\":\"%{source.label} --\\u003e %{target.label}: %{value:1f}\\u003cextra\\u003e\\u003c\\u002fextra\\u003e\",\"source\":[0,0,1,1,1,1,2,2,2,3,4,5,6,7,7,7,8,8,9,9,10],\"target\":[1,2,3,4,5,6,3,4,6,11,11,11,7,8,10,11,9,11,11,12,13],\"value\":[42,38,21,6,3,12,19,15,4,40,21,3,16,6,5,5,3,3,1,2,5]},\"node\":{\"color\":[\"#fed67a\",\"#858dfb\",\"#bc85fb\",\"#FEB57E\",\"#fe87a9\",\"#feadfe\",\"#51AFF5\",\"#50dcf6\",\"#3ad7ac\",\"#34B83D\",\"#BDBBBD\",\"#f27a67\",\"#8FD63A\",\"#adadad\"],\"hovertemplate\":\"%{value:1f}\\u003cextra\\u003e\\u003c\\u002fextra\\u003e\",\"label\":[\"Job Applications\",\"Personal Contact\",\"Cold Applied\",\"Lost to the Abyss\",\"Automated Reject\",\"Human Reject\",\"Interview Request\",\"Initial Screen\",\"Meet Team\",\"Job Talk\",\"Terminated\",\"No\",\"Yes\",\"Unknown\"],\"pad\":10,\"x\":[0.01,0.1,0.1,0.2,0.2,0.2,0.2,0.27,0.34,0.43,0.38,0.5,0.5,0.5],\"y\":[0.75,0.36,1.15,1.15,0.6,0.3,0.1,0.1,0.125,0.1,0.01,0.87,0.15,0.01]},\"orientation\":\"v\",\"type\":\"sankey\"}],                        {\"autosize\":true,\"height\":600,\"width\":800,\"template\":{\"data\":{\"histogram2dcontour\":[{\"type\":\"histogram2dcontour\",\"colorbar\":{\"outlinewidth\":0,\"ticks\":\"\"},\"colorscale\":[[0.0,\"#0d0887\"],[0.1111111111111111,\"#46039f\"],[0.2222222222222222,\"#7201a8\"],[0.3333333333333333,\"#9c179e\"],[0.4444444444444444,\"#bd3786\"],[0.5555555555555556,\"#d8576b\"],[0.6666666666666666,\"#ed7953\"],[0.7777777777777778,\"#fb9f3a\"],[0.8888888888888888,\"#fdca26\"],[1.0,\"#f0f921\"]]}],\"choropleth\":[{\"type\":\"choropleth\",\"colorbar\":{\"outlinewidth\":0,\"ticks\":\"\"}}],\"histogram2d\":[{\"type\":\"histogram2d\",\"colorbar\":{\"outlinewidth\":0,\"ticks\":\"\"},\"colorscale\":[[0.0,\"#0d0887\"],[0.1111111111111111,\"#46039f\"],[0.2222222222222222,\"#7201a8\"],[0.3333333333333333,\"#9c179e\"],[0.4444444444444444,\"#bd3786\"],[0.5555555555555556,\"#d8576b\"],[0.6666666666666666,\"#ed7953\"],[0.7777777777777778,\"#fb9f3a\"],[0.8888888888888888,\"#fdca26\"],[1.0,\"#f0f921\"]]}],\"heatmap\":[{\"type\":\"heatmap\",\"colorbar\":{\"outlinewidth\":0,\"ticks\":\"\"},\"colorscale\":[[0.0,\"#0d0887\"],[0.1111111111111111,\"#46039f\"],[0.2222222222222222,\"#7201a8\"],[0.3333333333333333,\"#9c179e\"],[0.4444444444444444,\"#bd3786\"],[0.5555555555555556,\"#d8576b\"],[0.6666666666666666,\"#ed7953\"],[0.7777777777777778,\"#fb9f3a\"],[0.8888888888888888,\"#fdca26\"],[1.0,\"#f0f921\"]]}],\"heatmapgl\":[{\"type\":\"heatmapgl\",\"colorbar\":{\"outlinewidth\":0,\"ticks\":\"\"},\"colorscale\":[[0.0,\"#0d0887\"],[0.1111111111111111,\"#46039f\"],[0.2222222222222222,\"#7201a8\"],[0.3333333333333333,\"#9c179e\"],[0.4444444444444444,\"#bd3786\"],[0.5555555555555556,\"#d8576b\"],[0.6666666666666666,\"#ed7953\"],[0.7777777777777778,\"#fb9f3a\"],[0.8888888888888888,\"#fdca26\"],[1.0,\"#f0f921\"]]}],\"contourcarpet\":[{\"type\":\"contourcarpet\",\"colorbar\":{\"outlinewidth\":0,\"ticks\":\"\"}}],\"contour\":[{\"type\":\"contour\",\"colorbar\":{\"outlinewidth\":0,\"ticks\":\"\"},\"colorscale\":[[0.0,\"#0d0887\"],[0.1111111111111111,\"#46039f\"],[0.2222222222222222,\"#7201a8\"],[0.3333333333333333,\"#9c179e\"],[0.4444444444444444,\"#bd3786\"],[0.5555555555555556,\"#d8576b\"],[0.6666666666666666,\"#ed7953\"],[0.7777777777777778,\"#fb9f3a\"],[0.8888888888888888,\"#fdca26\"],[1.0,\"#f0f921\"]]}],\"surface\":[{\"type\":\"surface\",\"colorbar\":{\"outlinewidth\":0,\"ticks\":\"\"},\"colorscale\":[[0.0,\"#0d0887\"],[0.1111111111111111,\"#46039f\"],[0.2222222222222222,\"#7201a8\"],[0.3333333333333333,\"#9c179e\"],[0.4444444444444444,\"#bd3786\"],[0.5555555555555556,\"#d8576b\"],[0.6666666666666666,\"#ed7953\"],[0.7777777777777778,\"#fb9f3a\"],[0.8888888888888888,\"#fdca26\"],[1.0,\"#f0f921\"]]}],\"mesh3d\":[{\"type\":\"mesh3d\",\"colorbar\":{\"outlinewidth\":0,\"ticks\":\"\"}}],\"scatter\":[{\"fillpattern\":{\"fillmode\":\"overlay\",\"size\":10,\"solidity\":0.2},\"type\":\"scatter\"}],\"parcoords\":[{\"type\":\"parcoords\",\"line\":{\"colorbar\":{\"outlinewidth\":0,\"ticks\":\"\"}}}],\"scatterpolargl\":[{\"type\":\"scatterpolargl\",\"marker\":{\"colorbar\":{\"outlinewidth\":0,\"ticks\":\"\"}}}],\"bar\":[{\"error_x\":{\"color\":\"#2a3f5f\"},\"error_y\":{\"color\":\"#2a3f5f\"},\"marker\":{\"line\":{\"color\":\"#E5ECF6\",\"width\":0.5},\"pattern\":{\"fillmode\":\"overlay\",\"size\":10,\"solidity\":0.2}},\"type\":\"bar\"}],\"scattergeo\":[{\"type\":\"scattergeo\",\"marker\":{\"colorbar\":{\"outlinewidth\":0,\"ticks\":\"\"}}}],\"scatterpolar\":[{\"type\":\"scatterpolar\",\"marker\":{\"colorbar\":{\"outlinewidth\":0,\"ticks\":\"\"}}}],\"histogram\":[{\"marker\":{\"pattern\":{\"fillmode\":\"overlay\",\"size\":10,\"solidity\":0.2}},\"type\":\"histogram\"}],\"scattergl\":[{\"type\":\"scattergl\",\"marker\":{\"colorbar\":{\"outlinewidth\":0,\"ticks\":\"\"}}}],\"scatter3d\":[{\"type\":\"scatter3d\",\"line\":{\"colorbar\":{\"outlinewidth\":0,\"ticks\":\"\"}},\"marker\":{\"colorbar\":{\"outlinewidth\":0,\"ticks\":\"\"}}}],\"scattermapbox\":[{\"type\":\"scattermapbox\",\"marker\":{\"colorbar\":{\"outlinewidth\":0,\"ticks\":\"\"}}}],\"scatterternary\":[{\"type\":\"scatterternary\",\"marker\":{\"colorbar\":{\"outlinewidth\":0,\"ticks\":\"\"}}}],\"scattercarpet\":[{\"type\":\"scattercarpet\",\"marker\":{\"colorbar\":{\"outlinewidth\":0,\"ticks\":\"\"}}}],\"carpet\":[{\"aaxis\":{\"endlinecolor\":\"#2a3f5f\",\"gridcolor\":\"white\",\"linecolor\":\"white\",\"minorgridcolor\":\"white\",\"startlinecolor\":\"#2a3f5f\"},\"baxis\":{\"endlinecolor\":\"#2a3f5f\",\"gridcolor\":\"white\",\"linecolor\":\"white\",\"minorgridcolor\":\"white\",\"startlinecolor\":\"#2a3f5f\"},\"type\":\"carpet\"}],\"table\":[{\"cells\":{\"fill\":{\"color\":\"#EBF0F8\"},\"line\":{\"color\":\"white\"}},\"header\":{\"fill\":{\"color\":\"#C8D4E3\"},\"line\":{\"color\":\"white\"}},\"type\":\"table\"}],\"barpolar\":[{\"marker\":{\"line\":{\"color\":\"#E5ECF6\",\"width\":0.5},\"pattern\":{\"fillmode\":\"overlay\",\"size\":10,\"solidity\":0.2}},\"type\":\"barpolar\"}],\"pie\":[{\"automargin\":true,\"type\":\"pie\"}]},\"layout\":{\"autotypenumbers\":\"strict\",\"colorway\":[\"#636efa\",\"#EF553B\",\"#00cc96\",\"#ab63fa\",\"#FFA15A\",\"#19d3f3\",\"#FF6692\",\"#B6E880\",\"#FF97FF\",\"#FECB52\"],\"font\":{\"color\":\"#2a3f5f\"},\"hovermode\":\"closest\",\"hoverlabel\":{\"align\":\"left\"},\"paper_bgcolor\":\"white\",\"plot_bgcolor\":\"#E5ECF6\",\"polar\":{\"bgcolor\":\"#E5ECF6\",\"angularaxis\":{\"gridcolor\":\"white\",\"linecolor\":\"white\",\"ticks\":\"\"},\"radialaxis\":{\"gridcolor\":\"white\",\"linecolor\":\"white\",\"ticks\":\"\"}},\"ternary\":{\"bgcolor\":\"#E5ECF6\",\"aaxis\":{\"gridcolor\":\"white\",\"linecolor\":\"white\",\"ticks\":\"\"},\"baxis\":{\"gridcolor\":\"white\",\"linecolor\":\"white\",\"ticks\":\"\"},\"caxis\":{\"gridcolor\":\"white\",\"linecolor\":\"white\",\"ticks\":\"\"}},\"coloraxis\":{\"colorbar\":{\"outlinewidth\":0,\"ticks\":\"\"}},\"colorscale\":{\"sequential\":[[0.0,\"#0d0887\"],[0.1111111111111111,\"#46039f\"],[0.2222222222222222,\"#7201a8\"],[0.3333333333333333,\"#9c179e\"],[0.4444444444444444,\"#bd3786\"],[0.5555555555555556,\"#d8576b\"],[0.6666666666666666,\"#ed7953\"],[0.7777777777777778,\"#fb9f3a\"],[0.8888888888888888,\"#fdca26\"],[1.0,\"#f0f921\"]],\"sequentialminus\":[[0.0,\"#0d0887\"],[0.1111111111111111,\"#46039f\"],[0.2222222222222222,\"#7201a8\"],[0.3333333333333333,\"#9c179e\"],[0.4444444444444444,\"#bd3786\"],[0.5555555555555556,\"#d8576b\"],[0.6666666666666666,\"#ed7953\"],[0.7777777777777778,\"#fb9f3a\"],[0.8888888888888888,\"#fdca26\"],[1.0,\"#f0f921\"]],\"diverging\":[[0,\"#8e0152\"],[0.1,\"#c51b7d\"],[0.2,\"#de77ae\"],[0.3,\"#f1b6da\"],[0.4,\"#fde0ef\"],[0.5,\"#f7f7f7\"],[0.6,\"#e6f5d0\"],[0.7,\"#b8e186\"],[0.8,\"#7fbc41\"],[0.9,\"#4d9221\"],[1,\"#276419\"]]},\"xaxis\":{\"gridcolor\":\"white\",\"linecolor\":\"white\",\"ticks\":\"\",\"title\":{\"standoff\":15},\"zerolinecolor\":\"white\",\"automargin\":true,\"zerolinewidth\":2},\"yaxis\":{\"gridcolor\":\"white\",\"linecolor\":\"white\",\"ticks\":\"\",\"title\":{\"standoff\":15},\"zerolinecolor\":\"white\",\"automargin\":true,\"zerolinewidth\":2},\"scene\":{\"xaxis\":{\"backgroundcolor\":\"#E5ECF6\",\"gridcolor\":\"white\",\"linecolor\":\"white\",\"showbackground\":true,\"ticks\":\"\",\"zerolinecolor\":\"white\",\"gridwidth\":2},\"yaxis\":{\"backgroundcolor\":\"#E5ECF6\",\"gridcolor\":\"white\",\"linecolor\":\"white\",\"showbackground\":true,\"ticks\":\"\",\"zerolinecolor\":\"white\",\"gridwidth\":2},\"zaxis\":{\"backgroundcolor\":\"#E5ECF6\",\"gridcolor\":\"white\",\"linecolor\":\"white\",\"showbackground\":true,\"ticks\":\"\",\"zerolinecolor\":\"white\",\"gridwidth\":2}},\"shapedefaults\":{\"line\":{\"color\":\"#2a3f5f\"}},\"annotationdefaults\":{\"arrowcolor\":\"#2a3f5f\",\"arrowhead\":0,\"arrowwidth\":1},\"geo\":{\"bgcolor\":\"white\",\"landcolor\":\"#E5ECF6\",\"subunitcolor\":\"white\",\"showland\":true,\"showlakes\":true,\"lakecolor\":\"white\"},\"title\":{\"x\":0.05},\"mapbox\":{\"style\":\"light\"}}}},                        {\"responsive\": true}                    ).then(function(){\n",
       "                            \n",
       "var gd = document.getElementById('39071d58-f6b0-4c78-b170-2ba9521c8bae');\n",
       "var x = new MutationObserver(function (mutations, observer) {{\n",
       "        var display = window.getComputedStyle(gd).display;\n",
       "        if (!display || display === 'none') {{\n",
       "            console.log([gd, 'removed!']);\n",
       "            Plotly.purge(gd);\n",
       "            observer.disconnect();\n",
       "        }}\n",
       "}});\n",
       "\n",
       "// Listen for the removal of the full notebook cells\n",
       "var notebookContainer = gd.closest('#notebook-container');\n",
       "if (notebookContainer) {{\n",
       "    x.observe(notebookContainer, {childList: true});\n",
       "}}\n",
       "\n",
       "// Listen for the clearing of the current output cell\n",
       "var outputEl = gd.closest('.output');\n",
       "if (outputEl) {{\n",
       "    x.observe(outputEl, {childList: true});\n",
       "}}\n",
       "\n",
       "                        })                };                });            </script>        </div>"
      ]
     },
     "metadata": {},
     "output_type": "display_data"
    }
   ],
   "source": [
    "fig = go.Figure(go.Sankey(\n",
    "    #arrangement = \"snap\",\n",
    "    node = {\n",
    "        \"label\": node_sort,\n",
    "        \"color\":[node_color[node_map[x]] for x in node_sort],\n",
    "        'hovertemplate':'%{value:1f}<extra></extra>',\n",
    "# 'Job App',\n",
    "# 'Personal Contact','Cold Applied',\n",
    "# 'Abyss','Automated Reject','Human Reject','Interview',\n",
    "# 'Screen','Meet Team','Job Talk','Terminated',\n",
    "# 'No','Yes','Unknown']\n",
    "\n",
    "        \"x\": [0.01, \n",
    "              0.1, 0.1, \n",
    "              0.2, 0.2, 0.2, 0.2,\n",
    "              0.27, \n",
    "              0.34, 0.43, 0.38,\n",
    "              0.5, 0.5, 0.5,],\n",
    "        \"y\": [0.75, \n",
    "              0.36, 1.15, \n",
    "              1.15, 0.6, 0.3, 0.1,\n",
    "              0.1, \n",
    "              0.125, 0.1, 0.01,\n",
    "              0.87, 0.15, 0.01,],\n",
    "        'pad':10},  # 10 Pixels\n",
    "    link = {\n",
    "        \"source\": sdf['source_idx'].values,\n",
    "        \"target\": sdf['target_idx'].values,\n",
    "        \"value\": sdf['count'].values,\n",
    "        \"color\": sdf[\"target_color\"].values,\n",
    "        'hovertemplate':'%{source.label} --> %{target.label}: %{value:1f}<extra></extra>',\n",
    "    },\n",
    "    orientation = 'v',\n",
    "    ),\n",
    "    layout = go.Layout(\n",
    "        autosize=True,\n",
    "        width=800,\n",
    "        height=600,\n",
    "    ))\n",
    "fig.show()"
   ]
  },
  {
   "cell_type": "code",
   "execution_count": 127,
   "id": "1cbb5cf9",
   "metadata": {},
   "outputs": [
    {
     "data": {
      "text/plain": [
       "<matplotlib.image.AxesImage at 0x179965150>"
      ]
     },
     "execution_count": 127,
     "metadata": {},
     "output_type": "execute_result"
    },
    {
     "data": {
      "image/png": "[encoded data removed]",
      "text/plain": [
       "<Figure size 640x480 with 1 Axes>"
      ]
     },
     "metadata": {},
     "output_type": "display_data"
    }
   ],
   "source": [
    "# check rgba value\n",
    "val = [0.020,0.545,0.020,0.5]\n",
    "plt.imshow([[val]])"
   ]
  },
  {
   "cell_type": "code",
   "execution_count": 156,
   "id": "3b5fd12f",
   "metadata": {},
   "outputs": [
    {
     "data": {
      "text/plain": [
       "array([['Cold Applied', 'Lost to the Abyss',\n",
       "        'rgba(1.000,0.835,0.553,0.5)'],\n",
       "       ['Cold Applied', 'Automated Reject',\n",
       "        'rgba(1.000,0.529,0.663,0.5)'],\n",
       "       ['Cold Applied', 'Interview Request',\n",
       "        'rgba(0.318,0.686,0.961,0.5)']], dtype=object)"
      ]
     },
     "execution_count": 156,
     "metadata": {},
     "output_type": "execute_result"
    }
   ],
   "source": [
    "sdf[sdf['source']==\"Cold Applied\"][['source','target','target_color']].values"
   ]
  },
  {
   "cell_type": "code",
   "execution_count": 182,
   "id": "a505390e",
   "metadata": {
    "scrolled": false
   },
   "outputs": [
    {
     "data": {
      "application/vnd.plotly.v1+json": {
       "config": {
        "plotlyServerURL": "https://plot.ly"
       },
       "data": [
        {
         "arrangement": "snap",
         "link": {
          "color": [
           "rgba(0.522,0.553,0.984,0.5)",
           "rgba(0.737,0.522,0.984,0.5)",
           "rgba(0.996,0.710,0.494,0.5)",
           "rgba(0.996,0.529,0.663,0.5)",
           "rgba(0.996,0.678,0.996,0.5)",
           "rgba(0.318,0.686,0.961,0.5)",
           "rgba(0.996,0.710,0.494,0.5)",
           "rgba(0.996,0.529,0.663,0.5)",
           "rgba(0.318,0.686,0.961,0.5)",
           "rgba(0.949,0.478,0.404,0.5)",
           "rgba(0.949,0.478,0.404,0.5)",
           "rgba(0.949,0.478,0.404,0.5)",
           "rgba(0.314,0.863,0.965,0.5)",
           "rgba(0.227,0.843,0.675,0.5)",
           "rgba(0.741,0.733,0.741,0.5)",
           "rgba(0.949,0.478,0.404,0.5)",
           "rgba(0.204,0.722,0.239,0.5)",
           "rgba(0.949,0.478,0.404,0.5)",
           "rgba(0.949,0.478,0.404,0.5)",
           "rgba(0.561,0.839,0.227,0.5)",
           "rgba(0.678,0.678,0.678,0.5)"
          ],
          "source": [
           0,
           0,
           1,
           1,
           1,
           1,
           2,
           2,
           2,
           3,
           4,
           5,
           6,
           7,
           7,
           7,
           8,
           8,
           9,
           9,
           10
          ],
          "target": [
           1,
           2,
           3,
           4,
           5,
           6,
           3,
           4,
           6,
           11,
           11,
           11,
           7,
           8,
           10,
           11,
           9,
           11,
           11,
           12,
           13
          ],
          "value": [
           42,
           38,
           21,
           6,
           3,
           12,
           19,
           15,
           4,
           40,
           21,
           3,
           16,
           6,
           5,
           5,
           3,
           3,
           1,
           2,
           5
          ]
         },
         "node": {
          "color": [
           "#fed67a",
           "#858dfb",
           "#bc85fb",
           "#FEB57E",
           "#fe87a9",
           "#feadfe",
           "#51AFF5",
           "#50dcf6",
           "#3ad7ac",
           "#34B83D",
           "#BDBBBD",
           "#f27a67",
           "#8FD63A",
           "#adadad"
          ],
          "label": [
           "Job Applications",
           "Personal Contact",
           "Cold Applied",
           "Lost to the Abyss",
           "Automated Reject",
           "Human<br>Reject",
           "Interview Request",
           "Initial Screen",
           "Meet Team",
           "Job<br>Talk",
           "Terminated",
           "No",
           "Yes",
           "Unknown"
          ],
          "pad": 10
         },
         "orientation": "v",
         "type": "sankey"
        }
       ],
       "layout": {
        "template": {
         "data": {
          "bar": [
           {
            "error_x": {
             "color": "#2a3f5f"
            },
            "error_y": {
             "color": "#2a3f5f"
            },
            "marker": {
             "line": {
              "color": "#E5ECF6",
              "width": 0.5
             },
             "pattern": {
              "fillmode": "overlay",
              "size": 10,
              "solidity": 0.2
             }
            },
            "type": "bar"
           }
          ],
          "barpolar": [
           {
            "marker": {
             "line": {
              "color": "#E5ECF6",
              "width": 0.5
             },
             "pattern": {
              "fillmode": "overlay",
              "size": 10,
              "solidity": 0.2
             }
            },
            "type": "barpolar"
           }
          ],
          "carpet": [
           {
            "aaxis": {
             "endlinecolor": "#2a3f5f",
             "gridcolor": "white",
             "linecolor": "white",
             "minorgridcolor": "white",
             "startlinecolor": "#2a3f5f"
            },
            "baxis": {
             "endlinecolor": "#2a3f5f",
             "gridcolor": "white",
             "linecolor": "white",
             "minorgridcolor": "white",
             "startlinecolor": "#2a3f5f"
            },
            "type": "carpet"
           }
          ],
          "choropleth": [
           {
            "colorbar": {
             "outlinewidth": 0,
             "ticks": ""
            },
            "type": "choropleth"
           }
          ],
          "contour": [
           {
            "colorbar": {
             "outlinewidth": 0,
             "ticks": ""
            },
            "colorscale": [
             [
              0,
              "#0d0887"
             ],
             [
              0.1111111111111111,
              "#46039f"
             ],
             [
              0.2222222222222222,
              "#7201a8"
             ],
             [
              0.3333333333333333,
              "#9c179e"
             ],
             [
              0.4444444444444444,
              "#bd3786"
             ],
             [
              0.5555555555555556,
              "#d8576b"
             ],
             [
              0.6666666666666666,
              "#ed7953"
             ],
             [
              0.7777777777777778,
              "#fb9f3a"
             ],
             [
              0.8888888888888888,
              "#fdca26"
             ],
             [
              1,
              "#f0f921"
             ]
            ],
            "type": "contour"
           }
          ],
          "contourcarpet": [
           {
            "colorbar": {
             "outlinewidth": 0,
             "ticks": ""
            },
            "type": "contourcarpet"
           }
          ],
          "heatmap": [
           {
            "colorbar": {
             "outlinewidth": 0,
             "ticks": ""
            },
            "colorscale": [
             [
              0,
              "#0d0887"
             ],
             [
              0.1111111111111111,
              "#46039f"
             ],
             [
              0.2222222222222222,
              "#7201a8"
             ],
             [
              0.3333333333333333,
              "#9c179e"
             ],
             [
              0.4444444444444444,
              "#bd3786"
             ],
             [
              0.5555555555555556,
              "#d8576b"
             ],
             [
              0.6666666666666666,
              "#ed7953"
             ],
             [
              0.7777777777777778,
              "#fb9f3a"
             ],
             [
              0.8888888888888888,
              "#fdca26"
             ],
             [
              1,
              "#f0f921"
             ]
            ],
            "type": "heatmap"
           }
          ],
          "heatmapgl": [
           {
            "colorbar": {
             "outlinewidth": 0,
             "ticks": ""
            },
            "colorscale": [
             [
              0,
              "#0d0887"
             ],
             [
              0.1111111111111111,
              "#46039f"
             ],
             [
              0.2222222222222222,
              "#7201a8"
             ],
             [
              0.3333333333333333,
              "#9c179e"
             ],
             [
              0.4444444444444444,
              "#bd3786"
             ],
             [
              0.5555555555555556,
              "#d8576b"
             ],
             [
              0.6666666666666666,
              "#ed7953"
             ],
             [
              0.7777777777777778,
              "#fb9f3a"
             ],
             [
              0.8888888888888888,
              "#fdca26"
             ],
             [
              1,
              "#f0f921"
             ]
            ],
            "type": "heatmapgl"
           }
          ],
          "histogram": [
           {
            "marker": {
             "pattern": {
              "fillmode": "overlay",
              "size": 10,
              "solidity": 0.2
             }
            },
            "type": "histogram"
           }
          ],
          "histogram2d": [
           {
            "colorbar": {
             "outlinewidth": 0,
             "ticks": ""
            },
            "colorscale": [
             [
              0,
              "#0d0887"
             ],
             [
              0.1111111111111111,
              "#46039f"
             ],
             [
              0.2222222222222222,
              "#7201a8"
             ],
             [
              0.3333333333333333,
              "#9c179e"
             ],
             [
              0.4444444444444444,
              "#bd3786"
             ],
             [
              0.5555555555555556,
              "#d8576b"
             ],
             [
              0.6666666666666666,
              "#ed7953"
             ],
             [
              0.7777777777777778,
              "#fb9f3a"
             ],
             [
              0.8888888888888888,
              "#fdca26"
             ],
             [
              1,
              "#f0f921"
             ]
            ],
            "type": "histogram2d"
           }
          ],
          "histogram2dcontour": [
           {
            "colorbar": {
             "outlinewidth": 0,
             "ticks": ""
            },
            "colorscale": [
             [
              0,
              "#0d0887"
             ],
             [
              0.1111111111111111,
              "#46039f"
             ],
             [
              0.2222222222222222,
              "#7201a8"
             ],
             [
              0.3333333333333333,
              "#9c179e"
             ],
             [
              0.4444444444444444,
              "#bd3786"
             ],
             [
              0.5555555555555556,
              "#d8576b"
             ],
             [
              0.6666666666666666,
              "#ed7953"
             ],
             [
              0.7777777777777778,
              "#fb9f3a"
             ],
             [
              0.8888888888888888,
              "#fdca26"
             ],
             [
              1,
              "#f0f921"
             ]
            ],
            "type": "histogram2dcontour"
           }
          ],
          "mesh3d": [
           {
            "colorbar": {
             "outlinewidth": 0,
             "ticks": ""
            },
            "type": "mesh3d"
           }
          ],
          "parcoords": [
           {
            "line": {
             "colorbar": {
              "outlinewidth": 0,
              "ticks": ""
             }
            },
            "type": "parcoords"
           }
          ],
          "pie": [
           {
            "automargin": true,
            "type": "pie"
           }
          ],
          "scatter": [
           {
            "fillpattern": {
             "fillmode": "overlay",
             "size": 10,
             "solidity": 0.2
            },
            "type": "scatter"
           }
          ],
          "scatter3d": [
           {
            "line": {
             "colorbar": {
              "outlinewidth": 0,
              "ticks": ""
             }
            },
            "marker": {
             "colorbar": {
              "outlinewidth": 0,
              "ticks": ""
             }
            },
            "type": "scatter3d"
           }
          ],
          "scattercarpet": [
           {
            "marker": {
             "colorbar": {
              "outlinewidth": 0,
              "ticks": ""
             }
            },
            "type": "scattercarpet"
           }
          ],
          "scattergeo": [
           {
            "marker": {
             "colorbar": {
              "outlinewidth": 0,
              "ticks": ""
             }
            },
            "type": "scattergeo"
           }
          ],
          "scattergl": [
           {
            "marker": {
             "colorbar": {
              "outlinewidth": 0,
              "ticks": ""
             }
            },
            "type": "scattergl"
           }
          ],
          "scattermapbox": [
           {
            "marker": {
             "colorbar": {
              "outlinewidth": 0,
              "ticks": ""
             }
            },
            "type": "scattermapbox"
           }
          ],
          "scatterpolar": [
           {
            "marker": {
             "colorbar": {
              "outlinewidth": 0,
              "ticks": ""
             }
            },
            "type": "scatterpolar"
           }
          ],
          "scatterpolargl": [
           {
            "marker": {
             "colorbar": {
              "outlinewidth": 0,
              "ticks": ""
             }
            },
            "type": "scatterpolargl"
           }
          ],
          "scatterternary": [
           {
            "marker": {
             "colorbar": {
              "outlinewidth": 0,
              "ticks": ""
             }
            },
            "type": "scatterternary"
           }
          ],
          "surface": [
           {
            "colorbar": {
             "outlinewidth": 0,
             "ticks": ""
            },
            "colorscale": [
             [
              0,
              "#0d0887"
             ],
             [
              0.1111111111111111,
              "#46039f"
             ],
             [
              0.2222222222222222,
              "#7201a8"
             ],
             [
              0.3333333333333333,
              "#9c179e"
             ],
             [
              0.4444444444444444,
              "#bd3786"
             ],
             [
              0.5555555555555556,
              "#d8576b"
             ],
             [
              0.6666666666666666,
              "#ed7953"
             ],
             [
              0.7777777777777778,
              "#fb9f3a"
             ],
             [
              0.8888888888888888,
              "#fdca26"
             ],
             [
              1,
              "#f0f921"
             ]
            ],
            "type": "surface"
           }
          ],
          "table": [
           {
            "cells": {
             "fill": {
              "color": "#EBF0F8"
             },
             "line": {
              "color": "white"
             }
            },
            "header": {
             "fill": {
              "color": "#C8D4E3"
             },
             "line": {
              "color": "white"
             }
            },
            "type": "table"
           }
          ]
         },
         "layout": {
          "annotationdefaults": {
           "arrowcolor": "#2a3f5f",
           "arrowhead": 0,
           "arrowwidth": 1
          },
          "autotypenumbers": "strict",
          "coloraxis": {
           "colorbar": {
            "outlinewidth": 0,
            "ticks": ""
           }
          },
          "colorscale": {
           "diverging": [
            [
             0,
             "#8e0152"
            ],
            [
             0.1,
             "#c51b7d"
            ],
            [
             0.2,
             "#de77ae"
            ],
            [
             0.3,
             "#f1b6da"
            ],
            [
             0.4,
             "#fde0ef"
            ],
            [
             0.5,
             "#f7f7f7"
            ],
            [
             0.6,
             "#e6f5d0"
            ],
            [
             0.7,
             "#b8e186"
            ],
            [
             0.8,
             "#7fbc41"
            ],
            [
             0.9,
             "#4d9221"
            ],
            [
             1,
             "#276419"
            ]
           ],
           "sequential": [
            [
             0,
             "#0d0887"
            ],
            [
             0.1111111111111111,
             "#46039f"
            ],
            [
             0.2222222222222222,
             "#7201a8"
            ],
            [
             0.3333333333333333,
             "#9c179e"
            ],
            [
             0.4444444444444444,
             "#bd3786"
            ],
            [
             0.5555555555555556,
             "#d8576b"
            ],
            [
             0.6666666666666666,
             "#ed7953"
            ],
            [
             0.7777777777777778,
             "#fb9f3a"
            ],
            [
             0.8888888888888888,
             "#fdca26"
            ],
            [
             1,
             "#f0f921"
            ]
           ],
           "sequentialminus": [
            [
             0,
             "#0d0887"
            ],
            [
             0.1111111111111111,
             "#46039f"
            ],
            [
             0.2222222222222222,
             "#7201a8"
            ],
            [
             0.3333333333333333,
             "#9c179e"
            ],
            [
             0.4444444444444444,
             "#bd3786"
            ],
            [
             0.5555555555555556,
             "#d8576b"
            ],
            [
             0.6666666666666666,
             "#ed7953"
            ],
            [
             0.7777777777777778,
             "#fb9f3a"
            ],
            [
             0.8888888888888888,
             "#fdca26"
            ],
            [
             1,
             "#f0f921"
            ]
           ]
          },
          "colorway": [
           "#636efa",
           "#EF553B",
           "#00cc96",
           "#ab63fa",
           "#FFA15A",
           "#19d3f3",
           "#FF6692",
           "#B6E880",
           "#FF97FF",
           "#FECB52"
          ],
          "font": {
           "color": "#2a3f5f"
          },
          "geo": {
           "bgcolor": "white",
           "lakecolor": "white",
           "landcolor": "#E5ECF6",
           "showlakes": true,
           "showland": true,
           "subunitcolor": "white"
          },
          "hoverlabel": {
           "align": "left"
          },
          "hovermode": "closest",
          "mapbox": {
           "style": "light"
          },
          "paper_bgcolor": "white",
          "plot_bgcolor": "#E5ECF6",
          "polar": {
           "angularaxis": {
            "gridcolor": "white",
            "linecolor": "white",
            "ticks": ""
           },
           "bgcolor": "#E5ECF6",
           "radialaxis": {
            "gridcolor": "white",
            "linecolor": "white",
            "ticks": ""
           }
          },
          "scene": {
           "xaxis": {
            "backgroundcolor": "#E5ECF6",
            "gridcolor": "white",
            "gridwidth": 2,
            "linecolor": "white",
            "showbackground": true,
            "ticks": "",
            "zerolinecolor": "white"
           },
           "yaxis": {
            "backgroundcolor": "#E5ECF6",
            "gridcolor": "white",
            "gridwidth": 2,
            "linecolor": "white",
            "showbackground": true,
            "ticks": "",
            "zerolinecolor": "white"
           },
           "zaxis": {
            "backgroundcolor": "#E5ECF6",
            "gridcolor": "white",
            "gridwidth": 2,
            "linecolor": "white",
            "showbackground": true,
            "ticks": "",
            "zerolinecolor": "white"
           }
          },
          "shapedefaults": {
           "line": {
            "color": "#2a3f5f"
           }
          },
          "ternary": {
           "aaxis": {
            "gridcolor": "white",
            "linecolor": "white",
            "ticks": ""
           },
           "baxis": {
            "gridcolor": "white",
            "linecolor": "white",
            "ticks": ""
           },
           "bgcolor": "#E5ECF6",
           "caxis": {
            "gridcolor": "white",
            "linecolor": "white",
            "ticks": ""
           }
          },
          "title": {
           "x": 0.05
          },
          "xaxis": {
           "automargin": true,
           "gridcolor": "white",
           "linecolor": "white",
           "ticks": "",
           "title": {
            "standoff": 15
           },
           "zerolinecolor": "white",
           "zerolinewidth": 2
          },
          "yaxis": {
           "automargin": true,
           "gridcolor": "white",
           "linecolor": "white",
           "ticks": "",
           "title": {
            "standoff": 15
           },
           "zerolinecolor": "white",
           "zerolinewidth": 2
          }
         }
        }
       }
      },
      "text/html": [
       "<div>                            <div id=\"1566e791-d798-4891-adbe-16f7f8472b56\" class=\"plotly-graph-div\" style=\"height:525px; width:100%;\"></div>            <script type=\"text/javascript\">                require([\"plotly\"], function(Plotly) {                    window.PLOTLYENV=window.PLOTLYENV || {};                                    if (document.getElementById(\"1566e791-d798-4891-adbe-16f7f8472b56\")) {                    Plotly.newPlot(                        \"1566e791-d798-4891-adbe-16f7f8472b56\",                        [{\"arrangement\":\"snap\",\"link\":{\"color\":[\"rgba(0.522,0.553,0.984,0.5)\",\"rgba(0.737,0.522,0.984,0.5)\",\"rgba(0.996,0.710,0.494,0.5)\",\"rgba(0.996,0.529,0.663,0.5)\",\"rgba(0.996,0.678,0.996,0.5)\",\"rgba(0.318,0.686,0.961,0.5)\",\"rgba(0.996,0.710,0.494,0.5)\",\"rgba(0.996,0.529,0.663,0.5)\",\"rgba(0.318,0.686,0.961,0.5)\",\"rgba(0.949,0.478,0.404,0.5)\",\"rgba(0.949,0.478,0.404,0.5)\",\"rgba(0.949,0.478,0.404,0.5)\",\"rgba(0.314,0.863,0.965,0.5)\",\"rgba(0.227,0.843,0.675,0.5)\",\"rgba(0.741,0.733,0.741,0.5)\",\"rgba(0.949,0.478,0.404,0.5)\",\"rgba(0.204,0.722,0.239,0.5)\",\"rgba(0.949,0.478,0.404,0.5)\",\"rgba(0.949,0.478,0.404,0.5)\",\"rgba(0.561,0.839,0.227,0.5)\",\"rgba(0.678,0.678,0.678,0.5)\"],\"source\":[0,0,1,1,1,1,2,2,2,3,4,5,6,7,7,7,8,8,9,9,10],\"target\":[1,2,3,4,5,6,3,4,6,11,11,11,7,8,10,11,9,11,11,12,13],\"value\":[42,38,21,6,3,12,19,15,4,40,21,3,16,6,5,5,3,3,1,2,5]},\"node\":{\"color\":[\"#fed67a\",\"#858dfb\",\"#bc85fb\",\"#FEB57E\",\"#fe87a9\",\"#feadfe\",\"#51AFF5\",\"#50dcf6\",\"#3ad7ac\",\"#34B83D\",\"#BDBBBD\",\"#f27a67\",\"#8FD63A\",\"#adadad\"],\"label\":[\"Job Applications\",\"Personal Contact\",\"Cold Applied\",\"Lost to the Abyss\",\"Automated Reject\",\"Human\\u003cbr\\u003eReject\",\"Interview Request\",\"Initial Screen\",\"Meet Team\",\"Job\\u003cbr\\u003eTalk\",\"Terminated\",\"No\",\"Yes\",\"Unknown\"],\"pad\":10},\"orientation\":\"v\",\"type\":\"sankey\"}],                        {\"template\":{\"data\":{\"histogram2dcontour\":[{\"type\":\"histogram2dcontour\",\"colorbar\":{\"outlinewidth\":0,\"ticks\":\"\"},\"colorscale\":[[0.0,\"#0d0887\"],[0.1111111111111111,\"#46039f\"],[0.2222222222222222,\"#7201a8\"],[0.3333333333333333,\"#9c179e\"],[0.4444444444444444,\"#bd3786\"],[0.5555555555555556,\"#d8576b\"],[0.6666666666666666,\"#ed7953\"],[0.7777777777777778,\"#fb9f3a\"],[0.8888888888888888,\"#fdca26\"],[1.0,\"#f0f921\"]]}],\"choropleth\":[{\"type\":\"choropleth\",\"colorbar\":{\"outlinewidth\":0,\"ticks\":\"\"}}],\"histogram2d\":[{\"type\":\"histogram2d\",\"colorbar\":{\"outlinewidth\":0,\"ticks\":\"\"},\"colorscale\":[[0.0,\"#0d0887\"],[0.1111111111111111,\"#46039f\"],[0.2222222222222222,\"#7201a8\"],[0.3333333333333333,\"#9c179e\"],[0.4444444444444444,\"#bd3786\"],[0.5555555555555556,\"#d8576b\"],[0.6666666666666666,\"#ed7953\"],[0.7777777777777778,\"#fb9f3a\"],[0.8888888888888888,\"#fdca26\"],[1.0,\"#f0f921\"]]}],\"heatmap\":[{\"type\":\"heatmap\",\"colorbar\":{\"outlinewidth\":0,\"ticks\":\"\"},\"colorscale\":[[0.0,\"#0d0887\"],[0.1111111111111111,\"#46039f\"],[0.2222222222222222,\"#7201a8\"],[0.3333333333333333,\"#9c179e\"],[0.4444444444444444,\"#bd3786\"],[0.5555555555555556,\"#d8576b\"],[0.6666666666666666,\"#ed7953\"],[0.7777777777777778,\"#fb9f3a\"],[0.8888888888888888,\"#fdca26\"],[1.0,\"#f0f921\"]]}],\"heatmapgl\":[{\"type\":\"heatmapgl\",\"colorbar\":{\"outlinewidth\":0,\"ticks\":\"\"},\"colorscale\":[[0.0,\"#0d0887\"],[0.1111111111111111,\"#46039f\"],[0.2222222222222222,\"#7201a8\"],[0.3333333333333333,\"#9c179e\"],[0.4444444444444444,\"#bd3786\"],[0.5555555555555556,\"#d8576b\"],[0.6666666666666666,\"#ed7953\"],[0.7777777777777778,\"#fb9f3a\"],[0.8888888888888888,\"#fdca26\"],[1.0,\"#f0f921\"]]}],\"contourcarpet\":[{\"type\":\"contourcarpet\",\"colorbar\":{\"outlinewidth\":0,\"ticks\":\"\"}}],\"contour\":[{\"type\":\"contour\",\"colorbar\":{\"outlinewidth\":0,\"ticks\":\"\"},\"colorscale\":[[0.0,\"#0d0887\"],[0.1111111111111111,\"#46039f\"],[0.2222222222222222,\"#7201a8\"],[0.3333333333333333,\"#9c179e\"],[0.4444444444444444,\"#bd3786\"],[0.5555555555555556,\"#d8576b\"],[0.6666666666666666,\"#ed7953\"],[0.7777777777777778,\"#fb9f3a\"],[0.8888888888888888,\"#fdca26\"],[1.0,\"#f0f921\"]]}],\"surface\":[{\"type\":\"surface\",\"colorbar\":{\"outlinewidth\":0,\"ticks\":\"\"},\"colorscale\":[[0.0,\"#0d0887\"],[0.1111111111111111,\"#46039f\"],[0.2222222222222222,\"#7201a8\"],[0.3333333333333333,\"#9c179e\"],[0.4444444444444444,\"#bd3786\"],[0.5555555555555556,\"#d8576b\"],[0.6666666666666666,\"#ed7953\"],[0.7777777777777778,\"#fb9f3a\"],[0.8888888888888888,\"#fdca26\"],[1.0,\"#f0f921\"]]}],\"mesh3d\":[{\"type\":\"mesh3d\",\"colorbar\":{\"outlinewidth\":0,\"ticks\":\"\"}}],\"scatter\":[{\"fillpattern\":{\"fillmode\":\"overlay\",\"size\":10,\"solidity\":0.2},\"type\":\"scatter\"}],\"parcoords\":[{\"type\":\"parcoords\",\"line\":{\"colorbar\":{\"outlinewidth\":0,\"ticks\":\"\"}}}],\"scatterpolargl\":[{\"type\":\"scatterpolargl\",\"marker\":{\"colorbar\":{\"outlinewidth\":0,\"ticks\":\"\"}}}],\"bar\":[{\"error_x\":{\"color\":\"#2a3f5f\"},\"error_y\":{\"color\":\"#2a3f5f\"},\"marker\":{\"line\":{\"color\":\"#E5ECF6\",\"width\":0.5},\"pattern\":{\"fillmode\":\"overlay\",\"size\":10,\"solidity\":0.2}},\"type\":\"bar\"}],\"scattergeo\":[{\"type\":\"scattergeo\",\"marker\":{\"colorbar\":{\"outlinewidth\":0,\"ticks\":\"\"}}}],\"scatterpolar\":[{\"type\":\"scatterpolar\",\"marker\":{\"colorbar\":{\"outlinewidth\":0,\"ticks\":\"\"}}}],\"histogram\":[{\"marker\":{\"pattern\":{\"fillmode\":\"overlay\",\"size\":10,\"solidity\":0.2}},\"type\":\"histogram\"}],\"scattergl\":[{\"type\":\"scattergl\",\"marker\":{\"colorbar\":{\"outlinewidth\":0,\"ticks\":\"\"}}}],\"scatter3d\":[{\"type\":\"scatter3d\",\"line\":{\"colorbar\":{\"outlinewidth\":0,\"ticks\":\"\"}},\"marker\":{\"colorbar\":{\"outlinewidth\":0,\"ticks\":\"\"}}}],\"scattermapbox\":[{\"type\":\"scattermapbox\",\"marker\":{\"colorbar\":{\"outlinewidth\":0,\"ticks\":\"\"}}}],\"scatterternary\":[{\"type\":\"scatterternary\",\"marker\":{\"colorbar\":{\"outlinewidth\":0,\"ticks\":\"\"}}}],\"scattercarpet\":[{\"type\":\"scattercarpet\",\"marker\":{\"colorbar\":{\"outlinewidth\":0,\"ticks\":\"\"}}}],\"carpet\":[{\"aaxis\":{\"endlinecolor\":\"#2a3f5f\",\"gridcolor\":\"white\",\"linecolor\":\"white\",\"minorgridcolor\":\"white\",\"startlinecolor\":\"#2a3f5f\"},\"baxis\":{\"endlinecolor\":\"#2a3f5f\",\"gridcolor\":\"white\",\"linecolor\":\"white\",\"minorgridcolor\":\"white\",\"startlinecolor\":\"#2a3f5f\"},\"type\":\"carpet\"}],\"table\":[{\"cells\":{\"fill\":{\"color\":\"#EBF0F8\"},\"line\":{\"color\":\"white\"}},\"header\":{\"fill\":{\"color\":\"#C8D4E3\"},\"line\":{\"color\":\"white\"}},\"type\":\"table\"}],\"barpolar\":[{\"marker\":{\"line\":{\"color\":\"#E5ECF6\",\"width\":0.5},\"pattern\":{\"fillmode\":\"overlay\",\"size\":10,\"solidity\":0.2}},\"type\":\"barpolar\"}],\"pie\":[{\"automargin\":true,\"type\":\"pie\"}]},\"layout\":{\"autotypenumbers\":\"strict\",\"colorway\":[\"#636efa\",\"#EF553B\",\"#00cc96\",\"#ab63fa\",\"#FFA15A\",\"#19d3f3\",\"#FF6692\",\"#B6E880\",\"#FF97FF\",\"#FECB52\"],\"font\":{\"color\":\"#2a3f5f\"},\"hovermode\":\"closest\",\"hoverlabel\":{\"align\":\"left\"},\"paper_bgcolor\":\"white\",\"plot_bgcolor\":\"#E5ECF6\",\"polar\":{\"bgcolor\":\"#E5ECF6\",\"angularaxis\":{\"gridcolor\":\"white\",\"linecolor\":\"white\",\"ticks\":\"\"},\"radialaxis\":{\"gridcolor\":\"white\",\"linecolor\":\"white\",\"ticks\":\"\"}},\"ternary\":{\"bgcolor\":\"#E5ECF6\",\"aaxis\":{\"gridcolor\":\"white\",\"linecolor\":\"white\",\"ticks\":\"\"},\"baxis\":{\"gridcolor\":\"white\",\"linecolor\":\"white\",\"ticks\":\"\"},\"caxis\":{\"gridcolor\":\"white\",\"linecolor\":\"white\",\"ticks\":\"\"}},\"coloraxis\":{\"colorbar\":{\"outlinewidth\":0,\"ticks\":\"\"}},\"colorscale\":{\"sequential\":[[0.0,\"#0d0887\"],[0.1111111111111111,\"#46039f\"],[0.2222222222222222,\"#7201a8\"],[0.3333333333333333,\"#9c179e\"],[0.4444444444444444,\"#bd3786\"],[0.5555555555555556,\"#d8576b\"],[0.6666666666666666,\"#ed7953\"],[0.7777777777777778,\"#fb9f3a\"],[0.8888888888888888,\"#fdca26\"],[1.0,\"#f0f921\"]],\"sequentialminus\":[[0.0,\"#0d0887\"],[0.1111111111111111,\"#46039f\"],[0.2222222222222222,\"#7201a8\"],[0.3333333333333333,\"#9c179e\"],[0.4444444444444444,\"#bd3786\"],[0.5555555555555556,\"#d8576b\"],[0.6666666666666666,\"#ed7953\"],[0.7777777777777778,\"#fb9f3a\"],[0.8888888888888888,\"#fdca26\"],[1.0,\"#f0f921\"]],\"diverging\":[[0,\"#8e0152\"],[0.1,\"#c51b7d\"],[0.2,\"#de77ae\"],[0.3,\"#f1b6da\"],[0.4,\"#fde0ef\"],[0.5,\"#f7f7f7\"],[0.6,\"#e6f5d0\"],[0.7,\"#b8e186\"],[0.8,\"#7fbc41\"],[0.9,\"#4d9221\"],[1,\"#276419\"]]},\"xaxis\":{\"gridcolor\":\"white\",\"linecolor\":\"white\",\"ticks\":\"\",\"title\":{\"standoff\":15},\"zerolinecolor\":\"white\",\"automargin\":true,\"zerolinewidth\":2},\"yaxis\":{\"gridcolor\":\"white\",\"linecolor\":\"white\",\"ticks\":\"\",\"title\":{\"standoff\":15},\"zerolinecolor\":\"white\",\"automargin\":true,\"zerolinewidth\":2},\"scene\":{\"xaxis\":{\"backgroundcolor\":\"#E5ECF6\",\"gridcolor\":\"white\",\"linecolor\":\"white\",\"showbackground\":true,\"ticks\":\"\",\"zerolinecolor\":\"white\",\"gridwidth\":2},\"yaxis\":{\"backgroundcolor\":\"#E5ECF6\",\"gridcolor\":\"white\",\"linecolor\":\"white\",\"showbackground\":true,\"ticks\":\"\",\"zerolinecolor\":\"white\",\"gridwidth\":2},\"zaxis\":{\"backgroundcolor\":\"#E5ECF6\",\"gridcolor\":\"white\",\"linecolor\":\"white\",\"showbackground\":true,\"ticks\":\"\",\"zerolinecolor\":\"white\",\"gridwidth\":2}},\"shapedefaults\":{\"line\":{\"color\":\"#2a3f5f\"}},\"annotationdefaults\":{\"arrowcolor\":\"#2a3f5f\",\"arrowhead\":0,\"arrowwidth\":1},\"geo\":{\"bgcolor\":\"white\",\"landcolor\":\"#E5ECF6\",\"subunitcolor\":\"white\",\"showland\":true,\"showlakes\":true,\"lakecolor\":\"white\"},\"title\":{\"x\":0.05},\"mapbox\":{\"style\":\"light\"}}}},                        {\"responsive\": true}                    ).then(function(){\n",
       "                            \n",
       "var gd = document.getElementById('1566e791-d798-4891-adbe-16f7f8472b56');\n",
       "var x = new MutationObserver(function (mutations, observer) {{\n",
       "        var display = window.getComputedStyle(gd).display;\n",
       "        if (!display || display === 'none') {{\n",
       "            console.log([gd, 'removed!']);\n",
       "            Plotly.purge(gd);\n",
       "            observer.disconnect();\n",
       "        }}\n",
       "}});\n",
       "\n",
       "// Listen for the removal of the full notebook cells\n",
       "var notebookContainer = gd.closest('#notebook-container');\n",
       "if (notebookContainer) {{\n",
       "    x.observe(notebookContainer, {childList: true});\n",
       "}}\n",
       "\n",
       "// Listen for the clearing of the current output cell\n",
       "var outputEl = gd.closest('.output');\n",
       "if (outputEl) {{\n",
       "    x.observe(outputEl, {childList: true});\n",
       "}}\n",
       "\n",
       "                        })                };                });            </script>        </div>"
      ]
     },
     "metadata": {},
     "output_type": "display_data"
    }
   ],
   "source": [
    "fig = go.Figure(go.Sankey(\n",
    "    arrangement = \"snap\",\n",
    "    node = {\n",
    "        \"label\": node_labels,\n",
    "        \"color\":[node_color[node_map[x]] for x in node_sort],\n",
    "# 'Job App',\n",
    "# 'Personal Contact','Cold Applied',\n",
    "# 'Abyss','Automated Reject','Human Reject','Interview',\n",
    "# 'Screen','Meet Team','Job Talk','Terminated',\n",
    "# 'No','Yes','Unknown']\n",
    "\n",
    "#         \"x\": [0.0, \n",
    "#               0.1, 0.1, \n",
    "#               0.2, 0.2, 0.2, 0.2,\n",
    "#               0.25, \n",
    "#               0.3, 0.4, 0.35,\n",
    "#               0.5, 0.5, 0.5,],\n",
    "#         \"y\": [0, \n",
    "#               0.55, 1.85, \n",
    "#               1.9, 1.0, 0.55, 0.2,\n",
    "#               0.2, 0.2, 0.2, -0.01,\n",
    "#               1.4, 0.2, -0.01,],\n",
    "        'pad':10},  # 10 Pixels\n",
    "    link = {\n",
    "        \"source\": sdf['source_idx'].values,\n",
    "        \"target\": sdf['target_idx'].values,\n",
    "        \"value\": sdf['count'].values,\n",
    "        \"color\": sdf[\"target_color\"].values\n",
    "    },\n",
    "    orientation = 'v',\n",
    "),\n",
    ")\n",
    "\n",
    "fig.show()"
   ]
  },
  {
   "cell_type": "code",
   "execution_count": 10,
   "id": "26a78f45",
   "metadata": {
    "scrolled": false
   },
   "outputs": [],
   "source": [
    "# import holoviews as hv\n",
    "# from holoviews import opts, dim\n",
    "# hv.extension('bokeh')\n",
    "\n",
    "# sankey = hv.Sankey(sdf)\n",
    "# sankey.opts(width=600, height=400,node_sort=False,edge_color='target',)"
   ]
  },
  {
   "cell_type": "code",
   "execution_count": 174,
   "id": "1f6234fc",
   "metadata": {},
   "outputs": [
    {
     "data": {},
     "metadata": {},
     "output_type": "display_data"
    },
    {
     "data": {
      "application/vnd.holoviews_exec.v0+json": "",
      "text/html": [
       "<div id='p1176'>\n",
       "  <div id=\"d9cb8cfd-d74a-4e59-8154-1f7df3a29d8f\" data-root-id=\"p1176\" style=\"display: contents;\"></div>\n",
       "</div>\n",
       "<script type=\"application/javascript\">(function(root) {\n",
       "  var docs_json = {\"dee37d58-cb06-42d1-863f-208f0b3976eb\":{\"version\":\"3.3.4\",\"title\":\"Bokeh Application\",\"roots\":[{\"type\":\"object\",\"name\":\"Row\",\"id\":\"p1176\",\"attributes\":{\"name\":\"Row01616\",\"tags\":[\"embedded\"],\"stylesheets\":[\"\\n:host(.pn-loading.pn-arc):before, .pn-loading.pn-arc:before {\\n  background-image: url(\\\"data:image/svg+xml;base64,PHN2ZyB4bWxucz0iaHR0cDovL3d3dy53My5vcmcvMjAwMC9zdmciIHN0eWxlPSJtYXJnaW46IGF1dG87IGJhY2tncm91bmQ6IG5vbmU7IGRpc3BsYXk6IGJsb2NrOyBzaGFwZS1yZW5kZXJpbmc6IGF1dG87IiB2aWV3Qm94PSIwIDAgMTAwIDEwMCIgcHJlc2VydmVBc3BlY3RSYXRpbz0ieE1pZFlNaWQiPiAgPGNpcmNsZSBjeD0iNTAiIGN5PSI1MCIgZmlsbD0ibm9uZSIgc3Ryb2tlPSIjYzNjM2MzIiBzdHJva2Utd2lkdGg9IjEwIiByPSIzNSIgc3Ryb2tlLWRhc2hhcnJheT0iMTY0LjkzMzYxNDMxMzQ2NDE1IDU2Ljk3Nzg3MTQzNzgyMTM4Ij4gICAgPGFuaW1hdGVUcmFuc2Zvcm0gYXR0cmlidXRlTmFtZT0idHJhbnNmb3JtIiB0eXBlPSJyb3RhdGUiIHJlcGVhdENvdW50PSJpbmRlZmluaXRlIiBkdXI9IjFzIiB2YWx1ZXM9IjAgNTAgNTA7MzYwIDUwIDUwIiBrZXlUaW1lcz0iMDsxIj48L2FuaW1hdGVUcmFuc2Zvcm0+ICA8L2NpcmNsZT48L3N2Zz4=\\\");\\n  background-size: auto calc(min(50%, 400px));\\n}\",{\"type\":\"object\",\"name\":\"ImportedStyleSheet\",\"id\":\"p1179\",\"attributes\":{\"url\":\"https://cdn.holoviz.org/panel/1.3.8/dist/css/loading.css\"}},{\"type\":\"object\",\"name\":\"ImportedStyleSheet\",\"id\":\"p1297\",\"attributes\":{\"url\":\"https://cdn.holoviz.org/panel/1.3.8/dist/css/listpanel.css\"}},{\"type\":\"object\",\"name\":\"ImportedStyleSheet\",\"id\":\"p1177\",\"attributes\":{\"url\":\"https://cdn.holoviz.org/panel/1.3.8/dist/bundled/theme/default.css\"}},{\"type\":\"object\",\"name\":\"ImportedStyleSheet\",\"id\":\"p1178\",\"attributes\":{\"url\":\"https://cdn.holoviz.org/panel/1.3.8/dist/bundled/theme/native.css\"}}],\"min_width\":600,\"margin\":0,\"sizing_mode\":\"stretch_width\",\"align\":\"start\",\"children\":[{\"type\":\"object\",\"name\":\"Spacer\",\"id\":\"p1180\",\"attributes\":{\"name\":\"HSpacer01623\",\"stylesheets\":[\"\\n:host(.pn-loading.pn-arc):before, .pn-loading.pn-arc:before {\\n  background-image: url(\\\"data:image/svg+xml;base64,PHN2ZyB4bWxucz0iaHR0cDovL3d3dy53My5vcmcvMjAwMC9zdmciIHN0eWxlPSJtYXJnaW46IGF1dG87IGJhY2tncm91bmQ6IG5vbmU7IGRpc3BsYXk6IGJsb2NrOyBzaGFwZS1yZW5kZXJpbmc6IGF1dG87IiB2aWV3Qm94PSIwIDAgMTAwIDEwMCIgcHJlc2VydmVBc3BlY3RSYXRpbz0ieE1pZFlNaWQiPiAgPGNpcmNsZSBjeD0iNTAiIGN5PSI1MCIgZmlsbD0ibm9uZSIgc3Ryb2tlPSIjYzNjM2MzIiBzdHJva2Utd2lkdGg9IjEwIiByPSIzNSIgc3Ryb2tlLWRhc2hhcnJheT0iMTY0LjkzMzYxNDMxMzQ2NDE1IDU2Ljk3Nzg3MTQzNzgyMTM4Ij4gICAgPGFuaW1hdGVUcmFuc2Zvcm0gYXR0cmlidXRlTmFtZT0idHJhbnNmb3JtIiB0eXBlPSJyb3RhdGUiIHJlcGVhdENvdW50PSJpbmRlZmluaXRlIiBkdXI9IjFzIiB2YWx1ZXM9IjAgNTAgNTA7MzYwIDUwIDUwIiBrZXlUaW1lcz0iMDsxIj48L2FuaW1hdGVUcmFuc2Zvcm0+ICA8L2NpcmNsZT48L3N2Zz4=\\\");\\n  background-size: auto calc(min(50%, 400px));\\n}\",{\"id\":\"p1179\"},{\"id\":\"p1177\"},{\"id\":\"p1178\"}],\"margin\":0,\"sizing_mode\":\"stretch_width\",\"align\":\"start\"}},{\"type\":\"object\",\"name\":\"Figure\",\"id\":\"p1188\",\"attributes\":{\"height\":400,\"margin\":[5,10],\"sizing_mode\":\"fixed\",\"align\":\"start\",\"x_range\":{\"type\":\"object\",\"name\":\"Range1d\",\"id\":\"p1181\",\"attributes\":{\"tags\":[[[\"x\",\"x\",null]],[]],\"start\":-41.75,\"end\":1238.75,\"reset_start\":-41.75,\"reset_end\":1238.75}},\"y_range\":{\"type\":\"object\",\"name\":\"Range1d\",\"id\":\"p1182\",\"attributes\":{\"tags\":[[[\"y\",\"y\",null]],{\"type\":\"map\",\"entries\":[[\"invert_yaxis\",false],[\"autorange\",false]]}],\"start\":-24.999999999999996,\"end\":524.9999999999999,\"reset_start\":-24.999999999999996,\"reset_end\":524.9999999999999}},\"x_scale\":{\"type\":\"object\",\"name\":\"LinearScale\",\"id\":\"p1198\"},\"y_scale\":{\"type\":\"object\",\"name\":\"LinearScale\",\"id\":\"p1199\"},\"title\":{\"type\":\"object\",\"name\":\"Title\",\"id\":\"p1191\",\"attributes\":{\"text_color\":\"black\",\"text_font_size\":\"12pt\"}},\"outline_line_alpha\":0,\"renderers\":[{\"type\":\"object\",\"name\":\"GraphRenderer\",\"id\":\"p1243\",\"attributes\":{\"layout_provider\":{\"type\":\"object\",\"name\":\"StaticLayoutProvider\",\"id\":\"p1227\",\"attributes\":{\"graph_layout\":{\"type\":\"map\",\"entries\":[[0,[7.5,130.909091]],[1,[7.5,390.9090909090909]],[2,[500.0,362.83003050793377]],[3,[992.5,76.40623302819054]],[4,[992.5,263.67896043728143]],[5,[992.5,421.8607783009178]]]}}},\"node_renderer\":{\"type\":\"object\",\"name\":\"GlyphRenderer\",\"id\":\"p1233\",\"attributes\":{\"data_source\":{\"type\":\"object\",\"name\":\"ColumnDataSource\",\"id\":\"p1221\",\"attributes\":{\"selected\":{\"type\":\"object\",\"name\":\"Selection\",\"id\":\"p1222\",\"attributes\":{\"indices\":[],\"line_indices\":[]}},\"selection_policy\":{\"type\":\"object\",\"name\":\"UnionRenderers\",\"id\":\"p1223\"},\"data\":{\"type\":\"map\",\"entries\":[[\"index\",[\"A\",\"B\",\"Z\",\"X\",\"Y\",\"J\"]],[\"x0\",[0.0,0.0,492.5,985.0,985.0,985.0]],[\"x1\",[15.0,15.0,507.5,1000.0,1000.0,1000.0]],[\"y0\",[0.0,281.81818181818176,290.1027580158675,25.49714205638108,147.3153238745629,400.0425966018355]],[\"y1\",[261.818182,500.0,435.557303,127.315324,380.042597,443.67896]]]}}},\"view\":{\"type\":\"object\",\"name\":\"CDSView\",\"id\":\"p1234\",\"attributes\":{\"filter\":{\"type\":\"object\",\"name\":\"AllIndices\",\"id\":\"p1235\"}}},\"glyph\":{\"type\":\"object\",\"name\":\"Circle\",\"id\":\"p1228\",\"attributes\":{\"size\":{\"type\":\"value\",\"value\":10},\"fill_color\":{\"type\":\"field\",\"field\":\"index\",\"transform\":{\"type\":\"object\",\"name\":\"CategoricalColorMapper\",\"id\":\"p1220\",\"attributes\":{\"palette\":[\"#1f77b4\",\"#aec7e8\",\"#ff7f0e\",\"#ffbb78\",\"#2ca02c\",\"#98df8a\"],\"factors\":[\"A\",\"B\",\"Z\",\"X\",\"Y\",\"J\"]}}}}},\"selection_glyph\":{\"type\":\"object\",\"name\":\"Circle\",\"id\":\"p1230\",\"attributes\":{\"size\":{\"type\":\"value\",\"value\":10},\"fill_color\":{\"type\":\"field\",\"field\":\"index\",\"transform\":{\"id\":\"p1220\"}}}},\"nonselection_glyph\":{\"type\":\"object\",\"name\":\"Circle\",\"id\":\"p1229\",\"attributes\":{\"size\":{\"type\":\"value\",\"value\":10},\"line_alpha\":{\"type\":\"value\",\"value\":0.2},\"fill_color\":{\"type\":\"field\",\"field\":\"index\",\"transform\":{\"id\":\"p1220\"}},\"fill_alpha\":{\"type\":\"value\",\"value\":0.2},\"hatch_alpha\":{\"type\":\"value\",\"value\":0.2}}},\"hover_glyph\":{\"type\":\"object\",\"name\":\"Circle\",\"id\":\"p1231\",\"attributes\":{\"size\":{\"type\":\"value\",\"value\":10},\"fill_color\":{\"type\":\"field\",\"field\":\"index\",\"transform\":{\"id\":\"p1220\"}}}},\"muted_glyph\":{\"type\":\"object\",\"name\":\"Circle\",\"id\":\"p1232\",\"attributes\":{\"size\":{\"type\":\"value\",\"value\":10},\"line_alpha\":{\"type\":\"value\",\"value\":0.2},\"fill_color\":{\"type\":\"field\",\"field\":\"index\",\"transform\":{\"id\":\"p1220\"}},\"fill_alpha\":{\"type\":\"value\",\"value\":0.2},\"hatch_alpha\":{\"type\":\"value\",\"value\":0.2}}}}},\"edge_renderer\":{\"type\":\"object\",\"name\":\"GlyphRenderer\",\"id\":\"p1240\",\"attributes\":{\"data_source\":{\"type\":\"object\",\"name\":\"ColumnDataSource\",\"id\":\"p1224\",\"attributes\":{\"selected\":{\"type\":\"object\",\"name\":\"Selection\",\"id\":\"p1225\",\"attributes\":{\"indices\":[],\"line_indices\":[]}},\"selection_policy\":{\"type\":\"object\",\"name\":\"UnionRenderers\",\"id\":\"p1226\"},\"data\":{\"type\":\"map\",\"entries\":[[\"start\",{\"type\":\"ndarray\",\"array\":{\"type\":\"bytes\",\"data\":\"AAAAAAAAAAAAAAAAAQAAAAEAAAABAAAAAgAAAA==\"},\"shape\":[7],\"dtype\":\"int32\",\"order\":\"little\"}],[\"end\",{\"type\":\"ndarray\",\"array\":{\"type\":\"bytes\",\"data\":\"AwAAAAQAAAACAAAAAwAAAAQAAAACAAAABQAAAA==\"},\"shape\":[7],\"dtype\":\"int32\",\"order\":\"little\"}],[\"xs\",[{\"type\":\"ndarray\",\"array\":{\"type\":\"bytes\",\"data\":\"AAAAAAAALkAAAAAAAAAuQAAAAAAAAC5AaNk40k0MRkAkPIj/5gFSQBQID8RqtlhAQ2p8t9wmX0A6/k2tM6tiQDOsHJcapGVA8QuQWbh/aEBQ6g01oj9rQDQU/Glt5W1APCtgnFc5cEAEP+BwfnRxQN0rsdL1pHJAOdgFYojLc0CLKhG/AOl0QEAJBoop/nVAyFoXY80Ld0CXBXjqthJ4QBnwWsCwE3lAwgDzhIUPekD/HXPY/wZ7QEYuDlvq+ntAARj3rA/sfEClwWBuOtt9QKARfj81yX5AYu6BwMq2f0Atn8/IYlKAQP9zhCn4yYBA3eh40opCgUAAccYTgLyBQJ5/hj09OIJA84fSnye2gkA0/cOKpDaDQJxSdE4ZuoNAYPv8OutAhEC6anegf8uEQOIT/c47WoVAEGqnFoXthUB+4I/HwIWGQGDqzzFUI4dA8vqApaTGh0BshbxyF3CIQAT9m+kRIIlA89Q4WvnWiUBwgKwUM5WKQLdyEGkkW4tA/R5+pzIpjEB7+A4gw/+MQGly3CI7341AAAAAAADIjkAAAAAAAMiOQAAAAAAAyI5AAAAAAADIjkBqctwiO9+NQHv4DiDD/4xA/h5+pzIpjEC4chBpJFuLQHKArBQzlYpA89Q4WvnWiUAF/ZvpESCJQG2FvHIXcIhA9PqApaTGh0Bh6s8xVCOHQH7gj8fAhYZAEGqnFoXthUDiE/3OO1qFQLtqd6B/y4RAYfv8OutAhECdUnROGbqDQDX9w4qkNoNA84fSnye2gkCff4Y9PTiCQP9wxhOAvIFA3eh40opCgUAAdIQp+MmAQC6fz8hiUoBAY+6BwMq2f0CfEX4/Ncl+QKXBYG46231AAxj3rA/sfEBGLg5b6vp7QAEec9j/BntAxADzhIUPekAb8FrAsBN5QJcFeOq2EnhAyVoXY80Ld0A/CQaKKf51QI0qEb8A6XRAPNgFYojLc0DfK7HS9aRyQAU/4HB+dHFAQCtgnFc5cEA3FPxpbeVtQFPqDTWiP2tA8guQWbh/aEA1rByXGqRlQD/+Ta0zq2JATGp8t9wmX0AaCA/EarZYQCk8iP/mAVJAbNk40k0MRkAAAAAAAAAuQA==\"},\"shape\":[104],\"dtype\":\"float64\",\"order\":\"little\"},{\"type\":\"ndarray\",\"array\":{\"type\":\"bytes\",\"data\":\"AAAAAAAALkAAAAAAAAAuQAAAAAAAAC5AaNk40k0MRkAkPIj/5gFSQBQID8RqtlhAQ2p8t9wmX0A6/k2tM6tiQDOsHJcapGVA8QuQWbh/aEBQ6g01oj9rQDQU/Glt5W1APCtgnFc5cEAEP+BwfnRxQN0rsdL1pHJAOdgFYojLc0CLKhG/AOl0QEAJBoop/nVAyFoXY80Ld0CXBXjqthJ4QBnwWsCwE3lAwgDzhIUPekD/HXPY/wZ7QEYuDlvq+ntAARj3rA/sfEClwWBuOtt9QKARfj81yX5AYu6BwMq2f0Atn8/IYlKAQP9zhCn4yYBA3eh40opCgUAAccYTgLyBQJ5/hj09OIJA84fSnye2gkA0/cOKpDaDQJxSdE4ZuoNAYPv8OutAhEC6anegf8uEQOIT/c47WoVAEGqnFoXthUB+4I/HwIWGQGDqzzFUI4dA8vqApaTGh0BshbxyF3CIQAT9m+kRIIlA89Q4WvnWiUBwgKwUM5WKQLdyEGkkW4tA/R5+pzIpjEB7+A4gw/+MQGly3CI7341AAAAAAADIjkAAAAAAAMiOQAAAAAAAyI5AAAAAAADIjkBqctwiO9+NQHv4DiDD/4xA/h5+pzIpjEC4chBpJFuLQHKArBQzlYpA89Q4WvnWiUAF/ZvpESCJQG2FvHIXcIhA9PqApaTGh0Bh6s8xVCOHQH7gj8fAhYZAEGqnFoXthUDiE/3OO1qFQLtqd6B/y4RAYfv8OutAhECdUnROGbqDQDX9w4qkNoNA84fSnye2gkCff4Y9PTiCQP9wxhOAvIFA3eh40opCgUAAdIQp+MmAQC6fz8hiUoBAY+6BwMq2f0CfEX4/Ncl+QKXBYG46231AAxj3rA/sfEBGLg5b6vp7QAEec9j/BntAxADzhIUPekAb8FrAsBN5QJcFeOq2EnhAyVoXY80Ld0A/CQaKKf51QI0qEb8A6XRAPNgFYojLc0DfK7HS9aRyQAU/4HB+dHFAQCtgnFc5cEA3FPxpbeVtQFPqDTWiP2tA8guQWbh/aEA1rByXGqRlQD/+Ta0zq2JATGp8t9wmX0AaCA/EarZYQCk8iP/mAVJAbNk40k0MRkAAAAAAAAAuQA==\"},\"shape\":[104],\"dtype\":\"float64\",\"order\":\"little\"},{\"type\":\"ndarray\",\"array\":{\"type\":\"bytes\",\"data\":\"AAAAAAAALkAAAAAAAAAuQAAAAAAAAC5AYhVNL7ZSPUDcnHfmdYlFQA3fp2RuI0xA4vw1RTE9UUDKSvwnuEhUQH8twdbaNVdASvmeTSgGWkBnArCIL7tcQCGdDoR/Vl9A247qndPsYEA57A7WGiNiQMyQgejcTmNAsqZPU+FwZEASWIaU74llQAzPMirPmmZAwDVikkekZ0BUtiFLIKdoQOd6ftIgpGlAna2FphCcakCWeERFt49rQPgFyCzcf2xA4n8d20ZtbUB1EFLOvlhuQNjhcoQLQ29AFI/GPXoWcEDE99aYoItwQA9AcZJcAXFABP2b6RF4cUC0w11dJPBxQDEpvaz3aXJAjMLAlu/lckDWJG/ab2RzQCDlzjbc5XNAepjmaphqdED207w1CPN0QKYsWFaPf3VAmje/i5EQdkDiifiUcqZ2QJG4CjGWQXdAt1j8HmDid0Bm/9MdNIl4QK5BmOx1NnlAoLRPSonqeUBM7QD20aV6QMaAsq6zaHtAHgRrM5IzfEBkDDFD0QZ9QKouC53U4n1AAAAAAADIfkAAAAAAAMh+QAAAAAAAyH5AAAAAAADIfkCpLgud1OJ9QGQMMUPRBn1AHgRrM5IzfEDHgLKus2h7QE7tAPbRpXpAoLRPSonqeUCvQZjsdTZ5QGj/0x00iXhAuVj8HmDid0CRuAoxlkF3QOKJ+JRypnZAmTe/i5EQdkCnLFhWj391QPfTvDUI83RAe5jmaphqdEAh5c423OVzQNgkb9pvZHNAjMLAlu/lckAyKb2s92lyQLPDXV0k8HFABP2b6RF4cUAQQHGSXAFxQMX31pigi3BAFI/GPXoWcEDX4XKEC0NvQHcQUs6+WG5A438d20ZtbUD7Bcgs3H9sQJh4REW3j2tAnq2FphCcakDoen7SIKRpQFO2IUsgp2hAwDVikkekZ0ALzzIqz5pmQBNYhpTviWVAtKZPU+FwZEDNkIHo3E5jQDrsDtYaI2JA3o7qndPsYEAjnQ6Ef1ZfQGkCsIgvu1xASvmeTSgGWkCBLcHW2jVXQNBK/Ce4SFRA5/w1RTE9UUAS36dkbiNMQOGcd+Z1iUVAZhVNL7ZSPUAAAAAAAAAuQA==\"},\"shape\":[104],\"dtype\":\"float64\",\"order\":\"little\"},{\"type\":\"ndarray\",\"array\":{\"type\":\"bytes\",\"data\":\"AAAAAAAALkAAAAAAAAAuQAAAAAAAAC5AaNk40k0MRkAkPIj/5gFSQBQID8RqtlhAQ2p8t9wmX0A6/k2tM6tiQDOsHJcapGVA8QuQWbh/aEBQ6g01oj9rQDQU/Glt5W1APCtgnFc5cEAEP+BwfnRxQN0rsdL1pHJAOdgFYojLc0CLKhG/AOl0QEAJBoop/nVAyFoXY80Ld0CXBXjqthJ4QBnwWsCwE3lAwgDzhIUPekD/HXPY/wZ7QEYuDlvq+ntAARj3rA/sfEClwWBuOtt9QKARfj81yX5AYu6BwMq2f0Atn8/IYlKAQP9zhCn4yYBA3eh40opCgUAAccYTgLyBQJ5/hj09OIJA84fSnye2gkA0/cOKpDaDQJxSdE4ZuoNAYPv8OutAhEC6anegf8uEQOIT/c47WoVAEGqnFoXthUB+4I/HwIWGQGDqzzFUI4dA8vqApaTGh0BshbxyF3CIQAT9m+kRIIlA89Q4WvnWiUBwgKwUM5WKQLdyEGkkW4tA/R5+pzIpjEB7+A4gw/+MQGly3CI7341AAAAAAADIjkAAAAAAAMiOQAAAAAAAyI5AAAAAAADIjkBqctwiO9+NQHv4DiDD/4xA/h5+pzIpjEC4chBpJFuLQHKArBQzlYpA89Q4WvnWiUAF/ZvpESCJQG2FvHIXcIhA9PqApaTGh0Bh6s8xVCOHQH7gj8fAhYZAEGqnFoXthUDiE/3OO1qFQLtqd6B/y4RAYfv8OutAhECdUnROGbqDQDX9w4qkNoNA84fSnye2gkCff4Y9PTiCQP9wxhOAvIFA3eh40opCgUAAdIQp+MmAQC6fz8hiUoBAY+6BwMq2f0CfEX4/Ncl+QKXBYG46231AAxj3rA/sfEBGLg5b6vp7QAEec9j/BntAxADzhIUPekAb8FrAsBN5QJcFeOq2EnhAyVoXY80Ld0A/CQaKKf51QI0qEb8A6XRAPNgFYojLc0DfK7HS9aRyQAU/4HB+dHFAQCtgnFc5cEA3FPxpbeVtQFPqDTWiP2tA8guQWbh/aEA1rByXGqRlQD/+Ta0zq2JATGp8t9wmX0AaCA/EarZYQCk8iP/mAVJAbNk40k0MRkAAAAAAAAAuQA==\"},\"shape\":[104],\"dtype\":\"float64\",\"order\":\"little\"},{\"type\":\"ndarray\",\"array\":{\"type\":\"bytes\",\"data\":\"AAAAAAAALkAAAAAAAAAuQAAAAAAAAC5AaNk40k0MRkAkPIj/5gFSQBQID8RqtlhAQ2p8t9wmX0A6/k2tM6tiQDOsHJcapGVA8QuQWbh/aEBQ6g01oj9rQDQU/Glt5W1APCtgnFc5cEAEP+BwfnRxQN0rsdL1pHJAOdgFYojLc0CLKhG/AOl0QEAJBoop/nVAyFoXY80Ld0CXBXjqthJ4QBnwWsCwE3lAwgDzhIUPekD/HXPY/wZ7QEYuDlvq+ntAARj3rA/sfEClwWBuOtt9QKARfj81yX5AYu6BwMq2f0Atn8/IYlKAQP9zhCn4yYBA3eh40opCgUAAccYTgLyBQJ5/hj09OIJA84fSnye2gkA0/cOKpDaDQJxSdE4ZuoNAYPv8OutAhEC6anegf8uEQOIT/c47WoVAEGqnFoXthUB+4I/HwIWGQGDqzzFUI4dA8vqApaTGh0BshbxyF3CIQAT9m+kRIIlA89Q4WvnWiUBwgKwUM5WKQLdyEGkkW4tA/R5+pzIpjEB7+A4gw/+MQGly3CI7341AAAAAAADIjkAAAAAAAMiOQAAAAAAAyI5AAAAAAADIjkBqctwiO9+NQHv4DiDD/4xA/h5+pzIpjEC4chBpJFuLQHKArBQzlYpA89Q4WvnWiUAF/ZvpESCJQG2FvHIXcIhA9PqApaTGh0Bh6s8xVCOHQH7gj8fAhYZAEGqnFoXthUDiE/3OO1qFQLtqd6B/y4RAYfv8OutAhECdUnROGbqDQDX9w4qkNoNA84fSnye2gkCff4Y9PTiCQP9wxhOAvIFA3eh40opCgUAAdIQp+MmAQC6fz8hiUoBAY+6BwMq2f0CfEX4/Ncl+QKXBYG46231AAxj3rA/sfEBGLg5b6vp7QAEec9j/BntAxADzhIUPekAb8FrAsBN5QJcFeOq2EnhAyVoXY80Ld0A/CQaKKf51QI0qEb8A6XRAPNgFYojLc0DfK7HS9aRyQAU/4HB+dHFAQCtgnFc5cEA3FPxpbeVtQFPqDTWiP2tA8guQWbh/aEA1rByXGqRlQD/+Ta0zq2JATGp8t9wmX0AaCA/EarZYQCk8iP/mAVJAbNk40k0MRkAAAAAAAAAuQA==\"},\"shape\":[104],\"dtype\":\"float64\",\"order\":\"little\"},{\"type\":\"ndarray\",\"array\":{\"type\":\"bytes\",\"data\":\"AAAAAAAALkAAAAAAAAAuQAAAAAAAAC5AYhVNL7ZSPUDcnHfmdYlFQA3fp2RuI0xA4vw1RTE9UUDKSvwnuEhUQH8twdbaNVdASvmeTSgGWkBnArCIL7tcQCGdDoR/Vl9A247qndPsYEA57A7WGiNiQMyQgejcTmNAsqZPU+FwZEASWIaU74llQAzPMirPmmZAwDVikkekZ0BUtiFLIKdoQOd6ftIgpGlAna2FphCcakCWeERFt49rQPgFyCzcf2xA4n8d20ZtbUB1EFLOvlhuQNjhcoQLQ29AFI/GPXoWcEDE99aYoItwQA9AcZJcAXFABP2b6RF4cUC0w11dJPBxQDEpvaz3aXJAjMLAlu/lckDWJG/ab2RzQCDlzjbc5XNAepjmaphqdED207w1CPN0QKYsWFaPf3VAmje/i5EQdkDiifiUcqZ2QJG4CjGWQXdAt1j8HmDid0Bm/9MdNIl4QK5BmOx1NnlAoLRPSonqeUBM7QD20aV6QMaAsq6zaHtAHgRrM5IzfEBkDDFD0QZ9QKouC53U4n1AAAAAAADIfkAAAAAAAMh+QAAAAAAAyH5AAAAAAADIfkCpLgud1OJ9QGQMMUPRBn1AHgRrM5IzfEDHgLKus2h7QE7tAPbRpXpAoLRPSonqeUCvQZjsdTZ5QGj/0x00iXhAuVj8HmDid0CRuAoxlkF3QOKJ+JRypnZAmTe/i5EQdkCnLFhWj391QPfTvDUI83RAe5jmaphqdEAh5c423OVzQNgkb9pvZHNAjMLAlu/lckAyKb2s92lyQLPDXV0k8HFABP2b6RF4cUAQQHGSXAFxQMX31pigi3BAFI/GPXoWcEDX4XKEC0NvQHcQUs6+WG5A438d20ZtbUD7Bcgs3H9sQJh4REW3j2tAnq2FphCcakDoen7SIKRpQFO2IUsgp2hAwDVikkekZ0ALzzIqz5pmQBNYhpTviWVAtKZPU+FwZEDNkIHo3E5jQDrsDtYaI2JA3o7qndPsYEAjnQ6Ef1ZfQGkCsIgvu1xASvmeTSgGWkCBLcHW2jVXQNBK/Ce4SFRA5/w1RTE9UUAS36dkbiNMQOGcd+Z1iUVAZhVNL7ZSPUAAAAAAAAAuQA==\"},\"shape\":[104],\"dtype\":\"float64\",\"order\":\"little\"},{\"type\":\"ndarray\",\"array\":{\"type\":\"bytes\",\"data\":\"AAAAAAC4f0AAAAAAALh/QAAAAAAAuH9Aqmh6sZVOgEDOeWdel7yAQPF9SuY2JoFAnL+mKKaLgUBaif8EF+2BQLAl2Fq7SoJAK9+zCcWkgkBOABbxZfuCQKXTgfDPToNAtaN65zSfg0ANu4O1xuyDQDJkIDq3N4RArOnTVDiAhEAFliHle8aEQMOzjMqzCoVAcY2Y5BFNhUCWbcgSyI2FQLmenzQIzYVAZ2uhKQQLhkAlHlHR7UeGQH0BMgv3g4ZA+V/HtlG/hkAehJSzL/qGQHa4HOHCNIdAikfjHj1vh0Dhe2tM0KmHQAegOEmu5IdAgv7N9AggiEDa4a4uElyIQJiUXtb7mIhAR2Fgy/fWiEBrkjftNxaJQJByZxvuVolAPUxzNUyZiUD8ad4ahN2JQFMWLKvHI4pAzZvfxUhsikDxRHxKObeKQEhchRjLBItAXCx+DzBVi0Cz/+kOmqiLQNcgTPY6/4tAUNonpURZjECmdgD76LaMQGNAWddZGI1AEIK1Gcl9jUAyhpihaOeNQFWXhU5qVY5AAAAAAADIjkAAAAAAAMiOQAAAAAAAyI5AAAAAAADIjkBTl4VOalWOQDKGmKFo541AD4K1Gcl9jUBkQFnXWRiNQKd2APvotoxAUNonpURZjEDZIEz2Ov+LQLT/6Q6aqItAXSx+DzBVi0BHXIUYywSLQPBEfEo5t4pAzJvfxUhsikBUFiyrxyOKQP1p3hqE3YlAP0xzNUyZiUCQcmcb7laJQGySN+03FolARmFgy/fWiECZlF7W+5iIQNnhri4SXIhAgf7N9AggiEAIoDhJruSHQOJ7a0zQqYdAi0fjHj1vh0B2uBzhwjSHQB2ElLMv+oZA+V/HtlG/hkB/ATIL94OGQCYeUdHtR4ZAZ2uhKQQLhkC7np80CM2FQJVtyBLIjYVAb42Y5BFNhUDCs4zKswqFQAWWIeV7xoRArenTVDiAhEAzZCA6tzeEQA67g7XG7INAt6N65zSfg0Ck04Hwz06DQE0AFvFl+4JAKt+zCcWkgkCwJdhau0qCQFqJ/wQX7YFAnb+mKKaLgUDyfUrmNiaBQM55Z16XvIBAq2h6sZVOgEAAAAAAALh/QA==\"},\"shape\":[104],\"dtype\":\"float64\",\"order\":\"little\"}]],[\"ys\",[{\"type\":\"ndarray\",\"array\":{\"type\":\"bytes\",\"data\":\"LrrooosuUkAAAAAAAAAAAAAAAAAAAAAAKNGKQ+YWoD/gbFiTLLy/PzBPxxnvmdE/AQLeq+zY3j/Pn9nvs8DnPwMFeC4x2vA/y2K/zxmZ9j9ALOncbBL9Py/SjavBHQJAEYe+H9sEBkBG1plLLzkKQFDhsq9qtQ5A0WRO5hy6EUBlWHWRJDgUQBzcl5ki0hZAvYD/Pm2FGUAD1/XBWk8cQKpvxGJBLR9AvG3asDsOIUCUVYh/KY0iQL63kD0VEiRAmFwYC6qbJUCEDEQIkygnQOKPOFV7tyhADq8aEg5HKkBpMg9f9tUrQFXiOlzfYi1AMIfCKXTsLkCtdOXzrzgwQJloPNsm+DBAjYP4WvSzMUC2KSwDbmsyQEi/6WPpHTNAcKhDDbzKM0BeSUyPO3E0QEIGFnq9EDVATkOzXZeoNUCvZDbKHjg2QJXOsU+pvjZAMuU3fow7N0C0DNvlHa43QEyprRazFThAKB/CoKFxOEB50ioUP8E4QHAn+gDhAzlAPIJC99w4OUALRxaHiF85QBDah0A5dzlAeJ+ps0R/OUB4n6mzRH85QAwi089cjlhADCLTz1yOWECxsArzWYxYQO9LrsRthlhAvFq54MJ8WEAKRCfjg29YQMxu82fbXlhA+EEZC/RKWECCJJRo+DNYQFx9XxwTGlhAfLN2wm79V0DTLdX2Nd5XQFlTdlWTvFdAAItVerGYV0C/O24Bu3JXQIbMu4baSldATKQ5pjohV0ABKuP7BfZWQJzEsyNnyVZAEtumuYibVkBU1LdZlWxWQFgX4p+3PFZAFAshKBoMVkB5FnCO59pVQHugym5KqVVAEBAsZW13VUAqzI8Ne0VVQL878QOeE1VAwsVL5ADiVEAm0ZpKzrBUQOHE2dIwgFRA5gcEGVNQVEApARW5XyFUQJ4XCE+B81NAOrLYduLGU0DwN4LMrZtTQLUPAOwNclNAe6BNcS1KU0A4UWb4NiRTQOCIRR1VAFNAZ67me7LeUkDAKEWweb9SQN9eXFbVolJAurcnCvCIUkBCmqJn9HFSQG5tyAoNXlJAMJiUj2RNUkB9gQKSJUBSQEmQDa56NlJAiCuxf44wUkAuuuiiiy5SQA==\"},\"shape\":[104],\"dtype\":\"float64\",\"order\":\"little\"},{\"type\":\"ndarray\",\"array\":{\"type\":\"bytes\",\"data\":\"0UUXXXTRZUAuuuiiiy5SQC666KKLLlJAtj32yW00UkDejQMmwUVSQPXSZxEJYlJASTV65siIUkAt3ZH/g7lSQPDyBbe981JA5p4tZ/k2U0BZCWBquoJTQJ5a9BqE1lNAA7tB09kxVEDaUp/tPpRUQHRKZMQ2/VRAIcrnsURsVUAy+oAQ7OBVQPYChzqwWlZAvAxRihTZVkDaPzZanFtXQJjEjQTL4VdAT8Ou4yNrWEBJZPBRKvdYQNzPqalhhVlAVC4yRU0VWkADqOB+cKZaQDllDLFOOFtARo4MNmvKW0B9SzhoSVxcQCvF5qFs7VxApCNvPVh9XUA2jyiVjwteQDAwagOWl15A5i6L4u4gX0Cms+KMHadfQGHzY67SFGBARfhI1gRUYECn/Evr5pBgQK+UmJo6y2BAhVRakcECYUBS0Lx8PTdhQD6c6wlwaGFAckwS5hqWYUAUdVy+/79hQE6q9T/g5WFASIAJGH4HYkApi8PzmiRiQBtfT4D4PGJARpDYalhQYkDRsopgfF5iQORakQ4mZ2JAqRwYIhdqYkCpHBgiF2piQGMFu61FJG9AYwW7rUUkb0CdQzSaVCFvQImbLeyqGG9AAXl79oYKb0DVR/ILJ/duQORzZn/J3m5AAWmso6zBbkALk5jLDqBuQM9d/0kuem5ALTW1cUlQbkD3hI6VniJuQAy5Xwhs8W1APT39HPC8bUBofTsmaYVtQGHl7nYVS21AAeHrYTMObUAb3AY6Ac9sQI5CFFK9jWxALYDo/KVKbEDTAFiN+QVsQFMwN1b2v2tAi3paqtp4a0BRS5bc5DBrQHgOvz9T6GpA3i+pJmSfakBWGynkVVZqQLs8E8tmDWpA5P87LtXEaUCo0Hdg33xpQOAam7TDNWlAYkp6fcDvaEAHy+kNFKtoQKcIvrj8Z2hAGG/L0LgmaEA0auaohudnQNRl45OkqmdAzM2W5FBwZ0D0DdXtyThnQCiScgJOBGdAPMZDdRvTZkAIFh2ZcKVmQGbt0sCLe2ZALLg5P6tVZkAy4iVnDTRmQFDXa4vwFmZAXgPg/pL+ZUA00lYUM+tlQKmvpB4P3WVAlgeecGXUZUDRRRdddNFlQA==\"},\"shape\":[104],\"dtype\":\"float64\",\"order\":\"little\"},{\"type\":\"ndarray\",\"array\":{\"type\":\"bytes\",\"data\":\"XXTRRRddcEDRRRdddNFlQNFFF1100WVAHJC6FQPWZUBA6LXgbuNlQCCEoy9X+WVAl5kddFsXZkCKXr4fGz1mQNoIIKQ1amZAac7cckqeZkAU5Y79+NhmQL6C0LXgGWdASN07DaFgZ0CWKmt12axnQISg+F8p/mdA+HR+PjBUaEDQ3ZaCja5oQO0Q3J3gDGlAMUToAcluaUB8rVUg5tNpQK6CvmrXO2pAqvm8UjymakBQSOtJtBJrQISk48HegGtAI0RALFvwa0AQXZv6yGBsQCwlj57H0WxAVtK1ifZCbUBwmqkt9bNtQFyzBPxiJG5A/FJhZt+TbkAwr1neCQJvQNb9h9WBbm9A03SGvebYb0ACpfcDbCBwQKhZLpP6UnBASnM0xe6DcEDYDNdSGLNwQERB4/RG4HBAfSsmZEoLcUB15mxZ8jNxQByNhI0OWnFAYTo6uW59cUA3CVuV4p1xQI0UtNo5u3FAU3cSQkTVcUB7TEOE0etxQPWuE1qx/nFAsblQfLMNckCgh8ejpxhyQLIzRYldH3JA2NiW5aQhckDY2JblpCFyQEyq3PwBlndATKrc/AGWd0AmBYugupN3QBNZDbsEjXdAJouWkxCCd0BpgFlxDnN3QO8diZsuYHdAx0hYWaFJd0AD5vnxli93QKvaoKw/EndA1guA0MvxdkCQXsqka852QOi3snBPqHZA8Pxre6d/dkC3EikMpFR2QE3eHGp1J3ZAv0R63Ev4dUAcK3SqV8d1QHh2PRvJlHVA3QsJdtBgdUBg0AkCnit1QAupcgZi9XRA8Xp2yky+dEAjK0iVjoZ0QKyeGq5XTnRAoLogXNgVdEAKZI3mQN1zQPx/k5TBpHNAh/NlrYpsc0C3ozd4zDRzQJ11Ozy3/XJAS06kQHvHckDMEqXMSJJyQDKocCdQXnJAjPM5mMErckDq2TNmzfpxQF1Akdijy3FA8QuFNnWecUC4IULHcXNxQMBm+9HJSnFAGsDjna0kcUDUEi5yTQFxQP5DDZbZ4HBAqDi0UILDcEDi1VXpd6lwQLoAJafqknBAQJ5U0QqAcECEkxevCHFwQJXFoIcUZnBAgxkjol5fcEBddNFFF11wQA==\"},\"shape\":[104],\"dtype\":\"float64\",\"order\":\"little\"},{\"type\":\"ndarray\",\"array\":{\"type\":\"bytes\",\"data\":\"Lrroootuc0BcdNFFF51xQFx00UUXnXFAj8urcniZcUCtutQbz45xQAkgM/VnfXFA69mtso9lcUCfxisIk0dxQHfEk6m+I3FAwLHMSl/6cEDBbL2fwctwQMzTTFwymHBAK8VhNP5fcEAvH+PbcSNwQEOAbw20xW9ApQyN0QY9b0AboOxrda1uQD73W0SZF25Aqc6owgt8bUD14qBOZttsQL3wEVBCNmxAnbTJLjmNa0Ar65VS5OBqQAVRRCPdMWpAxqKiCL2AaUAEnX5qHc5oQFv8pbCXGmhAZH3mQsVmZ0C63A2JP7NmQPnW6eqfAGZAuChI0H9PZUCSjvageKBkQCTFwsQj9GNAAol6oxpLY0DLluuk9qViQBer4zBRBWJAgoIwr8NpYUCl2Z+H59NgQBht/yFWRGBA8vI5zFF3X0C+dox38nReQM7ekRXBgl1AUKTldfChXEB7QCNos9NbQIMs5rs8GVtAnOHJQL9zWkD82GnGbeRZQNWLYRx7bFlAXHNMEhoNWUDECMZ3fcdYQELFaRzYnFhADCLTz1yOWEAMItPPXI5YQFI5MEQu1F9AUjkwRC7UX0CH3MaQqeJfQASQEXanBmBAUMVUw3UpYECNUV9IJllgQCF4Y50flWBAcHyTWsjcYEDloSEYhy9hQOArQG7CjGFAyl0h9eDzYUAJe/dESWRiQALH9PVh3WJAG4VLoJFeY0C6+C3cPudjQEhlzkHQdmRAJA5faawMZUC6NhLrOahlQG4iGl/fSGZAoxSpXQPuZkDFUPF+DJdnQDQaJVthQ2hAWrR2imjyaECbYhiliKNpQF1oPEMoVmpACAkV/a0Ja0D9h9RqgL1rQKYorSQGcWxAaC7RwqUjbUCq3HLdxdRtQNB2xAzNg25APkD46CEwb0BgfEAKK9lvQEu3Z4QnP3BAJq1rPnqPcEBwQUX/QN1wQN+VDRMvKHFAJczdxfdvcUD1Bc9jTrRxQAFl+jjm9HFA/gp5kXIxckCdGWS5pmlyQJKy1Pw1nXJAkPfjp9PLckBKCqsGM/VyQHIMQ2UHGXNAvB/FDwQ3c0DaZUpS3E5zQIAA7HhDYHNAYRHDz+xqc0Auuuiii25zQA==\"},\"shape\":[104],\"dtype\":\"float64\",\"order\":\"little\"},{\"type\":\"ndarray\",\"array\":{\"type\":\"bytes\",\"data\":\"W3TRRRede0Atuuiii25zQC266KKLbnNAGXlRx1Ntc0Bwm0RpvWlzQJR511fiY3NA3GsfYtxbc0CoyjFXxVFzQFbuIwa3RXNARS8LPss3c0DO5fzNGyhzQFNqDoXCFnNALxVVMtkDc0C/Puakee9yQGM/16u92XJAd289Fr/CckBYJy6zl6pyQGS/vlFhkXJA9o8EwTV3ckBw8RTQLlxyQCw8BU5mQHJAicjqCfYjckDj7trS9wZyQJsH63eF6XFAC2swyLjLcUCRccCSq61xQIpzsKZ3j3FAVckV0zZxcUBPywXnAlNxQNTRlbH1NHFARTXbASkXcUD7TeumtvlwQFZ022+43HBAtADBK0jAcEBvS7Gpf6RwQOiswbh4iXBAfH0HKE1vcECIFZjGFlZwQGnNiGPvPXBAfP3uzfAmcEAg/t/UNBFwQGBP4o6q+W9AGaVv6dfTb0AirpJXJbFvQDcbdnfGkW9AEp1E5+51b0Bu5ChF0l1vQAiiTS+kSW9AmYbdQ5g5b0DbQgMh4i1vQIyH6WS1Jm9AZAW7rUUkb0BkBbutRSRvQOA8xnmuwHdA4DzGea7Ad0DzfV1V5sF3QJpbarN8xXdAen3XxFfLd0Axi4+6XdN3QGQsfcV03XdAtgiLFoPpd0DLx6Pebvd3QEARsk4eB3hAu4ygl3cYeEDd4VnqYCt4QEy4yHfAP3hAqLfXcHxVeECXh3EGe2x4QLfPgGmihHhArDfwytideEAXZ6pbBLh4QJ4FmkwL03hA4LqpztPueECDLsQSRAt5QCcI1ElCKHlAce/DpLRFeUADjH5UgWN5QHyF7omOgXlAg4P+dcKfeUC3LZlJA755QL4rqTU33HlAOSUZa0T6eUDKwdMaERh6QBKpw3WDNXpAt4LTrIFSekBa9u3w8W56QJ2r/XK6inpAJErtY8GlekCQeaf07L96QIbhFlYj2XpApCkmuUrxekCR+b9OSQh7QO74zkcFHntAXM891WQye0CAJPcnTkV7QP2f5XCnVntAcunz4FZme0CEqAypQnR7QNaEGvpQgHtACiYIBWiKe0DCM8D6bZJ7QKBVLQxJmHtARzM6at+be0BbdNFFF517QA==\"},\"shape\":[104],\"dtype\":\"float64\",\"order\":\"little\"},{\"type\":\"ndarray\",\"array\":{\"type\":\"bytes\",\"data\":\"/v////8/f0BcdNFFF517QFx00UUXnXtA1shj89Gbe0DKR//uE5h7QICz+iT4kXtAPc6sgZmJe0BKWmzxEn97QOoZkGB/cntAbM9uu/lje0AQPV/unFN7QB4luOWDQXtA3knQjckte0CZbf7SiBh7QJNSmaHcAXtAFrv35d/pekBqaXCMrdB6QNEfWoFgtnpAlKALsRObekD9rdsH4n56QE4KIXLmYXpA03cy3DtEekDQuGYy/SV6QI6PFGFFB3pAVb6SVC/oeUBoBzj51ch5QBItWztUqXlAl/FSB8WJeUBAF3ZJQ2p5QFRgG+7pSnlAGY+Z4dMreUDXZUcQHA15QNSme2bd7nhAWhSN0DLReECscNI6N7R4QBR+opEFmHhA2P5Twbh8eEBAtT22a2J4QJJjtlw5SXhAFMwUoTwxeEAPsa9vkBp4QMrU3bRPBXhAjPn1XJXxd0Ca4U5UfN93QD5PP4cfz3dAvAQe4pnAd0BfxEFRBrR3QGpQAcF/qXdAKGuzHSGhd0Dd1q5TBZt3QNFVSk9Hl3dATKrc/AGWd0BMqtz8AZZ3QO41C7fqOHtA7jULt+o4e0Bz4XgJMDp7QH5i3Q3uPXtAy/bh1wlEe0AN3C97aEx7QAFQcAvvVntAXpBMnIJje0Dg2m1BCHJ7QDttfQ5lgntALYUkF36Ue0BqYAxvOKh7QLE83il5vXtAtFdDWyXUe0Az7+QWIux7QOFAbHBUBXxAe4qCe6EffEC3CdFL7jp8QE/8APUfV3xA+5+7iht0fEB3MqogxpF8QHfxdcoEsHxAuhrIm7zOfED160mo0u18QOKipAMsDX1AOn2Bwa0sfUCzuIn1PEx9QAmTZrO+a31A90nBDhiLfUAyG0MbLqp9QHRElezlyH1AdgNhliTnfUDxlU8szwR+QJw5CsLKIX5ANiw6a/w9fkBxq4g7SVl+QAr1nkaWc35AuUYmoMiMfkA23sdbxaR+QDz5LI1xu35AgNX+R7LQfkC/sOafbOR+QLDIjaiF9n5ADVuddeIGf0CNpb4aaBV/QOrlmqv7IX9A31nbO4Isf0AiPynf4DR/QG3TLan8On9AeFSSrbo+f0D+/////z9/QA==\"},\"shape\":[104],\"dtype\":\"float64\",\"order\":\"little\"},{\"type\":\"ndarray\",\"array\":{\"type\":\"bytes\",\"data\":\"ksE5cdPbdEDY2JblpCFyQNjYluWkIXJAx3Av5s8jckDpSAtJMipyQMJ5xR+eNHJAzBv5e+VCckCOR0Fv2lRyQIUVOQtPanJANJ57YRWDckAY+qOD/55yQLNBTYPfvXJAho0ScoffckAS9o5hyQNzQNeTXWN3KnNAVn8ZiWNTc0AQ0V3kX35zQIOhxYY+q3NAMAnsgdHZc0CcIGzn6gl0QEAA4chcO3RAosDlN/ltdEBBehVGkqF0QJ5FCwX61XRAOztihgILdUCVc7XbfUB1QC4HoBY+dnVAhw69SBWsdUAhoqeD1eF1QHva+thQF3ZAFtBRWllMdkB0m0cZwYB2QBNVdydatHZAdhV8lvbmdkAb9fB3aBh3QIYMcd2BSHdANHSX2BR3d0CnRP9686N3QGCWQ9bvzndA3oH/+9v3d0CkH879iR54QDCISu3LQnhABNQP3HNkeECfG7nbU4N4QIR34f09n3hAMQAkVAS4eEAozhvweM14QOn5Y+Nt33hA9ZuXP7XteEDMzFEWIfh4QO+kLXmD/nhA3jzGea4AeUDePMZ5rgB5QJglaQXduntAmCVpBd26e0CojdAEsrh7QIW19KFPsntAsIQ6y+One0Ck4gZvnJl7QOG2vnunh3tA6ujG3zJye0BAYISJbFl7QFkEXGeCPXtAvryyZ6Iee0DpcO14+vx6QFwIcYm42HpAl2qihwqyekAZf+ZhHol6QGEtogYiXnpA71w6ZEMxekBB9RNpsAJ6QNfdkwOX0nlAMP4eIiWheUDOPRqziG55QC2E6qTvOnlA0Lj05YcGeUA2w51kf9F4QNuKSg8EnHhAQvdf1ENmeEDo70KibDB4QFBcWGes+ndA9SMFEjHFd0BaLq6QKJB3QPxiuNHAW3dAXKmIwycod0D76INUi/V2QFQJD3MZxHZA6vGODQCUdkA8imgSbWV2QMm5AHCOOHZAEGi8FJINdkCSfADvpeR1QMzeMe33vXVAQHa1/bWZdUBtKvAODnh1QNHiRg8uWXVA7IYe7UM9dUA//tuWfSR1QEgw5PoID3VAhwScBxT9dEB7YmirzO50QKQxrtRg5HRAgVnScf7ddECSwTlx09t0QA==\"},\"shape\":[104],\"dtype\":\"float64\",\"order\":\"little\"}]],[\"start_values\",[\"A\",\"A\",\"A\",\"B\",\"B\",\"B\",\"Z\"]],[\"end_values\",[\"X\",\"Y\",\"Z\",\"X\",\"Y\",\"Z\",\"J\"]],[\"Value\",{\"type\":\"ndarray\",\"array\":{\"type\":\"bytes\",\"data\":\"BQAAAAcAAAAGAAAAAgAAAAkAAAAEAAAAAwAAAA==\"},\"shape\":[7],\"dtype\":\"int32\",\"order\":\"little\"}]]}}},\"view\":{\"type\":\"object\",\"name\":\"CDSView\",\"id\":\"p1241\",\"attributes\":{\"filter\":{\"type\":\"object\",\"name\":\"AllIndices\",\"id\":\"p1242\"}}},\"glyph\":{\"type\":\"object\",\"name\":\"Patches\",\"id\":\"p1260\",\"attributes\":{\"xs\":{\"type\":\"field\",\"field\":\"xs\"},\"ys\":{\"type\":\"field\",\"field\":\"ys\"},\"fill_alpha\":{\"type\":\"value\",\"value\":0.6}}},\"selection_glyph\":{\"type\":\"object\",\"name\":\"Patches\",\"id\":\"p1261\",\"attributes\":{\"xs\":{\"type\":\"field\",\"field\":\"xs\"},\"ys\":{\"type\":\"field\",\"field\":\"ys\"},\"fill_alpha\":{\"type\":\"value\",\"value\":0.6}}},\"nonselection_glyph\":{\"type\":\"object\",\"name\":\"Patches\",\"id\":\"p1262\",\"attributes\":{\"xs\":{\"type\":\"field\",\"field\":\"xs\"},\"ys\":{\"type\":\"field\",\"field\":\"ys\"},\"line_alpha\":{\"type\":\"value\",\"value\":0.2},\"fill_alpha\":{\"type\":\"value\",\"value\":0.2}}},\"hover_glyph\":{\"type\":\"object\",\"name\":\"Patches\",\"id\":\"p1263\",\"attributes\":{\"xs\":{\"type\":\"field\",\"field\":\"xs\"},\"ys\":{\"type\":\"field\",\"field\":\"ys\"},\"line_alpha\":{\"type\":\"value\",\"value\":0.9},\"fill_alpha\":{\"type\":\"value\",\"value\":0.9}}},\"muted_glyph\":{\"type\":\"object\",\"name\":\"Patches\",\"id\":\"p1264\",\"attributes\":{\"xs\":{\"type\":\"field\",\"field\":\"xs\"},\"ys\":{\"type\":\"field\",\"field\":\"ys\"},\"fill_alpha\":{\"type\":\"value\",\"value\":0.6}}}}},\"selection_policy\":{\"type\":\"object\",\"name\":\"NodesAndLinkedEdges\",\"id\":\"p1265\"},\"inspection_policy\":{\"type\":\"object\",\"name\":\"EdgesAndLinkedNodes\",\"id\":\"p1266\"}}},{\"type\":\"object\",\"name\":\"GlyphRenderer\",\"id\":\"p1278\",\"attributes\":{\"data_source\":{\"id\":\"p1221\"},\"view\":{\"id\":\"p1234\"},\"glyph\":{\"type\":\"object\",\"name\":\"Quad\",\"id\":\"p1273\",\"attributes\":{\"left\":{\"type\":\"field\",\"field\":\"x0\"},\"right\":{\"type\":\"field\",\"field\":\"x1\"},\"bottom\":{\"type\":\"field\",\"field\":\"y0\"},\"top\":{\"type\":\"field\",\"field\":\"y1\"},\"fill_color\":{\"type\":\"field\",\"field\":\"index\",\"transform\":{\"id\":\"p1220\"}}}},\"selection_glyph\":{\"type\":\"object\",\"name\":\"Quad\",\"id\":\"p1275\",\"attributes\":{\"left\":{\"type\":\"field\",\"field\":\"x0\"},\"right\":{\"type\":\"field\",\"field\":\"x1\"},\"bottom\":{\"type\":\"field\",\"field\":\"y0\"},\"top\":{\"type\":\"field\",\"field\":\"y1\"},\"fill_color\":{\"type\":\"field\",\"field\":\"index\",\"transform\":{\"id\":\"p1220\"}}}},\"nonselection_glyph\":{\"type\":\"object\",\"name\":\"Quad\",\"id\":\"p1274\",\"attributes\":{\"left\":{\"type\":\"field\",\"field\":\"x0\"},\"right\":{\"type\":\"field\",\"field\":\"x1\"},\"bottom\":{\"type\":\"field\",\"field\":\"y0\"},\"top\":{\"type\":\"field\",\"field\":\"y1\"},\"line_alpha\":{\"type\":\"value\",\"value\":0.2},\"fill_color\":{\"type\":\"field\",\"field\":\"index\",\"transform\":{\"id\":\"p1220\"}},\"fill_alpha\":{\"type\":\"value\",\"value\":0.2},\"hatch_alpha\":{\"type\":\"value\",\"value\":0.2}}},\"hover_glyph\":{\"type\":\"object\",\"name\":\"Quad\",\"id\":\"p1276\",\"attributes\":{\"left\":{\"type\":\"field\",\"field\":\"x0\"},\"right\":{\"type\":\"field\",\"field\":\"x1\"},\"bottom\":{\"type\":\"field\",\"field\":\"y0\"},\"top\":{\"type\":\"field\",\"field\":\"y1\"},\"fill_color\":{\"type\":\"field\",\"field\":\"index\",\"transform\":{\"id\":\"p1220\"}}}},\"muted_glyph\":{\"type\":\"object\",\"name\":\"Quad\",\"id\":\"p1277\",\"attributes\":{\"left\":{\"type\":\"field\",\"field\":\"x0\"},\"right\":{\"type\":\"field\",\"field\":\"x1\"},\"bottom\":{\"type\":\"field\",\"field\":\"y0\"},\"top\":{\"type\":\"field\",\"field\":\"y1\"},\"line_alpha\":{\"type\":\"value\",\"value\":0.2},\"fill_color\":{\"type\":\"field\",\"field\":\"index\",\"transform\":{\"id\":\"p1220\"}},\"fill_alpha\":{\"type\":\"value\",\"value\":0.2},\"hatch_alpha\":{\"type\":\"value\",\"value\":0.2}}}}},{\"type\":\"object\",\"name\":\"GlyphRenderer\",\"id\":\"p1290\",\"attributes\":{\"data_source\":{\"type\":\"object\",\"name\":\"ColumnDataSource\",\"id\":\"p1281\",\"attributes\":{\"selected\":{\"type\":\"object\",\"name\":\"Selection\",\"id\":\"p1282\",\"attributes\":{\"indices\":[],\"line_indices\":[]}},\"selection_policy\":{\"type\":\"object\",\"name\":\"UnionRenderers\",\"id\":\"p1283\"},\"data\":{\"type\":\"map\",\"entries\":[[\"x\",{\"type\":\"ndarray\",\"array\":{\"type\":\"bytes\",\"data\":\"AAAAAADAMkAAAAAAAMAyQAAAAAAA9H9AAAAAAABej0AAAAAAAF6PQAAAAAAAXo9A\"},\"shape\":[6],\"dtype\":\"float64\",\"order\":\"little\"}],[\"y\",{\"type\":\"ndarray\",\"array\":{\"type\":\"bytes\",\"data\":\"0EICRhddYEAuuuiii254QCDkEc5HrXZAiqjQuP8ZU0Btlp4F3XpwQMa4d7/FXXpA\"},\"shape\":[6],\"dtype\":\"float64\",\"order\":\"little\"}],[\"text\",[\"A - 18\",\"B - 15\",\"Z - 10\",\"X - 7\",\"Y - 16\",\"J - 3\"]]]}}},\"view\":{\"type\":\"object\",\"name\":\"CDSView\",\"id\":\"p1291\",\"attributes\":{\"filter\":{\"type\":\"object\",\"name\":\"AllIndices\",\"id\":\"p1292\"}}},\"glyph\":{\"type\":\"object\",\"name\":\"Text\",\"id\":\"p1287\",\"attributes\":{\"x\":{\"type\":\"field\",\"field\":\"x\"},\"y\":{\"type\":\"field\",\"field\":\"y\"},\"text\":{\"type\":\"field\",\"field\":\"text\"},\"text_color\":{\"type\":\"value\",\"value\":\"black\"},\"text_font_size\":{\"type\":\"value\",\"value\":\"8pt\"},\"text_baseline\":{\"type\":\"value\",\"value\":\"middle\"}}},\"selection_glyph\":{\"type\":\"object\",\"name\":\"Text\",\"id\":\"p1293\",\"attributes\":{\"x\":{\"type\":\"field\",\"field\":\"x\"},\"y\":{\"type\":\"field\",\"field\":\"y\"},\"text\":{\"type\":\"field\",\"field\":\"text\"},\"angle\":{\"type\":\"value\",\"value\":0},\"x_offset\":{\"type\":\"value\",\"value\":0},\"y_offset\":{\"type\":\"value\",\"value\":0},\"text_color\":{\"type\":\"value\",\"value\":\"black\"},\"text_outline_color\":{\"type\":\"value\",\"value\":null},\"text_alpha\":{\"type\":\"value\",\"value\":1.0},\"text_font_size\":{\"type\":\"value\",\"value\":\"8pt\"},\"text_font_style\":{\"type\":\"value\",\"value\":\"normal\"},\"text_align\":{\"type\":\"value\",\"value\":\"left\"},\"text_baseline\":{\"type\":\"value\",\"value\":\"middle\"},\"text_line_height\":{\"type\":\"value\",\"value\":1.2},\"background_fill_color\":{\"type\":\"value\",\"value\":null},\"background_fill_alpha\":{\"type\":\"value\",\"value\":1.0},\"background_hatch_color\":{\"type\":\"value\",\"value\":null},\"background_hatch_alpha\":{\"type\":\"value\",\"value\":1.0},\"background_hatch_scale\":{\"type\":\"value\",\"value\":12.0},\"background_hatch_pattern\":{\"type\":\"value\",\"value\":null},\"background_hatch_weight\":{\"type\":\"value\",\"value\":1.0},\"border_line_color\":{\"type\":\"value\",\"value\":null},\"border_line_alpha\":{\"type\":\"value\",\"value\":1.0},\"border_line_width\":{\"type\":\"value\",\"value\":1},\"border_line_join\":{\"type\":\"value\",\"value\":\"bevel\"},\"border_line_cap\":{\"type\":\"value\",\"value\":\"butt\"},\"border_line_dash\":{\"type\":\"value\",\"value\":[]},\"border_line_dash_offset\":{\"type\":\"value\",\"value\":0}}},\"nonselection_glyph\":{\"type\":\"object\",\"name\":\"Text\",\"id\":\"p1288\",\"attributes\":{\"x\":{\"type\":\"field\",\"field\":\"x\"},\"y\":{\"type\":\"field\",\"field\":\"y\"},\"text\":{\"type\":\"field\",\"field\":\"text\"},\"text_color\":{\"type\":\"value\",\"value\":\"black\"},\"text_alpha\":{\"type\":\"value\",\"value\":0.1},\"text_font_size\":{\"type\":\"value\",\"value\":\"8pt\"},\"text_baseline\":{\"type\":\"value\",\"value\":\"middle\"}}},\"muted_glyph\":{\"type\":\"object\",\"name\":\"Text\",\"id\":\"p1289\",\"attributes\":{\"x\":{\"type\":\"field\",\"field\":\"x\"},\"y\":{\"type\":\"field\",\"field\":\"y\"},\"text\":{\"type\":\"field\",\"field\":\"text\"},\"text_color\":{\"type\":\"value\",\"value\":\"black\"},\"text_alpha\":{\"type\":\"value\",\"value\":0.2},\"text_font_size\":{\"type\":\"value\",\"value\":\"8pt\"},\"text_baseline\":{\"type\":\"value\",\"value\":\"middle\"}}}}}],\"toolbar\":{\"type\":\"object\",\"name\":\"Toolbar\",\"id\":\"p1197\",\"attributes\":{\"tools\":[{\"type\":\"object\",\"name\":\"WheelZoomTool\",\"id\":\"p1186\",\"attributes\":{\"tags\":[\"hv_created\"],\"renderers\":\"auto\",\"zoom_together\":\"none\"}},{\"type\":\"object\",\"name\":\"HoverTool\",\"id\":\"p1187\",\"attributes\":{\"tags\":[\"hv_created\"],\"renderers\":[{\"id\":\"p1243\"}],\"tooltips\":[[\"start\",\"@{start_values}\"],[\"end\",\"@{end_values}\"],[\"Value\",\"@{Value}\"]]}},{\"type\":\"object\",\"name\":\"SaveTool\",\"id\":\"p1210\"},{\"type\":\"object\",\"name\":\"PanTool\",\"id\":\"p1211\"},{\"type\":\"object\",\"name\":\"BoxZoomTool\",\"id\":\"p1212\",\"attributes\":{\"overlay\":{\"type\":\"object\",\"name\":\"BoxAnnotation\",\"id\":\"p1213\",\"attributes\":{\"syncable\":false,\"level\":\"overlay\",\"visible\":false,\"left\":{\"type\":\"number\",\"value\":\"nan\"},\"right\":{\"type\":\"number\",\"value\":\"nan\"},\"top\":{\"type\":\"number\",\"value\":\"nan\"},\"bottom\":{\"type\":\"number\",\"value\":\"nan\"},\"left_units\":\"canvas\",\"right_units\":\"canvas\",\"top_units\":\"canvas\",\"bottom_units\":\"canvas\",\"line_color\":\"black\",\"line_alpha\":1.0,\"line_width\":2,\"line_dash\":[4,4],\"fill_color\":\"lightgrey\",\"fill_alpha\":0.5}}}},{\"type\":\"object\",\"name\":\"ResetTool\",\"id\":\"p1218\"},{\"type\":\"object\",\"name\":\"TapTool\",\"id\":\"p1219\",\"attributes\":{\"renderers\":\"auto\"}}],\"active_drag\":{\"id\":\"p1211\"},\"active_scroll\":{\"id\":\"p1186\"}}},\"left\":[{\"type\":\"object\",\"name\":\"LinearAxis\",\"id\":\"p1205\",\"attributes\":{\"visible\":false,\"ticker\":{\"type\":\"object\",\"name\":\"BasicTicker\",\"id\":\"p1206\",\"attributes\":{\"mantissas\":[1,2,5]}},\"formatter\":{\"type\":\"object\",\"name\":\"BasicTickFormatter\",\"id\":\"p1207\"},\"axis_label\":\"y\",\"major_label_policy\":{\"type\":\"object\",\"name\":\"AllLabels\",\"id\":\"p1208\"}}}],\"below\":[{\"type\":\"object\",\"name\":\"LinearAxis\",\"id\":\"p1200\",\"attributes\":{\"visible\":false,\"ticker\":{\"type\":\"object\",\"name\":\"BasicTicker\",\"id\":\"p1201\",\"attributes\":{\"mantissas\":[1,2,5]}},\"formatter\":{\"type\":\"object\",\"name\":\"BasicTickFormatter\",\"id\":\"p1202\"},\"axis_label\":\"x\",\"major_label_policy\":{\"type\":\"object\",\"name\":\"AllLabels\",\"id\":\"p1203\"}}}],\"center\":[{\"type\":\"object\",\"name\":\"Grid\",\"id\":\"p1204\",\"attributes\":{\"axis\":{\"id\":\"p1200\"},\"grid_line_color\":null}},{\"type\":\"object\",\"name\":\"Grid\",\"id\":\"p1209\",\"attributes\":{\"dimension\":1,\"axis\":{\"id\":\"p1205\"},\"grid_line_color\":null}}],\"min_border_top\":10,\"min_border_bottom\":10,\"min_border_left\":10,\"min_border_right\":10,\"output_backend\":\"webgl\"}},{\"type\":\"object\",\"name\":\"Spacer\",\"id\":\"p1295\",\"attributes\":{\"name\":\"HSpacer01624\",\"stylesheets\":[\"\\n:host(.pn-loading.pn-arc):before, .pn-loading.pn-arc:before {\\n  background-image: url(\\\"data:image/svg+xml;base64,PHN2ZyB4bWxucz0iaHR0cDovL3d3dy53My5vcmcvMjAwMC9zdmciIHN0eWxlPSJtYXJnaW46IGF1dG87IGJhY2tncm91bmQ6IG5vbmU7IGRpc3BsYXk6IGJsb2NrOyBzaGFwZS1yZW5kZXJpbmc6IGF1dG87IiB2aWV3Qm94PSIwIDAgMTAwIDEwMCIgcHJlc2VydmVBc3BlY3RSYXRpbz0ieE1pZFlNaWQiPiAgPGNpcmNsZSBjeD0iNTAiIGN5PSI1MCIgZmlsbD0ibm9uZSIgc3Ryb2tlPSIjYzNjM2MzIiBzdHJva2Utd2lkdGg9IjEwIiByPSIzNSIgc3Ryb2tlLWRhc2hhcnJheT0iMTY0LjkzMzYxNDMxMzQ2NDE1IDU2Ljk3Nzg3MTQzNzgyMTM4Ij4gICAgPGFuaW1hdGVUcmFuc2Zvcm0gYXR0cmlidXRlTmFtZT0idHJhbnNmb3JtIiB0eXBlPSJyb3RhdGUiIHJlcGVhdENvdW50PSJpbmRlZmluaXRlIiBkdXI9IjFzIiB2YWx1ZXM9IjAgNTAgNTA7MzYwIDUwIDUwIiBrZXlUaW1lcz0iMDsxIj48L2FuaW1hdGVUcmFuc2Zvcm0+ICA8L2NpcmNsZT48L3N2Zz4=\\\");\\n  background-size: auto calc(min(50%, 400px));\\n}\",{\"id\":\"p1179\"},{\"id\":\"p1177\"},{\"id\":\"p1178\"}],\"margin\":0,\"sizing_mode\":\"stretch_width\",\"align\":\"start\"}}]}}],\"defs\":[{\"type\":\"model\",\"name\":\"ReactiveHTML1\"},{\"type\":\"model\",\"name\":\"FlexBox1\",\"properties\":[{\"name\":\"align_content\",\"kind\":\"Any\",\"default\":\"flex-start\"},{\"name\":\"align_items\",\"kind\":\"Any\",\"default\":\"flex-start\"},{\"name\":\"flex_direction\",\"kind\":\"Any\",\"default\":\"row\"},{\"name\":\"flex_wrap\",\"kind\":\"Any\",\"default\":\"wrap\"},{\"name\":\"justify_content\",\"kind\":\"Any\",\"default\":\"flex-start\"}]},{\"type\":\"model\",\"name\":\"FloatPanel1\",\"properties\":[{\"name\":\"config\",\"kind\":\"Any\",\"default\":{\"type\":\"map\"}},{\"name\":\"contained\",\"kind\":\"Any\",\"default\":true},{\"name\":\"position\",\"kind\":\"Any\",\"default\":\"right-top\"},{\"name\":\"offsetx\",\"kind\":\"Any\",\"default\":null},{\"name\":\"offsety\",\"kind\":\"Any\",\"default\":null},{\"name\":\"theme\",\"kind\":\"Any\",\"default\":\"primary\"},{\"name\":\"status\",\"kind\":\"Any\",\"default\":\"normalized\"}]},{\"type\":\"model\",\"name\":\"GridStack1\",\"properties\":[{\"name\":\"mode\",\"kind\":\"Any\",\"default\":\"warn\"},{\"name\":\"ncols\",\"kind\":\"Any\",\"default\":null},{\"name\":\"nrows\",\"kind\":\"Any\",\"default\":null},{\"name\":\"allow_resize\",\"kind\":\"Any\",\"default\":true},{\"name\":\"allow_drag\",\"kind\":\"Any\",\"default\":true},{\"name\":\"state\",\"kind\":\"Any\",\"default\":[]}]},{\"type\":\"model\",\"name\":\"drag1\",\"properties\":[{\"name\":\"slider_width\",\"kind\":\"Any\",\"default\":5},{\"name\":\"slider_color\",\"kind\":\"Any\",\"default\":\"black\"},{\"name\":\"value\",\"kind\":\"Any\",\"default\":50}]},{\"type\":\"model\",\"name\":\"click1\",\"properties\":[{\"name\":\"terminal_output\",\"kind\":\"Any\",\"default\":\"\"},{\"name\":\"debug_name\",\"kind\":\"Any\",\"default\":\"\"},{\"name\":\"clears\",\"kind\":\"Any\",\"default\":0}]},{\"type\":\"model\",\"name\":\"copy_to_clipboard1\",\"properties\":[{\"name\":\"fill\",\"kind\":\"Any\",\"default\":\"none\"},{\"name\":\"value\",\"kind\":\"Any\",\"default\":null}]},{\"type\":\"model\",\"name\":\"FastWrapper1\",\"properties\":[{\"name\":\"object\",\"kind\":\"Any\",\"default\":null},{\"name\":\"style\",\"kind\":\"Any\",\"default\":null}]},{\"type\":\"model\",\"name\":\"NotificationAreaBase1\",\"properties\":[{\"name\":\"js_events\",\"kind\":\"Any\",\"default\":{\"type\":\"map\"}},{\"name\":\"position\",\"kind\":\"Any\",\"default\":\"bottom-right\"},{\"name\":\"_clear\",\"kind\":\"Any\",\"default\":0}]},{\"type\":\"model\",\"name\":\"NotificationArea1\",\"properties\":[{\"name\":\"js_events\",\"kind\":\"Any\",\"default\":{\"type\":\"map\"}},{\"name\":\"notifications\",\"kind\":\"Any\",\"default\":[]},{\"name\":\"position\",\"kind\":\"Any\",\"default\":\"bottom-right\"},{\"name\":\"_clear\",\"kind\":\"Any\",\"default\":0},{\"name\":\"types\",\"kind\":\"Any\",\"default\":[{\"type\":\"map\",\"entries\":[[\"type\",\"warning\"],[\"background\",\"#ffc107\"],[\"icon\",{\"type\":\"map\",\"entries\":[[\"className\",\"fas fa-exclamation-triangle\"],[\"tagName\",\"i\"],[\"color\",\"white\"]]}]]},{\"type\":\"map\",\"entries\":[[\"type\",\"info\"],[\"background\",\"#007bff\"],[\"icon\",{\"type\":\"map\",\"entries\":[[\"className\",\"fas fa-info-circle\"],[\"tagName\",\"i\"],[\"color\",\"white\"]]}]]}]}]},{\"type\":\"model\",\"name\":\"Notification\",\"properties\":[{\"name\":\"background\",\"kind\":\"Any\",\"default\":null},{\"name\":\"duration\",\"kind\":\"Any\",\"default\":3000},{\"name\":\"icon\",\"kind\":\"Any\",\"default\":null},{\"name\":\"message\",\"kind\":\"Any\",\"default\":\"\"},{\"name\":\"notification_type\",\"kind\":\"Any\",\"default\":null},{\"name\":\"_destroyed\",\"kind\":\"Any\",\"default\":false}]},{\"type\":\"model\",\"name\":\"TemplateActions1\",\"properties\":[{\"name\":\"open_modal\",\"kind\":\"Any\",\"default\":0},{\"name\":\"close_modal\",\"kind\":\"Any\",\"default\":0}]},{\"type\":\"model\",\"name\":\"BootstrapTemplateActions1\",\"properties\":[{\"name\":\"open_modal\",\"kind\":\"Any\",\"default\":0},{\"name\":\"close_modal\",\"kind\":\"Any\",\"default\":0}]},{\"type\":\"model\",\"name\":\"MaterialTemplateActions1\",\"properties\":[{\"name\":\"open_modal\",\"kind\":\"Any\",\"default\":0},{\"name\":\"close_modal\",\"kind\":\"Any\",\"default\":0}]}]}};\n",
       "  var render_items = [{\"docid\":\"dee37d58-cb06-42d1-863f-208f0b3976eb\",\"roots\":{\"p1176\":\"d9cb8cfd-d74a-4e59-8154-1f7df3a29d8f\"},\"root_ids\":[\"p1176\"]}];\n",
       "  var docs = Object.values(docs_json)\n",
       "  if (!docs) {\n",
       "    return\n",
       "  }\n",
       "  const py_version = docs[0].version.replace('rc', '-rc.').replace('.dev', '-dev.')\n",
       "  function embed_document(root) {\n",
       "    var Bokeh = get_bokeh(root)\n",
       "    Bokeh.embed.embed_items_notebook(docs_json, render_items);\n",
       "    for (const render_item of render_items) {\n",
       "      for (const root_id of render_item.root_ids) {\n",
       "\tconst id_el = document.getElementById(root_id)\n",
       "\tif (id_el.children.length && (id_el.children[0].className === 'bk-root')) {\n",
       "\t  const root_el = id_el.children[0]\n",
       "\t  root_el.id = root_el.id + '-rendered'\n",
       "\t}\n",
       "      }\n",
       "    }\n",
       "  }\n",
       "  function get_bokeh(root) {\n",
       "    if (root.Bokeh === undefined) {\n",
       "      return null\n",
       "    } else if (root.Bokeh.version !== py_version) {\n",
       "      if (root.Bokeh.versions === undefined || !root.Bokeh.versions.has(py_version)) {\n",
       "\treturn null\n",
       "      }\n",
       "      return root.Bokeh.versions.get(py_version);\n",
       "    } else if (root.Bokeh.version === py_version) {\n",
       "      return root.Bokeh\n",
       "    }\n",
       "    return null\n",
       "  }\n",
       "  function is_loaded(root) {\n",
       "    var Bokeh = get_bokeh(root)\n",
       "    return (Bokeh != null && Bokeh.Panel !== undefined)\n",
       "  }\n",
       "  if (is_loaded(root)) {\n",
       "    embed_document(root);\n",
       "  } else {\n",
       "    var attempts = 0;\n",
       "    var timer = setInterval(function(root) {\n",
       "      if (is_loaded(root)) {\n",
       "        clearInterval(timer);\n",
       "        embed_document(root);\n",
       "      } else if (document.readyState == \"complete\") {\n",
       "        attempts++;\n",
       "        if (attempts > 200) {\n",
       "          clearInterval(timer);\n",
       "\t  var Bokeh = get_bokeh(root)\n",
       "\t  if (Bokeh == null || Bokeh.Panel == null) {\n",
       "            console.warn(\"Panel: ERROR: Unable to run Panel code because Bokeh or Panel library is missing\");\n",
       "\t  } else {\n",
       "\t    console.warn(\"Panel: WARNING: Attempting to render but not all required libraries could be resolved.\")\n",
       "\t    embed_document(root)\n",
       "\t  }\n",
       "        }\n",
       "      }\n",
       "    }, 25, root)\n",
       "  }\n",
       "})(window);</script>"
      ],
      "text/plain": [
       ":Sankey   [start,end]   (Value)"
      ]
     },
     "execution_count": 174,
     "metadata": {
      "application/vnd.holoviews_exec.v0+json": {
       "id": "p1176"
      }
     },
     "output_type": "execute_result"
    }
   ],
   "source": [
    "sankey = hv.Sankey([\n",
    "    ['A', 'X', 5],\n",
    "    ['A', 'Y', 7],\n",
    "    ['A', 'Z', 6],\n",
    "    ['B', 'X', 2],\n",
    "    ['B', 'Y', 9],\n",
    "    ['B', 'Z', 4],\n",
    "    ['Z', 'J', 3],\n",
    "]\n",
    ")\n",
    "sankey.opts(width=600, height=400)"
   ]
  },
  {
   "cell_type": "code",
   "execution_count": null,
   "id": "272f5dff",
   "metadata": {},
   "outputs": [],
   "source": []
  }
 ],
 "metadata": {
  "kernelspec": {
   "display_name": "Python 3 (ipykernel)",
   "language": "python",
   "name": "python3"
  },
  "language_info": {
   "codemirror_mode": {
    "name": "ipython",
    "version": 3
   },
   "file_extension": ".py",
   "mimetype": "text/x-python",
   "name": "python",
   "nbconvert_exporter": "python",
   "pygments_lexer": "ipython3",
   "version": "3.10.13"
  }
 },
 "nbformat": 4,
 "nbformat_minor": 5
}
